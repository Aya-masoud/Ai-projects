{
 "cells": [
  {
   "cell_type": "code",
   "execution_count": 3,
   "metadata": {},
   "outputs": [],
   "source": [
    "from bs4 import BeautifulSoup\n",
    "import requests\n",
    "import csv"
   ]
  },
  {
   "cell_type": "code",
   "execution_count": 9,
   "metadata": {},
   "outputs": [
    {
     "data": {
      "text/plain": [
       "40"
      ]
     },
     "execution_count": 9,
     "metadata": {},
     "output_type": "execute_result"
    }
   ],
   "source": [
    "csvfilebs4=open('bs4scrapping33online.csv','w',encoding='utf-8')\n",
    "csvwriter=csv.writer(csvfilebs4)\n",
    "csvwriter.writerow(['jobtitle','location','companyName','jobsrequ'])"
   ]
  },
  {
   "cell_type": "code",
   "execution_count": null,
   "metadata": {},
   "outputs": [],
   "source": [
    "for i in range(1,6):\n",
    "    url=f'https://www.bayt.com/en/egypt/jobs/ai-engineering-jobs/?page={i}&_gl=1*180kvvm*_up*MQ..*_ga*MTcxNjkxMzA0My4xNzQxODk5Nzky*_ga_1NKPLGNKKD*MTc0MTg5OTc5MS4xLjAuMTc0MTg5OTc5MS4wLjAuMA..'\n",
    "    websit2=requests.get(url).text\n",
    "    mywebsite2=BeautifulSoup(websit2,'lxml')\n",
    "    jobs=mywebsite2.find_all('li',class_=\"has-pointer-d\")\n",
    "   \n",
    "   \n",
    "    for job in jobs:\n",
    "        jobtitle = job.find('div', attrs=\"row is-compact is-m no-wrap\").text.strip()\n",
    "        location = job.find('div', attrs=\"t-mute t-small\").text.strip()\n",
    "        companyName=job.find('div',class_=\"t-nowrap\").text.strip()  \n",
    "        jobsrequ=job.find('div',class_=\"jb-descr m10t t-small\").text.strip()\n",
    "        csvwriter.writerow([jobtitle,location,companyName,jobsrequ])"
   ]
  },
  {
   "cell_type": "code",
   "execution_count": null,
   "metadata": {},
   "outputs": [],
   "source": []
  }
 ],
 "metadata": {
  "kernelspec": {
   "display_name": "base",
   "language": "python",
   "name": "python3"
  },
  "language_info": {
   "codemirror_mode": {
    "name": "ipython",
    "version": 3
   },
   "file_extension": ".py",
   "mimetype": "text/x-python",
   "name": "python",
   "nbconvert_exporter": "python",
   "pygments_lexer": "ipython3",
   "version": "3.9.13"
  }
 },
 "nbformat": 4,
 "nbformat_minor": 2
}
