{
 "cells": [
  {
   "cell_type": "code",
   "execution_count": 2,
   "metadata": {},
   "outputs": [],
   "source": [
    "from selenium import webdriver\n",
    "from selenium.webdriver.chrome.service import Service\n",
    "from webdriver_manager.chrome import ChromeDriverManager\n",
    "from selenium.webdriver.common.by import By\n",
    "import csv"
   ]
  },
  {
   "cell_type": "code",
   "execution_count": 3,
   "metadata": {},
   "outputs": [],
   "source": [
    "service = Service(ChromeDriverManager().install())\n",
    "driver = webdriver.Chrome(service=service)"
   ]
  },
  {
   "cell_type": "code",
   "execution_count": 6,
   "metadata": {},
   "outputs": [
    {
     "data": {
      "text/plain": [
       "32"
      ]
     },
     "execution_count": 6,
     "metadata": {},
     "output_type": "execute_result"
    }
   ],
   "source": [
    "csvfilescrapping=open('scraping_ai_jobs33onlineselenium.csv',mode='w',encoding='utf-8')\n",
    "writer=csv.writer(csvfilescrapping)\n",
    "writer.writerow(['job title','location','requerments'])"
   ]
  },
  {
   "cell_type": "code",
   "execution_count": 7,
   "metadata": {},
   "outputs": [],
   "source": [
    "for i in range(1,6):\n",
    "    driver.get(f'https://www.bayt.com/en/egypt/jobs/ai-engineering-jobs/?page=2&_gl={i}*14k619h*_up*MQ..*_ga*MjA5NzY3NjM2MS4xNzQxODY4ODE4*_ga_1NKPLGNKKD*MTc0MTg3MTg0Ni4yLjAuMTc0MTg3MTg0Ni4wLjAuMA..')\n",
    "    titles=driver.find_elements(By.XPATH,'//h2[@class=\"col u-stretch t-large m0 t-nowrap-d t-trim\"]')\n",
    "    locations=driver.find_elements(By.XPATH,'//div[@class=\"t-nowrap p10l\"]')\n",
    "    jobsRequs=driver.find_elements(By.XPATH,'//div[@class=\"jb-descr m10t t-small\"]')\n",
    "    for title in range(len(titles)):\n",
    "       writer.writerow([titles[title].text.strip(),locations[title].text.strip(),f\"{jobsRequs[title].text.strip()} \"])\n",
    "    "
   ]
  },
  {
   "cell_type": "code",
   "execution_count": null,
   "metadata": {},
   "outputs": [
    {
     "ename": "",
     "evalue": "",
     "output_type": "error",
     "traceback": [
      "\u001b[1;31mThe kernel failed to start as a dll could not be loaded.\n",
      "\u001b[1;31mClick <a href='https://aka.ms/kernelFailuresDllLoad'>here</a> for more info."
     ]
    }
   ],
   "source": [
    "import matplotlib.pyplot as plt"
   ]
  },
  {
   "cell_type": "code",
   "execution_count": null,
   "metadata": {},
   "outputs": [],
   "source": []
  }
 ],
 "metadata": {
  "kernelspec": {
   "display_name": "base",
   "language": "python",
   "name": "python3"
  },
  "language_info": {
   "codemirror_mode": {
    "name": "ipython",
    "version": 3
   },
   "file_extension": ".py",
   "mimetype": "text/x-python",
   "name": "python",
   "nbconvert_exporter": "python",
   "pygments_lexer": "ipython3",
   "version": "3.9.13"
  }
 },
 "nbformat": 4,
 "nbformat_minor": 2
}
