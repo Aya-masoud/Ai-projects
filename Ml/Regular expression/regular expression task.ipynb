{
 "cells": [
  {
   "cell_type": "code",
   "execution_count": 34,
   "metadata": {},
   "outputs": [],
   "source": [
    "import re"
   ]
  },
  {
   "cell_type": "code",
   "execution_count": 71,
   "metadata": {},
   "outputs": [],
   "source": [
    "regularData=open(r\"D:\\AI instant\\project\\Regular expression\\regularDatafile.txt\",mode='r')"
   ]
  },
  {
   "cell_type": "code",
   "execution_count": 72,
   "metadata": {},
   "outputs": [],
   "source": [
    "readableData=regularData.read()"
   ]
  },
  {
   "cell_type": "code",
   "execution_count": 73,
   "metadata": {},
   "outputs": [
    {
     "data": {
      "text/plain": [
       "'Ahmed Hafez 0102345678 ahmed@gmail.com\\nAli Osama 0124342342 ali@gmail.com\\nMohamed Nasser 0115566778 mohamed@gmail.com\\nOmar Khaled 0109988776 omar@gmail.com\\nHassan Mostafa 0126677889 hassan@gmail.com\\nYoussef Adel 0113344556 youssef@gmail.com\\nKarim Tamer 0107766554 karim@gmail.com\\nMahmoud Saeed 0128899007 mahmoud@gmail.com\\nTarek Samir 0112233445 tarek@gmail.com\\nWalid Ehab 0101122334 walid@gmail.com'"
      ]
     },
     "execution_count": 73,
     "metadata": {},
     "output_type": "execute_result"
    }
   ],
   "source": [
    "readableData"
   ]
  },
  {
   "cell_type": "code",
   "execution_count": 91,
   "metadata": {},
   "outputs": [
    {
     "data": {
      "text/plain": [
       "'Ahmed Hafez 0102345678 ahmed@gmail.com Ali Osama 0124342342 ali@gmail.com Mohamed Nasser 0115566778 mohamed@gmail.com Omar Khaled 0109988776 omar@gmail.com Hassan Mostafa 0126677889 hassan@gmail.com Youssef Adel 0113344556 youssef@gmail.com Karim Tamer 0107766554 karim@gmail.com Mahmoud Saeed 0128899007 mahmoud@gmail.com Tarek Samir 0112233445 tarek@gmail.com Walid Ehab 0101122334 walid@gmail.com'"
      ]
     },
     "execution_count": 91,
     "metadata": {},
     "output_type": "execute_result"
    }
   ],
   "source": [
    "readableData=readableData.replace('\\n',\" \")\n",
    "readableData"
   ]
  },
  {
   "cell_type": "code",
   "execution_count": 22,
   "metadata": {},
   "outputs": [
    {
     "data": {
      "text/plain": [
       "'Ahmed Hafez 0102345678 ahmed@gmail.com\\nAli Osama 0124342342 ali@gmail.com\\nMohamed Nasser 0115566778 mohamed@gmail.com\\nOmar Khaled 0109988776 omar@gmail.com\\nHassan Mostafa 0126677889 hassan@gmail.com\\nYoussef Adel 0113344556 youssef@gmail.com\\nKarim Tamer 0107766554 karim@gmail.com\\nMahmoud Saeed 0128899007 mahmoud@gmail.com\\nTarek Samir 0112233445 tarek@gmail.com\\nWalid Ehab 0101122334 walid@gmail.com'"
      ]
     },
     "execution_count": 22,
     "metadata": {},
     "output_type": "execute_result"
    }
   ],
   "source": [
    "readableData"
   ]
  },
  {
   "cell_type": "code",
   "execution_count": 132,
   "metadata": {},
   "outputs": [
    {
     "data": {
      "text/plain": [
       "['Ahmed Hafez',\n",
       " 'Ali Osama',\n",
       " 'Mohamed Nasser',\n",
       " 'Omar Khaled',\n",
       " 'Hassan Mostafa',\n",
       " 'Youssef Adel',\n",
       " 'Karim Tamer',\n",
       " 'Mahmoud Saeed',\n",
       " 'Tarek Samir',\n",
       " 'Walid Ehab']"
      ]
     },
     "execution_count": 132,
     "metadata": {},
     "output_type": "execute_result"
    }
   ],
   "source": [
    "pattern=re.compile(r'[A-Z][a-z]+\\s[A-Z][a-z]+')\n",
    "matches=pattern.finditer(readableData)\n",
    "namelist=[]\n",
    "for item in matches:\n",
    "    namelist.append(readableData[item.span()[0]:item.span()[1]])\n",
    "\n",
    "namelist"
   ]
  },
  {
   "cell_type": "code",
   "execution_count": 116,
   "metadata": {},
   "outputs": [
    {
     "data": {
      "text/plain": [
       "['0102345678',\n",
       " '0124342342',\n",
       " '0115566778',\n",
       " '0109988776',\n",
       " '0126677889',\n",
       " '0113344556',\n",
       " '0107766554',\n",
       " '0128899007',\n",
       " '0112233445',\n",
       " '0101122334']"
      ]
     },
     "execution_count": 116,
     "metadata": {},
     "output_type": "execute_result"
    }
   ],
   "source": [
    "pattern=re.compile(r'[0-9]+')\n",
    "matches=pattern.finditer(readableData)\n",
    "phonenumbers=[]\n",
    "for item in matches:\n",
    "    phonenumbers.append(readableData[item.span()[0]:item.span()[1]])\n",
    "phonenumbers"
   ]
  },
  {
   "cell_type": "code",
   "execution_count": 126,
   "metadata": {},
   "outputs": [
    {
     "data": {
      "text/plain": [
       "['ahmed@gmail.com',\n",
       " 'ali@gmail.com',\n",
       " 'mohamed@gmail.com',\n",
       " 'omar@gmail.com',\n",
       " 'hassan@gmail.com',\n",
       " 'youssef@gmail.com',\n",
       " 'karim@gmail.com',\n",
       " 'mahmoud@gmail.com',\n",
       " 'tarek@gmail.com',\n",
       " 'walid@gmail.com']"
      ]
     },
     "execution_count": 126,
     "metadata": {},
     "output_type": "execute_result"
    }
   ],
   "source": [
    "pattern=re.compile(r'[a-z]+@[a-z]+\\.(com|net)')\n",
    "matches=pattern.finditer(readableData)\n",
    "emailList=[]\n",
    "for item in matches:\n",
    "    emailList.append(readableData[item.span()[0]:item.span()[1]])\n",
    "emailList"
   ]
  },
  {
   "cell_type": "markdown",
   "metadata": {},
   "source": [
    "unorder Data file"
   ]
  },
  {
   "cell_type": "code",
   "execution_count": 145,
   "metadata": {},
   "outputs": [],
   "source": [
    "unorderDatafile=open(r'D:\\AI instant\\project\\Regular expression\\ghunorderedfile.txt',mode=\"r+\")"
   ]
  },
  {
   "cell_type": "code",
   "execution_count": null,
   "metadata": {},
   "outputs": [
    {
     "data": {
      "text/plain": [
       "'Ahmed Hafez, ahmed@gmail.com, 0102345678\\n0124342342, Ali Osama, ali@gmail.com\\nMohamed Nasser, mohamed@gmail.com, 0115566778\\n0109988776, Omar Khaled, omar@gmail.com\\nHassan Mostafa, 0126677889, hassan@gmail.com\\n0113344556, youssef@gmail.com, Youssef Adel\\n0107766554, Karim Tamer, karim@gmail.com\\nMahmoud Saeed, 0128899007, mahmoud@gmail.com\\nTarek Samir, tarek@gmail.com, 0112233445\\nwalid@gmail.com, 0101122334, Walid Ehab\\n\\n'"
      ]
     },
     "execution_count": 146,
     "metadata": {},
     "output_type": "execute_result"
    }
   ],
   "source": [
    "unorderDatafilereadable=unorderDatafile.read()\n",
    "unorderDatafilereadable"
   ]
  },
  {
   "cell_type": "code",
   "execution_count": 147,
   "metadata": {},
   "outputs": [
    {
     "data": {
      "text/plain": [
       "'Ahmed Hafez, ahmed@gmail.com, 0102345678 0124342342, Ali Osama, ali@gmail.com Mohamed Nasser, mohamed@gmail.com, 0115566778 0109988776, Omar Khaled, omar@gmail.com Hassan Mostafa, 0126677889, hassan@gmail.com 0113344556, youssef@gmail.com, Youssef Adel 0107766554, Karim Tamer, karim@gmail.com Mahmoud Saeed, 0128899007, mahmoud@gmail.com Tarek Samir, tarek@gmail.com, 0112233445 walid@gmail.com, 0101122334, Walid Ehab  '"
      ]
     },
     "execution_count": 147,
     "metadata": {},
     "output_type": "execute_result"
    }
   ],
   "source": [
    "unorderDatafilereadable=unorderDatafilereadable.replace('\\n',\" \")\n",
    "unorderDatafilereadable"
   ]
  },
  {
   "cell_type": "code",
   "execution_count": 150,
   "metadata": {},
   "outputs": [
    {
     "data": {
      "text/plain": [
       "['Ahmed Hafez',\n",
       " 'Ali Osama',\n",
       " 'Mohamed Nasser',\n",
       " 'Omar Khaled',\n",
       " 'Hassan Mostafa',\n",
       " 'Youssef Adel',\n",
       " 'Karim Tamer',\n",
       " 'Mahmoud Saeed',\n",
       " 'Tarek Samir',\n",
       " 'Walid Ehab']"
      ]
     },
     "execution_count": 150,
     "metadata": {},
     "output_type": "execute_result"
    }
   ],
   "source": [
    "pattern=re.compile(r'\\b[A-Z][a-z]+\\s[A-Z][a-z]+\\b')\n",
    "matches=pattern.finditer(unorderDatafilereadable)\n",
    "namelistnuorder=[]\n",
    "for item in matches:\n",
    "    namelistnuorder.append(unorderDatafilereadable[item.span()[0]:item.span()[1]])\n",
    "\n",
    "namelistnuorder"
   ]
  },
  {
   "cell_type": "code",
   "execution_count": 152,
   "metadata": {},
   "outputs": [
    {
     "data": {
      "text/plain": [
       "['0102345678',\n",
       " '0124342342',\n",
       " '0115566778',\n",
       " '0109988776',\n",
       " '0126677889',\n",
       " '0113344556',\n",
       " '0107766554',\n",
       " '0128899007',\n",
       " '0112233445',\n",
       " '0101122334']"
      ]
     },
     "execution_count": 152,
     "metadata": {},
     "output_type": "execute_result"
    }
   ],
   "source": [
    "pattern=re.compile(r'[0-9]+')\n",
    "matches=pattern.finditer(unorderDatafilereadable)\n",
    "phonenumbersunoerder=[]\n",
    "for item in matches:\n",
    "    phonenumbersunoerder.append(unorderDatafilereadable[item.span()[0]:item.span()[1]])\n",
    "phonenumbersunoerder"
   ]
  },
  {
   "cell_type": "code",
   "execution_count": 153,
   "metadata": {},
   "outputs": [
    {
     "data": {
      "text/plain": [
       "['ahmed@gmail.com',\n",
       " 'ali@gmail.com',\n",
       " 'mohamed@gmail.com',\n",
       " 'omar@gmail.com',\n",
       " 'hassan@gmail.com',\n",
       " 'youssef@gmail.com',\n",
       " 'karim@gmail.com',\n",
       " 'mahmoud@gmail.com',\n",
       " 'tarek@gmail.com',\n",
       " 'walid@gmail.com']"
      ]
     },
     "execution_count": 153,
     "metadata": {},
     "output_type": "execute_result"
    }
   ],
   "source": [
    "pattern=re.compile(r'[a-z]+@[a-z]+\\.(com|net)')\n",
    "matches=pattern.finditer(unorderDatafilereadable)\n",
    "emailListnuorder=[]\n",
    "for item in matches:\n",
    "    emailListnuorder.append(unorderDatafilereadable[item.span()[0]:item.span()[1]])\n",
    "emailListnuorder"
   ]
  }
 ],
 "metadata": {
  "kernelspec": {
   "display_name": "base",
   "language": "python",
   "name": "python3"
  },
  "language_info": {
   "codemirror_mode": {
    "name": "ipython",
    "version": 3
   },
   "file_extension": ".py",
   "mimetype": "text/x-python",
   "name": "python",
   "nbconvert_exporter": "python",
   "pygments_lexer": "ipython3",
   "version": "3.9.13"
  }
 },
 "nbformat": 4,
 "nbformat_minor": 2
}
