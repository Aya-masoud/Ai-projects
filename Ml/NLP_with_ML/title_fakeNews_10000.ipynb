{
 "cells": [
  {
   "cell_type": "code",
   "execution_count": 2,
   "id": "d9738f1a",
   "metadata": {},
   "outputs": [],
   "source": [
    "import pandas as pd \n",
    "import numpy as np\n",
    "import seaborn as sns\n",
    "import nltk\n"
   ]
  },
  {
   "cell_type": "code",
   "execution_count": 3,
   "id": "7addae1d",
   "metadata": {},
   "outputs": [
    {
     "name": "stderr",
     "output_type": "stream",
     "text": [
      "[nltk_data] Error loading stopwords: <urlopen error [Errno 11001]\n",
      "[nltk_data]     getaddrinfo failed>\n",
      "[nltk_data] Error loading wordnet: <urlopen error [Errno 11001]\n",
      "[nltk_data]     getaddrinfo failed>\n"
     ]
    },
    {
     "data": {
      "text/plain": [
       "False"
      ]
     },
     "execution_count": 3,
     "metadata": {},
     "output_type": "execute_result"
    }
   ],
   "source": [
    "import re\n",
    "from nltk.corpus  import wordnet\n",
    "nltk.download(\"stopwords\")\n",
    "nltk.download(\"wordnet\")"
   ]
  },
  {
   "cell_type": "code",
   "execution_count": 4,
   "id": "1a9ccd08",
   "metadata": {},
   "outputs": [
    {
     "name": "stderr",
     "output_type": "stream",
     "text": [
      "C:\\Users\\zas\\AppData\\Local\\Temp\\ipykernel_16288\\1975891199.py:1: DtypeWarning: Columns (3) have mixed types. Specify dtype option on import or set low_memory=False.\n",
      "  df = pd.read_csv(\"WELFake_Dataset.csv\", encoding=\"latin1\",usecols=[\"title\",\"text\",\"label\"])\n"
     ]
    }
   ],
   "source": [
    "df = pd.read_csv(\"WELFake_Dataset.csv\", encoding=\"latin1\",usecols=[\"title\",\"text\",\"label\"])\n",
    "df_0=df[df[\"label\"]==0].sample(5000)\n",
    "df_1=df[df[\"label\"]==1].sample(5000)\n"
   ]
  },
  {
   "cell_type": "code",
   "execution_count": 5,
   "id": "efcd04f2",
   "metadata": {},
   "outputs": [
    {
     "data": {
      "text/plain": [
       "Index(['title', 'text', 'label'], dtype='object')"
      ]
     },
     "execution_count": 5,
     "metadata": {},
     "output_type": "execute_result"
    }
   ],
   "source": [
    "df.columns"
   ]
  },
  {
   "cell_type": "code",
   "execution_count": 6,
   "id": "d3e22fe8",
   "metadata": {},
   "outputs": [
    {
     "data": {
      "text/html": [
       "<div>\n",
       "<style scoped>\n",
       "    .dataframe tbody tr th:only-of-type {\n",
       "        vertical-align: middle;\n",
       "    }\n",
       "\n",
       "    .dataframe tbody tr th {\n",
       "        vertical-align: top;\n",
       "    }\n",
       "\n",
       "    .dataframe thead th {\n",
       "        text-align: right;\n",
       "    }\n",
       "</style>\n",
       "<table border=\"1\" class=\"dataframe\">\n",
       "  <thead>\n",
       "    <tr style=\"text-align: right;\">\n",
       "      <th></th>\n",
       "      <th>title</th>\n",
       "      <th>text</th>\n",
       "      <th>label</th>\n",
       "    </tr>\n",
       "  </thead>\n",
       "  <tbody>\n",
       "    <tr>\n",
       "      <th>74755</th>\n",
       "      <td>China's Xi tells India's Modi to safeguard pea...</td>\n",
       "      <td>BEIJING (Reuters) - China s President Xi Jinpi...</td>\n",
       "      <td>0</td>\n",
       "    </tr>\n",
       "    <tr>\n",
       "      <th>66819</th>\n",
       "      <td>Yazidis to Anti-Trumpers: Where Were You Durin...</td>\n",
       "      <td>Outrage over President Donald Trumpâs execut...</td>\n",
       "      <td>0</td>\n",
       "    </tr>\n",
       "    <tr>\n",
       "      <th>62700</th>\n",
       "      <td>Irish PM 'doing everything he can' to avoid el...</td>\n",
       "      <td>DUBLIN (Reuters) - Irish Prime Minister Leo Va...</td>\n",
       "      <td>0.0</td>\n",
       "    </tr>\n",
       "    <tr>\n",
       "      <th>63477</th>\n",
       "      <td>Trump considers retired General Petraeus as to...</td>\n",
       "      <td>WASHINGTON (Reuters) - Donald Trump will meet ...</td>\n",
       "      <td>0.0</td>\n",
       "    </tr>\n",
       "    <tr>\n",
       "      <th>48341</th>\n",
       "      <td>Catalonia independence drive second largest co...</td>\n",
       "      <td>MADRID (Reuters) - The independence drive in S...</td>\n",
       "      <td>0</td>\n",
       "    </tr>\n",
       "  </tbody>\n",
       "</table>\n",
       "</div>"
      ],
      "text/plain": [
       "                                                   title  \\\n",
       "74755  China's Xi tells India's Modi to safeguard pea...   \n",
       "66819  Yazidis to Anti-Trumpers: Where Were You Durin...   \n",
       "62700  Irish PM 'doing everything he can' to avoid el...   \n",
       "63477  Trump considers retired General Petraeus as to...   \n",
       "48341  Catalonia independence drive second largest co...   \n",
       "\n",
       "                                                    text label  \n",
       "74755  BEIJING (Reuters) - China s President Xi Jinpi...     0  \n",
       "66819  Outrage over President Donald Trumpâs execut...     0  \n",
       "62700  DUBLIN (Reuters) - Irish Prime Minister Leo Va...   0.0  \n",
       "63477  WASHINGTON (Reuters) - Donald Trump will meet ...   0.0  \n",
       "48341  MADRID (Reuters) - The independence drive in S...     0  "
      ]
     },
     "execution_count": 6,
     "metadata": {},
     "output_type": "execute_result"
    }
   ],
   "source": [
    "data=pd.concat([df_0,df_1])\n",
    "data.head()"
   ]
  },
  {
   "cell_type": "code",
   "execution_count": 7,
   "id": "11640828",
   "metadata": {},
   "outputs": [
    {
     "name": "stdout",
     "output_type": "stream",
     "text": [
      "<class 'pandas.core.frame.DataFrame'>\n",
      "Int64Index: 10000 entries, 74755 to 50195\n",
      "Data columns (total 3 columns):\n",
      " #   Column  Non-Null Count  Dtype \n",
      "---  ------  --------------  ----- \n",
      " 0   title   9928 non-null   object\n",
      " 1   text    9996 non-null   object\n",
      " 2   label   10000 non-null  object\n",
      "dtypes: object(3)\n",
      "memory usage: 312.5+ KB\n"
     ]
    }
   ],
   "source": [
    "data.info()"
   ]
  },
  {
   "cell_type": "code",
   "execution_count": 8,
   "id": "cb711e20",
   "metadata": {},
   "outputs": [
    {
     "data": {
      "text/plain": [
       "title    72\n",
       "text      4\n",
       "label     0\n",
       "dtype: int64"
      ]
     },
     "execution_count": 8,
     "metadata": {},
     "output_type": "execute_result"
    }
   ],
   "source": [
    "data.isna().sum()"
   ]
  },
  {
   "cell_type": "code",
   "execution_count": 9,
   "id": "e1287334",
   "metadata": {},
   "outputs": [
    {
     "data": {
      "text/plain": [
       "3"
      ]
     },
     "execution_count": 9,
     "metadata": {},
     "output_type": "execute_result"
    }
   ],
   "source": [
    "len(data.columns)"
   ]
  },
  {
   "cell_type": "code",
   "execution_count": 10,
   "id": "d6835813",
   "metadata": {},
   "outputs": [
    {
     "data": {
      "text/plain": [
       "title    0\n",
       "text     0\n",
       "label    0\n",
       "dtype: int64"
      ]
     },
     "execution_count": 10,
     "metadata": {},
     "output_type": "execute_result"
    }
   ],
   "source": [
    "data.dropna(inplace=True)\n",
    "data.isna().sum()"
   ]
  },
  {
   "cell_type": "code",
   "execution_count": 11,
   "id": "a8a83559",
   "metadata": {},
   "outputs": [
    {
     "data": {
      "text/html": [
       "<div>\n",
       "<style scoped>\n",
       "    .dataframe tbody tr th:only-of-type {\n",
       "        vertical-align: middle;\n",
       "    }\n",
       "\n",
       "    .dataframe tbody tr th {\n",
       "        vertical-align: top;\n",
       "    }\n",
       "\n",
       "    .dataframe thead th {\n",
       "        text-align: right;\n",
       "    }\n",
       "</style>\n",
       "<table border=\"1\" class=\"dataframe\">\n",
       "  <thead>\n",
       "    <tr style=\"text-align: right;\">\n",
       "      <th></th>\n",
       "      <th>index</th>\n",
       "      <th>title</th>\n",
       "      <th>text</th>\n",
       "      <th>label</th>\n",
       "    </tr>\n",
       "  </thead>\n",
       "  <tbody>\n",
       "    <tr>\n",
       "      <th>0</th>\n",
       "      <td>74755</td>\n",
       "      <td>China's Xi tells India's Modi to safeguard pea...</td>\n",
       "      <td>BEIJING (Reuters) - China s President Xi Jinpi...</td>\n",
       "      <td>0</td>\n",
       "    </tr>\n",
       "    <tr>\n",
       "      <th>1</th>\n",
       "      <td>66819</td>\n",
       "      <td>Yazidis to Anti-Trumpers: Where Were You Durin...</td>\n",
       "      <td>Outrage over President Donald Trumpâs execut...</td>\n",
       "      <td>0</td>\n",
       "    </tr>\n",
       "    <tr>\n",
       "      <th>2</th>\n",
       "      <td>62700</td>\n",
       "      <td>Irish PM 'doing everything he can' to avoid el...</td>\n",
       "      <td>DUBLIN (Reuters) - Irish Prime Minister Leo Va...</td>\n",
       "      <td>0.0</td>\n",
       "    </tr>\n",
       "    <tr>\n",
       "      <th>3</th>\n",
       "      <td>63477</td>\n",
       "      <td>Trump considers retired General Petraeus as to...</td>\n",
       "      <td>WASHINGTON (Reuters) - Donald Trump will meet ...</td>\n",
       "      <td>0.0</td>\n",
       "    </tr>\n",
       "    <tr>\n",
       "      <th>4</th>\n",
       "      <td>48341</td>\n",
       "      <td>Catalonia independence drive second largest co...</td>\n",
       "      <td>MADRID (Reuters) - The independence drive in S...</td>\n",
       "      <td>0</td>\n",
       "    </tr>\n",
       "  </tbody>\n",
       "</table>\n",
       "</div>"
      ],
      "text/plain": [
       "   index                                              title  \\\n",
       "0  74755  China's Xi tells India's Modi to safeguard pea...   \n",
       "1  66819  Yazidis to Anti-Trumpers: Where Were You Durin...   \n",
       "2  62700  Irish PM 'doing everything he can' to avoid el...   \n",
       "3  63477  Trump considers retired General Petraeus as to...   \n",
       "4  48341  Catalonia independence drive second largest co...   \n",
       "\n",
       "                                                text label  \n",
       "0  BEIJING (Reuters) - China s President Xi Jinpi...     0  \n",
       "1  Outrage over President Donald Trumpâs execut...     0  \n",
       "2  DUBLIN (Reuters) - Irish Prime Minister Leo Va...   0.0  \n",
       "3  WASHINGTON (Reuters) - Donald Trump will meet ...   0.0  \n",
       "4  MADRID (Reuters) - The independence drive in S...     0  "
      ]
     },
     "execution_count": 11,
     "metadata": {},
     "output_type": "execute_result"
    }
   ],
   "source": [
    "data.reset_index(inplace=True)\n",
    "data.head()"
   ]
  },
  {
   "cell_type": "code",
   "execution_count": 12,
   "id": "ddf3da62",
   "metadata": {},
   "outputs": [
    {
     "data": {
      "text/plain": [
       "(9924, 4)"
      ]
     },
     "execution_count": 12,
     "metadata": {},
     "output_type": "execute_result"
    }
   ],
   "source": [
    "data.shape"
   ]
  },
  {
   "cell_type": "code",
   "execution_count": 13,
   "id": "07e41185",
   "metadata": {},
   "outputs": [],
   "source": [
    "X=data.drop(\"label\",axis=1)\n",
    "y=data.label"
   ]
  },
  {
   "cell_type": "code",
   "execution_count": 14,
   "id": "14809234",
   "metadata": {},
   "outputs": [
    {
     "data": {
      "text/plain": [
       "0      0\n",
       "1      0\n",
       "2    0.0\n",
       "3    0.0\n",
       "4      0\n",
       "Name: label, dtype: object"
      ]
     },
     "execution_count": 14,
     "metadata": {},
     "output_type": "execute_result"
    }
   ],
   "source": [
    "y.head()"
   ]
  },
  {
   "cell_type": "code",
   "execution_count": 15,
   "id": "ebf74ab4",
   "metadata": {},
   "outputs": [],
   "source": [
    "messages = X.copy()"
   ]
  },
  {
   "cell_type": "code",
   "execution_count": 16,
   "id": "53717f89",
   "metadata": {},
   "outputs": [
    {
     "data": {
      "text/html": [
       "<div>\n",
       "<style scoped>\n",
       "    .dataframe tbody tr th:only-of-type {\n",
       "        vertical-align: middle;\n",
       "    }\n",
       "\n",
       "    .dataframe tbody tr th {\n",
       "        vertical-align: top;\n",
       "    }\n",
       "\n",
       "    .dataframe thead th {\n",
       "        text-align: right;\n",
       "    }\n",
       "</style>\n",
       "<table border=\"1\" class=\"dataframe\">\n",
       "  <thead>\n",
       "    <tr style=\"text-align: right;\">\n",
       "      <th></th>\n",
       "      <th>index</th>\n",
       "      <th>title</th>\n",
       "      <th>text</th>\n",
       "    </tr>\n",
       "  </thead>\n",
       "  <tbody>\n",
       "    <tr>\n",
       "      <th>0</th>\n",
       "      <td>74755</td>\n",
       "      <td>China's Xi tells India's Modi to safeguard pea...</td>\n",
       "      <td>BEIJING (Reuters) - China s President Xi Jinpi...</td>\n",
       "    </tr>\n",
       "    <tr>\n",
       "      <th>1</th>\n",
       "      <td>66819</td>\n",
       "      <td>Yazidis to Anti-Trumpers: Where Were You Durin...</td>\n",
       "      <td>Outrage over President Donald Trumpâs execut...</td>\n",
       "    </tr>\n",
       "    <tr>\n",
       "      <th>2</th>\n",
       "      <td>62700</td>\n",
       "      <td>Irish PM 'doing everything he can' to avoid el...</td>\n",
       "      <td>DUBLIN (Reuters) - Irish Prime Minister Leo Va...</td>\n",
       "    </tr>\n",
       "    <tr>\n",
       "      <th>3</th>\n",
       "      <td>63477</td>\n",
       "      <td>Trump considers retired General Petraeus as to...</td>\n",
       "      <td>WASHINGTON (Reuters) - Donald Trump will meet ...</td>\n",
       "    </tr>\n",
       "    <tr>\n",
       "      <th>4</th>\n",
       "      <td>48341</td>\n",
       "      <td>Catalonia independence drive second largest co...</td>\n",
       "      <td>MADRID (Reuters) - The independence drive in S...</td>\n",
       "    </tr>\n",
       "  </tbody>\n",
       "</table>\n",
       "</div>"
      ],
      "text/plain": [
       "   index                                              title  \\\n",
       "0  74755  China's Xi tells India's Modi to safeguard pea...   \n",
       "1  66819  Yazidis to Anti-Trumpers: Where Were You Durin...   \n",
       "2  62700  Irish PM 'doing everything he can' to avoid el...   \n",
       "3  63477  Trump considers retired General Petraeus as to...   \n",
       "4  48341  Catalonia independence drive second largest co...   \n",
       "\n",
       "                                                text  \n",
       "0  BEIJING (Reuters) - China s President Xi Jinpi...  \n",
       "1  Outrage over President Donald Trumpâs execut...  \n",
       "2  DUBLIN (Reuters) - Irish Prime Minister Leo Va...  \n",
       "3  WASHINGTON (Reuters) - Donald Trump will meet ...  \n",
       "4  MADRID (Reuters) - The independence drive in S...  "
      ]
     },
     "execution_count": 16,
     "metadata": {},
     "output_type": "execute_result"
    }
   ],
   "source": [
    "messages.head()"
   ]
  },
  {
   "cell_type": "code",
   "execution_count": 17,
   "id": "dfd11f1e",
   "metadata": {},
   "outputs": [],
   "source": [
    "from nltk.corpus import stopwords\n",
    "from nltk.stem import PorterStemmer,WordNetLemmatizer\n",
    "ps=PorterStemmer()\n",
    "lm=WordNetLemmatizer()\n",
    "corpus=[]\n",
    "for  var in range(len(messages)):\n",
    "   review=re.sub(\"[^a-zA-Z0_9]\",\" \",messages[\"title\"][var])\n",
    "   review=review.lower()\n",
    "   review=review.split()\n",
    "   review=[lm.lemmatize(x) for x in review if  x not in  stopwords.words(\"english\")]\n",
    "   review=\" \".join(review)\n",
    "   corpus.append(review)"
   ]
  },
  {
   "cell_type": "code",
   "execution_count": 18,
   "id": "533ee53c",
   "metadata": {},
   "outputs": [
    {
     "data": {
      "text/plain": [
       "['china xi tell india modi safeguard peace border area medium',\n",
       " 'yazidis anti trumpers genocide u',\n",
       " 'irish pm everything avoid election spokesman',\n",
       " 'trump considers retired general petraeus top diplomat bloomberg',\n",
       " 'catalonia independence drive second largest concern unemployment poll']"
      ]
     },
     "execution_count": 18,
     "metadata": {},
     "output_type": "execute_result"
    }
   ],
   "source": [
    "corpus[0:5]"
   ]
  },
  {
   "cell_type": "code",
   "execution_count": 19,
   "id": "f46a553e",
   "metadata": {},
   "outputs": [
    {
     "name": "stdout",
     "output_type": "stream",
     "text": [
      "89973\n"
     ]
    }
   ],
   "source": [
    "print(sum(len(var.split())for var in corpus))"
   ]
  },
  {
   "cell_type": "code",
   "execution_count": 20,
   "id": "66530880",
   "metadata": {},
   "outputs": [
    {
     "name": "stdout",
     "output_type": "stream",
     "text": [
      "47\n"
     ]
    }
   ],
   "source": [
    "print(max(len(var.split()) for var in corpus))"
   ]
  },
  {
   "cell_type": "code",
   "execution_count": 21,
   "id": "a0c21d61",
   "metadata": {},
   "outputs": [
    {
     "data": {
      "text/plain": [
       "9924"
      ]
     },
     "execution_count": 21,
     "metadata": {},
     "output_type": "execute_result"
    }
   ],
   "source": [
    "len(corpus)"
   ]
  },
  {
   "cell_type": "code",
   "execution_count": 22,
   "id": "bc916153",
   "metadata": {},
   "outputs": [],
   "source": [
    "from sklearn.feature_extraction.text import TfidfVectorizer\n",
    "tfidf=TfidfVectorizer(max_features=10000,ngram_range=(1,3))\n",
    "x=tfidf.fit_transform(corpus).toarray()\n"
   ]
  },
  {
   "cell_type": "code",
   "execution_count": 23,
   "id": "3c29895a",
   "metadata": {},
   "outputs": [
    {
     "data": {
      "text/plain": [
       "dtype('int32')"
      ]
     },
     "execution_count": 23,
     "metadata": {},
     "output_type": "execute_result"
    }
   ],
   "source": [
    "y = data[\"label\"]\n",
    "y=y.astype(np.int32())\n",
    "y.dtype\n"
   ]
  },
  {
   "cell_type": "code",
   "execution_count": 24,
   "id": "379598b2",
   "metadata": {},
   "outputs": [
    {
     "data": {
      "text/plain": [
       "0"
      ]
     },
     "execution_count": 24,
     "metadata": {},
     "output_type": "execute_result"
    }
   ],
   "source": [
    "y.isna().sum()"
   ]
  },
  {
   "cell_type": "code",
   "execution_count": 25,
   "id": "d54845e3",
   "metadata": {},
   "outputs": [],
   "source": [
    "from sklearn.model_selection import train_test_split\n",
    "\n",
    "X_train,X_test,y_train,y_test= train_test_split(x,y,test_size=0.2,random_state=42)"
   ]
  },
  {
   "cell_type": "code",
   "execution_count": 26,
   "id": "d6019562",
   "metadata": {},
   "outputs": [],
   "source": [
    "# y_train.isna().sum()\n",
    "# y_train.dtype"
   ]
  },
  {
   "cell_type": "code",
   "execution_count": 27,
   "id": "ece29697",
   "metadata": {},
   "outputs": [
    {
     "data": {
      "text/plain": [
       "RandomForestClassifier()"
      ]
     },
     "execution_count": 27,
     "metadata": {},
     "output_type": "execute_result"
    }
   ],
   "source": [
    "from sklearn.ensemble import RandomForestClassifier\n",
    "rfc=RandomForestClassifier()\n",
    "rfc.fit(X_train,y_train)"
   ]
  },
  {
   "cell_type": "code",
   "execution_count": 28,
   "id": "54169810",
   "metadata": {},
   "outputs": [
    {
     "name": "stdout",
     "output_type": "stream",
     "text": [
      "RandomForestClassifier\n",
      "              precision    recall  f1-score   support\n",
      "\n",
      "           0     0.8860    0.8370    0.8608      1012\n",
      "           1     0.8397    0.8880    0.8631       973\n",
      "\n",
      "    accuracy                         0.8620      1985\n",
      "   macro avg     0.8628    0.8625    0.8620      1985\n",
      "weighted avg     0.8633    0.8620    0.8619      1985\n",
      "\n"
     ]
    },
    {
     "data": {
      "image/png": "[encoded data removed]",
      "text/plain": [
       "<Figure size 500x500 with 2 Axes>"
      ]
     },
     "metadata": {},
     "output_type": "display_data"
    }
   ],
   "source": [
    "y_pred_rfc=rfc.predict(X_test)\n",
    "from sklearn.metrics import classification_report,confusion_matrix\n",
    "import matplotlib.pyplot as plt\n",
    "print(\"RandomForestClassifier\")\n",
    "print(classification_report(y_test,y_pred_rfc,digits=4))\n",
    "cm=confusion_matrix(y_test,y_pred_rfc)\n",
    "plt.figure(figsize=(5,5),dpi=100)\n",
    "sns.heatmap(cm,cmap=\"Blues\",annot=True,fmt=\"d\")\n",
    "\n",
    "plt.xlabel('Predicted Class')\n",
    "plt.ylabel('Real Class')\n",
    "plt.show()\n",
    "\n"
   ]
  },
  {
   "cell_type": "code",
   "execution_count": 29,
   "id": "393d634c",
   "metadata": {},
   "outputs": [
    {
     "data": {
      "text/plain": [
       "MultinomialNB()"
      ]
     },
     "execution_count": 29,
     "metadata": {},
     "output_type": "execute_result"
    }
   ],
   "source": [
    "from sklearn.naive_bayes import MultinomialNB\n",
    "mtnb=MultinomialNB()\n",
    "mtnb.fit(X_train,y_train)\n"
   ]
  },
  {
   "cell_type": "code",
   "execution_count": 30,
   "id": "ad78b735",
   "metadata": {},
   "outputs": [
    {
     "name": "stdout",
     "output_type": "stream",
     "text": [
      "MultinomialNB\n",
      "              precision    recall  f1-score   support\n",
      "\n",
      "           0     0.8860    0.8370    0.8608      1012\n",
      "           1     0.8397    0.8880    0.8631       973\n",
      "\n",
      "    accuracy                         0.8620      1985\n",
      "   macro avg     0.8628    0.8625    0.8620      1985\n",
      "weighted avg     0.8633    0.8620    0.8619      1985\n",
      "\n"
     ]
    },
    {
     "data": {
      "image/png": "[encoded data removed]",
      "text/plain": [
       "<Figure size 500x500 with 2 Axes>"
      ]
     },
     "metadata": {},
     "output_type": "display_data"
    }
   ],
   "source": [
    "y_pred_mtnb=rfc.predict(X_test)\n",
    "\n",
    "print(\"MultinomialNB\")\n",
    "print(classification_report(y_test,y_pred_mtnb,digits=4))\n",
    "cm=confusion_matrix(y_test,y_pred_mtnb)\n",
    "plt.figure(figsize=(5,5),dpi=100)\n",
    "sns.heatmap(cm,cmap=\"Blues\",annot=True,fmt=\"d\")\n",
    "\n",
    "plt.xlabel('Predicted Class')\n",
    "plt.ylabel('Real Class')\n",
    "plt.show()"
   ]
  },
  {
   "cell_type": "code",
   "execution_count": 31,
   "id": "4872db81",
   "metadata": {},
   "outputs": [
    {
     "name": "stdout",
     "output_type": "stream",
     "text": [
      "----------Logistic Regression-------\n",
      " accuracy_score  0.87455919395466\n",
      " precision_score  0.8584158415841584\n",
      " recall_score  0.8910585817060637\n",
      " f1_score  0.8744326777609681\n",
      "\n",
      "\n",
      "----------SVC-------\n",
      " accuracy_score  0.8841309823677582\n",
      " precision_score  0.8703888334995015\n",
      " recall_score  0.8972250770811921\n",
      " f1_score  0.8836032388663967\n",
      "\n",
      "\n",
      "----------SGD Classifier-------\n",
      " accuracy_score  0.8720403022670025\n",
      " precision_score  0.8500486854917235\n",
      " recall_score  0.8972250770811921\n",
      " f1_score  0.873\n",
      "\n",
      "\n",
      "----------Decision Tree Classifier-------\n",
      " accuracy_score  0.8085642317380353\n",
      " precision_score  0.8117770767613038\n",
      " recall_score  0.7934224049331963\n",
      " f1_score  0.8024948024948025\n",
      "\n",
      "\n",
      "----------XG Boosting Classifier-------\n",
      " accuracy_score  0.8468513853904283\n",
      " precision_score  0.8071625344352618\n",
      " recall_score  0.9033915724563206\n",
      " f1_score  0.8525703200775946\n",
      "\n",
      "\n",
      "----------Gradient Boosting Classifier-------\n",
      " accuracy_score  0.8050377833753148\n",
      " precision_score  0.7425496688741722\n",
      " recall_score  0.9218910585817061\n",
      " f1_score  0.8225584594222833\n",
      "\n",
      "\n",
      "----------Ada Boost Classifier-------\n",
      " accuracy_score  0.7717884130982368\n",
      " precision_score  0.7138157894736842\n",
      " recall_score  0.8920863309352518\n",
      " f1_score  0.7930561900411146\n",
      "\n",
      "\n"
     ]
    }
   ],
   "source": [
    "from sklearn.linear_model import LogisticRegression,SGDClassifier\n",
    "from sklearn.svm import SVC\n",
    "from sklearn.tree import DecisionTreeClassifier\n",
    "from sklearn.ensemble import AdaBoostClassifier,VotingClassifier,GradientBoostingClassifier\n",
    "from xgboost import XGBClassifier\n",
    "\n",
    "logistic_regression=LogisticRegression()\n",
    "svm=SVC()\n",
    "sgdclassifier=SGDClassifier()\n",
    "dtc=DecisionTreeClassifier()\n",
    "xgboost=XGBClassifier()\n",
    "gradient_boosting = GradientBoostingClassifier()\n",
    "adaboost = AdaBoostClassifier()\n",
    "from sklearn.metrics import precision_score,accuracy_score,f1_score,recall_score\n",
    "\n",
    "logistic_regression.fit(X_train, y_train)\n",
    "svm.fit(X_train, y_train)\n",
    "sgdclassifier.fit(X_train, y_train)\n",
    "dtc.fit(X_train, y_train)\n",
    "gradient_boosting.fit(X_train, y_train)\n",
    "adaboost.fit(X_train, y_train)\n",
    "xgboost.fit(X_train, y_train)\n",
    "\n",
    "models=[logistic_regression,svm,sgdclassifier,dtc,xgboost,gradient_boosting,adaboost]\n",
    "models_names=[\"Logistic Regression\",\"SVC\",\"SGD Classifier\",\"Decision Tree Classifier\",\"XG Boosting Classifier\",\n",
    "              \"Gradient Boosting Classifier\",\"Ada Boost Classifier\"]\n",
    "for name,model  in zip(models_names,models):\n",
    "  print(f\"----------{name}-------\")\n",
    "  print(f\" accuracy_score  {accuracy_score(y_test,model.predict(X_test))}\")\n",
    "  print(f\" precision_score  {precision_score(y_test,model.predict(X_test))}\")\n",
    "  print(f\" recall_score  {recall_score(y_test,model.predict(X_test))}\")\n",
    "  print(f\" f1_score  {f1_score(y_test,model.predict(X_test))}\")\n",
    "  print(\"\\n\")\n",
    "\n",
    "\n",
    "\n",
    "\n"
   ]
  },
  {
   "cell_type": "code",
   "execution_count": 32,
   "id": "1aa4a2a6",
   "metadata": {},
   "outputs": [
    {
     "data": {
      "text/plain": [
       "VotingClassifier(estimators=[('svm', SVC()), ('dtc', DecisionTreeClassifier()),\n",
       "                             ('logistic_regression', LogisticRegression()),\n",
       "                             ('sgdclassifier', SGDClassifier()),\n",
       "                             ('adaboost', AdaBoostClassifier()),\n",
       "                             ('xgboost',\n",
       "                              XGBClassifier(base_score=None, booster=None,\n",
       "                                            callbacks=None,\n",
       "                                            colsample_bylevel=None,\n",
       "                                            colsample_bynode=None,\n",
       "                                            colsample_bytree=None, device=None,\n",
       "                                            early_stoppin...\n",
       "                                            interaction_constraints=None,\n",
       "                                            learning_rate=None, max_bin=None,\n",
       "                                            max_cat_threshold=None,\n",
       "                                            max_cat_to_onehot=None,\n",
       "                                            max_delta_step=None, max_depth=None,\n",
       "                                            max_leaves=None,\n",
       "                                            min_child_weight=None, missing=nan,\n",
       "                                            monotone_constraints=None,\n",
       "                                            multi_strategy=None,\n",
       "                                            n_estimators=None, n_jobs=None,\n",
       "                                            num_parallel_tree=None,\n",
       "                                            random_state=None, ...)),\n",
       "                             ('gradient_boosting',\n",
       "                              GradientBoostingClassifier())])"
      ]
     },
     "execution_count": 32,
     "metadata": {},
     "output_type": "execute_result"
    }
   ],
   "source": [
    "ensemble=VotingClassifier(estimators=[\n",
    "            (\"svm\",svm),(\"dtc\",dtc),(\"logistic_regression\",logistic_regression),\n",
    "            (\"sgdclassifier\",sgdclassifier),(\"adaboost\",adaboost),(\"xgboost\",xgboost),(\"gradient_boosting\",gradient_boosting)\n",
    "],voting=\"hard\")\n",
    "ensemble.fit(X_train,y_train)\n"
   ]
  },
  {
   "cell_type": "code",
   "execution_count": 33,
   "id": "25ea5ced",
   "metadata": {},
   "outputs": [
    {
     "name": "stdout",
     "output_type": "stream",
     "text": [
      "--- Ensemble (Voting Classifier) ---\n",
      "Accuracy: 0.8680100755667506\n",
      "Precision: 0.8350612629594723\n",
      "Recall: 0.9105858170606372\n",
      "F1 Score: 0.8711897738446411\n",
      "              precision    recall  f1-score   support\n",
      "\n",
      "           0     0.9058    0.8271    0.8647      1012\n",
      "           1     0.8351    0.9106    0.8712       973\n",
      "\n",
      "    accuracy                         0.8680      1985\n",
      "   macro avg     0.8705    0.8688    0.8679      1985\n",
      "weighted avg     0.8711    0.8680    0.8679      1985\n",
      "\n"
     ]
    },
    {
     "data": {
      "image/png": "[encoded data removed]",
      "text/plain": [
       "<Figure size 500x500 with 2 Axes>"
      ]
     },
     "metadata": {},
     "output_type": "display_data"
    }
   ],
   "source": [
    "y_pred_ensemble = ensemble.predict(X_test)\n",
    "\n",
    "print(\"--- Ensemble (Voting Classifier) ---\")\n",
    "print(\"Accuracy:\", accuracy_score(y_test, y_pred_ensemble))\n",
    "print(\"Precision:\", precision_score(y_test, y_pred_ensemble))\n",
    "print(\"Recall:\", recall_score(y_test, y_pred_ensemble))\n",
    "print(\"F1 Score:\", f1_score(y_test, y_pred_ensemble))\n",
    "\n",
    "print(classification_report(y_test,y_pred_ensemble,digits=4))\n",
    "cm=confusion_matrix(y_test,y_pred_ensemble)\n",
    "plt.figure(figsize=(5,5),dpi=100)\n",
    "sns.heatmap(cm,cmap=\"Blues\",annot=True,fmt=\"d\")\n",
    "\n",
    "plt.xlabel('Predicted Class')\n",
    "plt.ylabel('Real Class')\n",
    "plt.show()"
   ]
  },
  {
   "cell_type": "code",
   "execution_count": 34,
   "id": "56c079f1",
   "metadata": {},
   "outputs": [
    {
     "data": {
      "text/plain": [
       "StackingClassifier(estimators=[('dtc', DecisionTreeClassifier()),\n",
       "                               ('logistic_regression', LogisticRegression()),\n",
       "                               ('sgdclassifier', SGDClassifier()),\n",
       "                               ('adaboost', AdaBoostClassifier()),\n",
       "                               ('xgboost',\n",
       "                                XGBClassifier(base_score=None, booster=None,\n",
       "                                              callbacks=None,\n",
       "                                              colsample_bylevel=None,\n",
       "                                              colsample_bynode=None,\n",
       "                                              colsample_bytree=None,\n",
       "                                              device=None,\n",
       "                                              early_stopping_rounds=Non...\n",
       "                                              max_cat_threshold=None,\n",
       "                                              max_cat_to_onehot=None,\n",
       "                                              max_delta_step=None,\n",
       "                                              max_depth=None, max_leaves=None,\n",
       "                                              min_child_weight=None,\n",
       "                                              missing=nan,\n",
       "                                              monotone_constraints=None,\n",
       "                                              multi_strategy=None,\n",
       "                                              n_estimators=None, n_jobs=None,\n",
       "                                              num_parallel_tree=None,\n",
       "                                              random_state=None, ...)),\n",
       "                               ('gradient_boosting',\n",
       "                                GradientBoostingClassifier()),\n",
       "                               ('mtnb', MultinomialNB())],\n",
       "                   final_estimator=SVC(), n_jobs=-1)"
      ]
     },
     "execution_count": 34,
     "metadata": {},
     "output_type": "execute_result"
    }
   ],
   "source": [
    "from sklearn.ensemble import StackingClassifier\n",
    "\n",
    "models_level_0=[\n",
    "           (\"dtc\",dtc),(\"logistic_regression\",logistic_regression),\n",
    "            (\"sgdclassifier\",sgdclassifier),(\"adaboost\",adaboost),(\"xgboost\",xgboost),(\"gradient_boosting\",gradient_boosting)\n",
    "            ,(\"mtnb\",mtnb)\n",
    "]\n",
    "final_level=SVC()\n",
    "stacking_classifier=StackingClassifier(\n",
    "            estimators=models_level_0,\n",
    "            final_estimator=final_level,\n",
    "            n_jobs=-1,\n",
    "           \n",
    ")\n",
    "stacking_classifier.fit(X_train,y_train)\n"
   ]
  },
  {
   "cell_type": "code",
   "execution_count": 35,
   "id": "b4388259",
   "metadata": {},
   "outputs": [
    {
     "name": "stdout",
     "output_type": "stream",
     "text": [
      "--- Stacking Classifier ---\n",
      "Accuracy: 0.8841309823677582\n",
      "Precision: 0.8914646996838778\n",
      "Recall: 0.869475847893114\n",
      "F1 Score: 0.8803329864724245\n",
      "              precision    recall  f1-score   support\n",
      "\n",
      "           0     0.8774    0.8982    0.8877      1012\n",
      "           1     0.8915    0.8695    0.8803       973\n",
      "\n",
      "    accuracy                         0.8841      1985\n",
      "   macro avg     0.8844    0.8838    0.8840      1985\n",
      "weighted avg     0.8843    0.8841    0.8841      1985\n",
      "\n"
     ]
    },
    {
     "data": {
      "image/png": "[encoded data removed]",
      "text/plain": [
       "<Figure size 500x500 with 2 Axes>"
      ]
     },
     "metadata": {},
     "output_type": "display_data"
    }
   ],
   "source": [
    "y_pred_stacking = stacking_classifier.predict(X_test)\n",
    "print(\"--- Stacking Classifier ---\")\n",
    "print(\"Accuracy:\", accuracy_score(y_test, y_pred_stacking))\n",
    "print(\"Precision:\", precision_score(y_test, y_pred_stacking))\n",
    "print(\"Recall:\", recall_score(y_test, y_pred_stacking))\n",
    "print(\"F1 Score:\", f1_score(y_test, y_pred_stacking))\n",
    "print(classification_report(y_test,y_pred_stacking,digits=4))\n",
    "cm=confusion_matrix(y_test,y_pred_stacking)\n",
    "plt.figure(figsize=(5,5),dpi=100)\n",
    "sns.heatmap(cm,cmap=\"Blues\",annot=True,fmt=\"d\")\n",
    "\n",
    "plt.xlabel('Predicted Class')\n",
    "plt.ylabel('Real Class')\n",
    "plt.show()"
   ]
  }
 ],
 "metadata": {
  "kernelspec": {
   "display_name": "base",
   "language": "python",
   "name": "python3"
  },
  "language_info": {
   "codemirror_mode": {
    "name": "ipython",
    "version": 3
   },
   "file_extension": ".py",
   "mimetype": "text/x-python",
   "name": "python",
   "nbconvert_exporter": "python",
   "pygments_lexer": "ipython3",
   "version": "3.9.13"
  }
 },
 "nbformat": 4,
 "nbformat_minor": 5
}
