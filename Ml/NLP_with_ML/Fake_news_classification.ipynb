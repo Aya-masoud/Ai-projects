{
 "cells": [
  {
   "cell_type": "code",
   "execution_count": 2,
   "id": "d9738f1a",
   "metadata": {},
   "outputs": [],
   "source": [
    "import pandas as pd \n",
    "import numpy as np\n",
    "import seaborn as sns\n",
    "import nltk\n"
   ]
  },
  {
   "cell_type": "code",
   "execution_count": 3,
   "id": "7addae1d",
   "metadata": {},
   "outputs": [
    {
     "name": "stderr",
     "output_type": "stream",
     "text": [
      "[nltk_data] Error loading stopwords: <urlopen error [Errno 11001]\n",
      "[nltk_data]     getaddrinfo failed>\n",
      "[nltk_data] Error loading wordnet: <urlopen error [Errno 11001]\n",
      "[nltk_data]     getaddrinfo failed>\n"
     ]
    },
    {
     "data": {
      "text/plain": [
       "False"
      ]
     },
     "execution_count": 3,
     "metadata": {},
     "output_type": "execute_result"
    }
   ],
   "source": [
    "import re\n",
    "from nltk.corpus  import wordnet\n",
    "nltk.download(\"stopwords\")\n",
    "nltk.download(\"wordnet\")"
   ]
  },
  {
   "cell_type": "code",
   "execution_count": 4,
   "id": "1a9ccd08",
   "metadata": {},
   "outputs": [
    {
     "name": "stderr",
     "output_type": "stream",
     "text": [
      "C:\\Users\\zas\\AppData\\Local\\Temp\\ipykernel_12592\\1975891199.py:1: DtypeWarning: Columns (3) have mixed types. Specify dtype option on import or set low_memory=False.\n",
      "  df = pd.read_csv(\"WELFake_Dataset.csv\", encoding=\"latin1\",usecols=[\"title\",\"text\",\"label\"])\n"
     ]
    }
   ],
   "source": [
    "df = pd.read_csv(\"WELFake_Dataset.csv\", encoding=\"latin1\",usecols=[\"title\",\"text\",\"label\"])\n",
    "df_0=df[df[\"label\"]==0].sample(5000)\n",
    "df_1=df[df[\"label\"]==1].sample(5000)\n"
   ]
  },
  {
   "cell_type": "code",
   "execution_count": 5,
   "id": "efcd04f2",
   "metadata": {},
   "outputs": [
    {
     "data": {
      "text/plain": [
       "Index(['title', 'text', 'label'], dtype='object')"
      ]
     },
     "execution_count": 5,
     "metadata": {},
     "output_type": "execute_result"
    }
   ],
   "source": [
    "df.columns"
   ]
  },
  {
   "cell_type": "code",
   "execution_count": 6,
   "id": "d3e22fe8",
   "metadata": {},
   "outputs": [
    {
     "data": {
      "text/html": [
       "<div>\n",
       "<style scoped>\n",
       "    .dataframe tbody tr th:only-of-type {\n",
       "        vertical-align: middle;\n",
       "    }\n",
       "\n",
       "    .dataframe tbody tr th {\n",
       "        vertical-align: top;\n",
       "    }\n",
       "\n",
       "    .dataframe thead th {\n",
       "        text-align: right;\n",
       "    }\n",
       "</style>\n",
       "<table border=\"1\" class=\"dataframe\">\n",
       "  <thead>\n",
       "    <tr style=\"text-align: right;\">\n",
       "      <th></th>\n",
       "      <th>title</th>\n",
       "      <th>text</th>\n",
       "      <th>label</th>\n",
       "    </tr>\n",
       "  </thead>\n",
       "  <tbody>\n",
       "    <tr>\n",
       "      <th>50262</th>\n",
       "      <td>Palestinian rivals Fatah, Hamas sign reconcili...</td>\n",
       "      <td>GAZA/CAIRO (Reuters) - Rival Palestinian facti...</td>\n",
       "      <td>0.0</td>\n",
       "    </tr>\n",
       "    <tr>\n",
       "      <th>5447</th>\n",
       "      <td>Senate delays healthcare vote as McCain recove...</td>\n",
       "      <td>WASHINGTON (Reuters) - The U.S. Senate will de...</td>\n",
       "      <td>0</td>\n",
       "    </tr>\n",
       "    <tr>\n",
       "      <th>5531</th>\n",
       "      <td>Soccer player Messi prison sentence lifted in ...</td>\n",
       "      <td>MADRID (Reuters) - A Spanish court said on Fri...</td>\n",
       "      <td>0</td>\n",
       "    </tr>\n",
       "    <tr>\n",
       "      <th>70036</th>\n",
       "      <td>Trump, McConnell say they remain united on sha...</td>\n",
       "      <td>WASHINGTON (Reuters) - U.S. President Donald T...</td>\n",
       "      <td>0</td>\n",
       "    </tr>\n",
       "    <tr>\n",
       "      <th>76079</th>\n",
       "      <td>Penn State Trustee Bows Out of Election After ...</td>\n",
       "      <td>A Penn State Trustee has dropped his   bid and...</td>\n",
       "      <td>0</td>\n",
       "    </tr>\n",
       "  </tbody>\n",
       "</table>\n",
       "</div>"
      ],
      "text/plain": [
       "                                                   title  \\\n",
       "50262  Palestinian rivals Fatah, Hamas sign reconcili...   \n",
       "5447   Senate delays healthcare vote as McCain recove...   \n",
       "5531   Soccer player Messi prison sentence lifted in ...   \n",
       "70036  Trump, McConnell say they remain united on sha...   \n",
       "76079  Penn State Trustee Bows Out of Election After ...   \n",
       "\n",
       "                                                    text label  \n",
       "50262  GAZA/CAIRO (Reuters) - Rival Palestinian facti...   0.0  \n",
       "5447   WASHINGTON (Reuters) - The U.S. Senate will de...     0  \n",
       "5531   MADRID (Reuters) - A Spanish court said on Fri...     0  \n",
       "70036  WASHINGTON (Reuters) - U.S. President Donald T...     0  \n",
       "76079  A Penn State Trustee has dropped his   bid and...     0  "
      ]
     },
     "execution_count": 6,
     "metadata": {},
     "output_type": "execute_result"
    }
   ],
   "source": [
    "data=pd.concat([df_0,df_1])\n",
    "data.head()"
   ]
  },
  {
   "cell_type": "code",
   "execution_count": 7,
   "id": "11640828",
   "metadata": {},
   "outputs": [
    {
     "name": "stdout",
     "output_type": "stream",
     "text": [
      "<class 'pandas.core.frame.DataFrame'>\n",
      "Int64Index: 10000 entries, 50262 to 66883\n",
      "Data columns (total 3 columns):\n",
      " #   Column  Non-Null Count  Dtype \n",
      "---  ------  --------------  ----- \n",
      " 0   title   9925 non-null   object\n",
      " 1   text    9995 non-null   object\n",
      " 2   label   10000 non-null  object\n",
      "dtypes: object(3)\n",
      "memory usage: 312.5+ KB\n"
     ]
    }
   ],
   "source": [
    "data.info()"
   ]
  },
  {
   "cell_type": "code",
   "execution_count": 8,
   "id": "cb711e20",
   "metadata": {},
   "outputs": [
    {
     "data": {
      "text/plain": [
       "title    75\n",
       "text      5\n",
       "label     0\n",
       "dtype: int64"
      ]
     },
     "execution_count": 8,
     "metadata": {},
     "output_type": "execute_result"
    }
   ],
   "source": [
    "data.isna().sum()"
   ]
  },
  {
   "cell_type": "code",
   "execution_count": 9,
   "id": "e1287334",
   "metadata": {},
   "outputs": [
    {
     "data": {
      "text/plain": [
       "3"
      ]
     },
     "execution_count": 9,
     "metadata": {},
     "output_type": "execute_result"
    }
   ],
   "source": [
    "len(data.columns)"
   ]
  },
  {
   "cell_type": "code",
   "execution_count": 10,
   "id": "d6835813",
   "metadata": {},
   "outputs": [
    {
     "data": {
      "text/plain": [
       "title    0\n",
       "text     0\n",
       "label    0\n",
       "dtype: int64"
      ]
     },
     "execution_count": 10,
     "metadata": {},
     "output_type": "execute_result"
    }
   ],
   "source": [
    "data.dropna(inplace=True)\n",
    "data.isna().sum()"
   ]
  },
  {
   "cell_type": "code",
   "execution_count": 11,
   "id": "a8a83559",
   "metadata": {},
   "outputs": [
    {
     "data": {
      "text/html": [
       "<div>\n",
       "<style scoped>\n",
       "    .dataframe tbody tr th:only-of-type {\n",
       "        vertical-align: middle;\n",
       "    }\n",
       "\n",
       "    .dataframe tbody tr th {\n",
       "        vertical-align: top;\n",
       "    }\n",
       "\n",
       "    .dataframe thead th {\n",
       "        text-align: right;\n",
       "    }\n",
       "</style>\n",
       "<table border=\"1\" class=\"dataframe\">\n",
       "  <thead>\n",
       "    <tr style=\"text-align: right;\">\n",
       "      <th></th>\n",
       "      <th>index</th>\n",
       "      <th>title</th>\n",
       "      <th>text</th>\n",
       "      <th>label</th>\n",
       "    </tr>\n",
       "  </thead>\n",
       "  <tbody>\n",
       "    <tr>\n",
       "      <th>0</th>\n",
       "      <td>50262</td>\n",
       "      <td>Palestinian rivals Fatah, Hamas sign reconcili...</td>\n",
       "      <td>GAZA/CAIRO (Reuters) - Rival Palestinian facti...</td>\n",
       "      <td>0.0</td>\n",
       "    </tr>\n",
       "    <tr>\n",
       "      <th>1</th>\n",
       "      <td>5447</td>\n",
       "      <td>Senate delays healthcare vote as McCain recove...</td>\n",
       "      <td>WASHINGTON (Reuters) - The U.S. Senate will de...</td>\n",
       "      <td>0</td>\n",
       "    </tr>\n",
       "    <tr>\n",
       "      <th>2</th>\n",
       "      <td>5531</td>\n",
       "      <td>Soccer player Messi prison sentence lifted in ...</td>\n",
       "      <td>MADRID (Reuters) - A Spanish court said on Fri...</td>\n",
       "      <td>0</td>\n",
       "    </tr>\n",
       "    <tr>\n",
       "      <th>3</th>\n",
       "      <td>70036</td>\n",
       "      <td>Trump, McConnell say they remain united on sha...</td>\n",
       "      <td>WASHINGTON (Reuters) - U.S. President Donald T...</td>\n",
       "      <td>0</td>\n",
       "    </tr>\n",
       "    <tr>\n",
       "      <th>4</th>\n",
       "      <td>76079</td>\n",
       "      <td>Penn State Trustee Bows Out of Election After ...</td>\n",
       "      <td>A Penn State Trustee has dropped his   bid and...</td>\n",
       "      <td>0</td>\n",
       "    </tr>\n",
       "  </tbody>\n",
       "</table>\n",
       "</div>"
      ],
      "text/plain": [
       "   index                                              title  \\\n",
       "0  50262  Palestinian rivals Fatah, Hamas sign reconcili...   \n",
       "1   5447  Senate delays healthcare vote as McCain recove...   \n",
       "2   5531  Soccer player Messi prison sentence lifted in ...   \n",
       "3  70036  Trump, McConnell say they remain united on sha...   \n",
       "4  76079  Penn State Trustee Bows Out of Election After ...   \n",
       "\n",
       "                                                text label  \n",
       "0  GAZA/CAIRO (Reuters) - Rival Palestinian facti...   0.0  \n",
       "1  WASHINGTON (Reuters) - The U.S. Senate will de...     0  \n",
       "2  MADRID (Reuters) - A Spanish court said on Fri...     0  \n",
       "3  WASHINGTON (Reuters) - U.S. President Donald T...     0  \n",
       "4  A Penn State Trustee has dropped his   bid and...     0  "
      ]
     },
     "execution_count": 11,
     "metadata": {},
     "output_type": "execute_result"
    }
   ],
   "source": [
    "data.reset_index(inplace=True)\n",
    "data.head()"
   ]
  },
  {
   "cell_type": "code",
   "execution_count": 12,
   "id": "ddf3da62",
   "metadata": {},
   "outputs": [
    {
     "data": {
      "text/plain": [
       "(9920, 4)"
      ]
     },
     "execution_count": 12,
     "metadata": {},
     "output_type": "execute_result"
    }
   ],
   "source": [
    "data.shape"
   ]
  },
  {
   "cell_type": "code",
   "execution_count": 13,
   "id": "07e41185",
   "metadata": {},
   "outputs": [],
   "source": [
    "X=data.drop(\"label\",axis=1)\n",
    "y=data.label"
   ]
  },
  {
   "cell_type": "code",
   "execution_count": 14,
   "id": "14809234",
   "metadata": {},
   "outputs": [
    {
     "data": {
      "text/plain": [
       "0    0.0\n",
       "1      0\n",
       "2      0\n",
       "3      0\n",
       "4      0\n",
       "Name: label, dtype: object"
      ]
     },
     "execution_count": 14,
     "metadata": {},
     "output_type": "execute_result"
    }
   ],
   "source": [
    "y.head()"
   ]
  },
  {
   "cell_type": "code",
   "execution_count": 15,
   "id": "ebf74ab4",
   "metadata": {},
   "outputs": [],
   "source": [
    "messages = X.copy()"
   ]
  },
  {
   "cell_type": "code",
   "execution_count": 16,
   "id": "53717f89",
   "metadata": {},
   "outputs": [
    {
     "data": {
      "text/html": [
       "<div>\n",
       "<style scoped>\n",
       "    .dataframe tbody tr th:only-of-type {\n",
       "        vertical-align: middle;\n",
       "    }\n",
       "\n",
       "    .dataframe tbody tr th {\n",
       "        vertical-align: top;\n",
       "    }\n",
       "\n",
       "    .dataframe thead th {\n",
       "        text-align: right;\n",
       "    }\n",
       "</style>\n",
       "<table border=\"1\" class=\"dataframe\">\n",
       "  <thead>\n",
       "    <tr style=\"text-align: right;\">\n",
       "      <th></th>\n",
       "      <th>index</th>\n",
       "      <th>title</th>\n",
       "      <th>text</th>\n",
       "    </tr>\n",
       "  </thead>\n",
       "  <tbody>\n",
       "    <tr>\n",
       "      <th>0</th>\n",
       "      <td>50262</td>\n",
       "      <td>Palestinian rivals Fatah, Hamas sign reconcili...</td>\n",
       "      <td>GAZA/CAIRO (Reuters) - Rival Palestinian facti...</td>\n",
       "    </tr>\n",
       "    <tr>\n",
       "      <th>1</th>\n",
       "      <td>5447</td>\n",
       "      <td>Senate delays healthcare vote as McCain recove...</td>\n",
       "      <td>WASHINGTON (Reuters) - The U.S. Senate will de...</td>\n",
       "    </tr>\n",
       "    <tr>\n",
       "      <th>2</th>\n",
       "      <td>5531</td>\n",
       "      <td>Soccer player Messi prison sentence lifted in ...</td>\n",
       "      <td>MADRID (Reuters) - A Spanish court said on Fri...</td>\n",
       "    </tr>\n",
       "    <tr>\n",
       "      <th>3</th>\n",
       "      <td>70036</td>\n",
       "      <td>Trump, McConnell say they remain united on sha...</td>\n",
       "      <td>WASHINGTON (Reuters) - U.S. President Donald T...</td>\n",
       "    </tr>\n",
       "    <tr>\n",
       "      <th>4</th>\n",
       "      <td>76079</td>\n",
       "      <td>Penn State Trustee Bows Out of Election After ...</td>\n",
       "      <td>A Penn State Trustee has dropped his   bid and...</td>\n",
       "    </tr>\n",
       "  </tbody>\n",
       "</table>\n",
       "</div>"
      ],
      "text/plain": [
       "   index                                              title  \\\n",
       "0  50262  Palestinian rivals Fatah, Hamas sign reconcili...   \n",
       "1   5447  Senate delays healthcare vote as McCain recove...   \n",
       "2   5531  Soccer player Messi prison sentence lifted in ...   \n",
       "3  70036  Trump, McConnell say they remain united on sha...   \n",
       "4  76079  Penn State Trustee Bows Out of Election After ...   \n",
       "\n",
       "                                                text  \n",
       "0  GAZA/CAIRO (Reuters) - Rival Palestinian facti...  \n",
       "1  WASHINGTON (Reuters) - The U.S. Senate will de...  \n",
       "2  MADRID (Reuters) - A Spanish court said on Fri...  \n",
       "3  WASHINGTON (Reuters) - U.S. President Donald T...  \n",
       "4  A Penn State Trustee has dropped his   bid and...  "
      ]
     },
     "execution_count": 16,
     "metadata": {},
     "output_type": "execute_result"
    }
   ],
   "source": [
    "messages.head()"
   ]
  },
  {
   "cell_type": "code",
   "execution_count": 17,
   "id": "dfd11f1e",
   "metadata": {},
   "outputs": [],
   "source": [
    "from nltk.corpus import stopwords\n",
    "from nltk.stem import PorterStemmer,WordNetLemmatizer\n",
    "ps=PorterStemmer()\n",
    "lm=WordNetLemmatizer()\n",
    "corpus=[]\n",
    "for  var in range(len(messages)):\n",
    "   review=re.sub(\"[^a-zA-Z0_9]\",\" \",messages[\"title\"][var])\n",
    "   review=review.lower()\n",
    "   review=review.split()\n",
    "   review=[lm.lemmatize(x) for x in review if  x not in  stopwords.words(\"english\")]\n",
    "   review=\" \".join(review)\n",
    "   corpus.append(review)"
   ]
  },
  {
   "cell_type": "code",
   "execution_count": 18,
   "id": "533ee53c",
   "metadata": {},
   "outputs": [
    {
     "data": {
      "text/plain": [
       "['palestinian rival fatah hamas sign reconciliation accord',\n",
       " 'senate delay healthcare vote mccain recovers surgery',\n",
       " 'soccer player messi prison sentence lifted exchange fine',\n",
       " 'trump mcconnell say remain united shared goal',\n",
       " 'penn state trustee bow election disparaging sandusky victim breitbart']"
      ]
     },
     "execution_count": 18,
     "metadata": {},
     "output_type": "execute_result"
    }
   ],
   "source": [
    "corpus[0:5]"
   ]
  },
  {
   "cell_type": "code",
   "execution_count": 19,
   "id": "f46a553e",
   "metadata": {},
   "outputs": [
    {
     "name": "stdout",
     "output_type": "stream",
     "text": [
      "89995\n"
     ]
    }
   ],
   "source": [
    "print(sum(len(var.split())for var in corpus))"
   ]
  },
  {
   "cell_type": "code",
   "execution_count": 20,
   "id": "66530880",
   "metadata": {},
   "outputs": [
    {
     "name": "stdout",
     "output_type": "stream",
     "text": [
      "47\n"
     ]
    }
   ],
   "source": [
    "print(max(len(var.split()) for var in corpus))"
   ]
  },
  {
   "cell_type": "code",
   "execution_count": 21,
   "id": "a0c21d61",
   "metadata": {},
   "outputs": [
    {
     "data": {
      "text/plain": [
       "9920"
      ]
     },
     "execution_count": 21,
     "metadata": {},
     "output_type": "execute_result"
    }
   ],
   "source": [
    "len(corpus)"
   ]
  },
  {
   "cell_type": "code",
   "execution_count": 22,
   "id": "bc916153",
   "metadata": {},
   "outputs": [],
   "source": [
    "from sklearn.feature_extraction.text import TfidfVectorizer\n",
    "tfidf=TfidfVectorizer(max_features=5000)\n",
    "x=tfidf.fit_transform(corpus).toarray()\n"
   ]
  },
  {
   "cell_type": "code",
   "execution_count": 23,
   "id": "3c29895a",
   "metadata": {},
   "outputs": [
    {
     "data": {
      "text/plain": [
       "dtype('int32')"
      ]
     },
     "execution_count": 23,
     "metadata": {},
     "output_type": "execute_result"
    }
   ],
   "source": [
    "y = data[\"label\"]\n",
    "y=y.astype(np.int32())\n",
    "y.dtype\n"
   ]
  },
  {
   "cell_type": "code",
   "execution_count": 24,
   "id": "379598b2",
   "metadata": {},
   "outputs": [
    {
     "data": {
      "text/plain": [
       "0"
      ]
     },
     "execution_count": 24,
     "metadata": {},
     "output_type": "execute_result"
    }
   ],
   "source": [
    "y.isna().sum()"
   ]
  },
  {
   "cell_type": "code",
   "execution_count": 25,
   "id": "d54845e3",
   "metadata": {},
   "outputs": [],
   "source": [
    "from sklearn.model_selection import train_test_split\n",
    "\n",
    "X_train,X_test,y_train,y_test= train_test_split(x,y,test_size=0.2,random_state=42)"
   ]
  },
  {
   "cell_type": "code",
   "execution_count": 26,
   "id": "d6019562",
   "metadata": {},
   "outputs": [],
   "source": [
    "# y_train.isna().sum()\n",
    "# y_train.dtype"
   ]
  },
  {
   "cell_type": "code",
   "execution_count": 27,
   "id": "ece29697",
   "metadata": {},
   "outputs": [
    {
     "data": {
      "text/plain": [
       "RandomForestClassifier()"
      ]
     },
     "execution_count": 27,
     "metadata": {},
     "output_type": "execute_result"
    }
   ],
   "source": [
    "from sklearn.ensemble import RandomForestClassifier\n",
    "rfc=RandomForestClassifier()\n",
    "rfc.fit(X_train,y_train)"
   ]
  },
  {
   "cell_type": "code",
   "execution_count": 28,
   "id": "54169810",
   "metadata": {},
   "outputs": [
    {
     "name": "stdout",
     "output_type": "stream",
     "text": [
      "RandomForestClassifier\n",
      "              precision    recall  f1-score   support\n",
      "\n",
      "           0     0.8708    0.8458    0.8581      1012\n",
      "           1     0.8442    0.8693    0.8566       972\n",
      "\n",
      "    accuracy                         0.8574      1984\n",
      "   macro avg     0.8575    0.8576    0.8574      1984\n",
      "weighted avg     0.8577    0.8574    0.8574      1984\n",
      "\n"
     ]
    },
    {
     "data": {
      "image/png": "[encoded data removed]",
      "text/plain": [
       "<Figure size 500x500 with 2 Axes>"
      ]
     },
     "metadata": {},
     "output_type": "display_data"
    }
   ],
   "source": [
    "y_pred_rfc=rfc.predict(X_test)\n",
    "from sklearn.metrics import classification_report,confusion_matrix\n",
    "import matplotlib.pyplot as plt\n",
    "print(\"RandomForestClassifier\")\n",
    "print(classification_report(y_test,y_pred_rfc,digits=4))\n",
    "cm=confusion_matrix(y_test,y_pred_rfc)\n",
    "plt.figure(figsize=(5,5),dpi=100)\n",
    "sns.heatmap(cm,cmap=\"Blues\",annot=True,fmt=\"d\")\n",
    "\n",
    "plt.xlabel('Predicted Class')\n",
    "plt.ylabel('Real Class')\n",
    "plt.show()\n",
    "\n"
   ]
  },
  {
   "cell_type": "code",
   "execution_count": 29,
   "id": "393d634c",
   "metadata": {},
   "outputs": [
    {
     "data": {
      "text/plain": [
       "MultinomialNB()"
      ]
     },
     "execution_count": 29,
     "metadata": {},
     "output_type": "execute_result"
    }
   ],
   "source": [
    "from sklearn.naive_bayes import MultinomialNB\n",
    "mtnb=MultinomialNB()\n",
    "mtnb.fit(X_train,y_train)\n"
   ]
  },
  {
   "cell_type": "code",
   "execution_count": 30,
   "id": "ad78b735",
   "metadata": {},
   "outputs": [
    {
     "name": "stdout",
     "output_type": "stream",
     "text": [
      "MultinomialNB\n",
      "              precision    recall  f1-score   support\n",
      "\n",
      "           0     0.8708    0.8458    0.8581      1012\n",
      "           1     0.8442    0.8693    0.8566       972\n",
      "\n",
      "    accuracy                         0.8574      1984\n",
      "   macro avg     0.8575    0.8576    0.8574      1984\n",
      "weighted avg     0.8577    0.8574    0.8574      1984\n",
      "\n"
     ]
    },
    {
     "data": {
      "image/png": "[encoded data removed]",
      "text/plain": [
       "<Figure size 500x500 with 2 Axes>"
      ]
     },
     "metadata": {},
     "output_type": "display_data"
    }
   ],
   "source": [
    "y_pred_mtnb=rfc.predict(X_test)\n",
    "\n",
    "print(\"MultinomialNB\")\n",
    "print(classification_report(y_test,y_pred_mtnb,digits=4))\n",
    "cm=confusion_matrix(y_test,y_pred_mtnb)\n",
    "plt.figure(figsize=(5,5),dpi=100)\n",
    "sns.heatmap(cm,cmap=\"Blues\",annot=True,fmt=\"d\")\n",
    "\n",
    "plt.xlabel('Predicted Class')\n",
    "plt.ylabel('Real Class')\n",
    "plt.show()"
   ]
  },
  {
   "cell_type": "code",
   "execution_count": 31,
   "id": "4872db81",
   "metadata": {},
   "outputs": [
    {
     "name": "stdout",
     "output_type": "stream",
     "text": [
      "----------Logistic Regression-------\n",
      " accuracy_score  0.8719758064516129\n",
      " precision_score  0.8626262626262626\n",
      " recall_score  0.8786008230452675\n",
      " f1_score  0.8705402650356778\n",
      "\n",
      "\n",
      "----------SVC-------\n",
      " accuracy_score  0.8755040322580645\n",
      " precision_score  0.8635907723169508\n",
      " recall_score  0.8858024691358025\n",
      " f1_score  0.8745556119857796\n",
      "\n",
      "\n",
      "----------SGD Classifier-------\n",
      " accuracy_score  0.8634072580645161\n",
      " precision_score  0.8543983822042467\n",
      " recall_score  0.8693415637860082\n",
      " f1_score  0.8618052014278429\n",
      "\n",
      "\n",
      "----------Decision Tree Classifier-------\n",
      " accuracy_score  0.8049395161290323\n",
      " precision_score  0.788746298124383\n",
      " recall_score  0.8220164609053497\n",
      " f1_score  0.805037783375315\n",
      "\n",
      "\n",
      "----------XG Boosting Classifier-------\n",
      " accuracy_score  0.8387096774193549\n",
      " precision_score  0.7942238267148014\n",
      " recall_score  0.9053497942386831\n",
      " f1_score  0.846153846153846\n",
      "\n",
      "\n",
      "----------Gradient Boosting Classifier-------\n",
      " accuracy_score  0.7938508064516129\n",
      " precision_score  0.7420464316423044\n",
      " recall_score  0.8878600823045267\n",
      " f1_score  0.8084309133489461\n",
      "\n",
      "\n",
      "----------Ada Boost Classifier-------\n",
      " accuracy_score  0.7691532258064516\n",
      " precision_score  0.7065916398713826\n",
      " recall_score  0.904320987654321\n",
      " f1_score  0.7933212996389891\n",
      "\n",
      "\n"
     ]
    }
   ],
   "source": [
    "from sklearn.linear_model import LogisticRegression,SGDClassifier\n",
    "from sklearn.svm import SVC\n",
    "from sklearn.tree import DecisionTreeClassifier\n",
    "from sklearn.ensemble import AdaBoostClassifier,VotingClassifier,GradientBoostingClassifier\n",
    "from xgboost import XGBClassifier\n",
    "\n",
    "logistic_regression=LogisticRegression()\n",
    "svm=SVC()\n",
    "sgdclassifier=SGDClassifier()\n",
    "dtc=DecisionTreeClassifier()\n",
    "xgboost=XGBClassifier()\n",
    "gradient_boosting = GradientBoostingClassifier()\n",
    "adaboost = AdaBoostClassifier()\n",
    "from sklearn.metrics import precision_score,accuracy_score,f1_score,recall_score\n",
    "\n",
    "logistic_regression.fit(X_train, y_train)\n",
    "svm.fit(X_train, y_train)\n",
    "sgdclassifier.fit(X_train, y_train)\n",
    "dtc.fit(X_train, y_train)\n",
    "gradient_boosting.fit(X_train, y_train)\n",
    "adaboost.fit(X_train, y_train)\n",
    "xgboost.fit(X_train, y_train)\n",
    "\n",
    "models=[logistic_regression,svm,sgdclassifier,dtc,xgboost,gradient_boosting,adaboost]\n",
    "models_names=[\"Logistic Regression\",\"SVC\",\"SGD Classifier\",\"Decision Tree Classifier\",\"XG Boosting Classifier\",\n",
    "              \"Gradient Boosting Classifier\",\"Ada Boost Classifier\"]\n",
    "for name,model  in zip(models_names,models):\n",
    "  print(f\"----------{name}-------\")\n",
    "  print(f\" accuracy_score  {accuracy_score(y_test,model.predict(X_test))}\")\n",
    "  print(f\" precision_score  {precision_score(y_test,model.predict(X_test))}\")\n",
    "  print(f\" recall_score  {recall_score(y_test,model.predict(X_test))}\")\n",
    "  print(f\" f1_score  {f1_score(y_test,model.predict(X_test))}\")\n",
    "  print(\"\\n\")\n",
    "\n",
    "\n",
    "\n",
    "\n"
   ]
  },
  {
   "cell_type": "code",
   "execution_count": 32,
   "id": "1aa4a2a6",
   "metadata": {},
   "outputs": [
    {
     "data": {
      "text/plain": [
       "VotingClassifier(estimators=[('svm', SVC()), ('dtc', DecisionTreeClassifier()),\n",
       "                             ('logistic_regression', LogisticRegression()),\n",
       "                             ('sgdclassifier', SGDClassifier()),\n",
       "                             ('adaboost', AdaBoostClassifier()),\n",
       "                             ('xgboost',\n",
       "                              XGBClassifier(base_score=None, booster=None,\n",
       "                                            callbacks=None,\n",
       "                                            colsample_bylevel=None,\n",
       "                                            colsample_bynode=None,\n",
       "                                            colsample_bytree=None, device=None,\n",
       "                                            early_stoppin...\n",
       "                                            interaction_constraints=None,\n",
       "                                            learning_rate=None, max_bin=None,\n",
       "                                            max_cat_threshold=None,\n",
       "                                            max_cat_to_onehot=None,\n",
       "                                            max_delta_step=None, max_depth=None,\n",
       "                                            max_leaves=None,\n",
       "                                            min_child_weight=None, missing=nan,\n",
       "                                            monotone_constraints=None,\n",
       "                                            multi_strategy=None,\n",
       "                                            n_estimators=None, n_jobs=None,\n",
       "                                            num_parallel_tree=None,\n",
       "                                            random_state=None, ...)),\n",
       "                             ('gradient_boosting',\n",
       "                              GradientBoostingClassifier())])"
      ]
     },
     "execution_count": 32,
     "metadata": {},
     "output_type": "execute_result"
    }
   ],
   "source": [
    "ensemble=VotingClassifier(estimators=[\n",
    "            (\"svm\",svm),(\"dtc\",dtc),(\"logistic_regression\",logistic_regression),\n",
    "            (\"sgdclassifier\",sgdclassifier),(\"adaboost\",adaboost),(\"xgboost\",xgboost),(\"gradient_boosting\",gradient_boosting)\n",
    "],voting=\"hard\")\n",
    "ensemble.fit(X_train,y_train)\n"
   ]
  },
  {
   "cell_type": "code",
   "execution_count": 33,
   "id": "25ea5ced",
   "metadata": {},
   "outputs": [
    {
     "name": "stdout",
     "output_type": "stream",
     "text": [
      "--- Ensemble (Voting Classifier) ---\n",
      "Accuracy: 0.8623991935483871\n",
      "Precision: 0.8294062205466541\n",
      "Recall: 0.9053497942386831\n",
      "F1 Score: 0.8657156910969012\n",
      "              precision    recall  f1-score   support\n",
      "\n",
      "           0     0.9003    0.8211    0.8589      1012\n",
      "           1     0.8294    0.9053    0.8657       972\n",
      "\n",
      "    accuracy                         0.8624      1984\n",
      "   macro avg     0.8649    0.8632    0.8623      1984\n",
      "weighted avg     0.8656    0.8624    0.8622      1984\n",
      "\n"
     ]
    },
    {
     "data": {
      "image/png": "[encoded data removed]",
      "text/plain": [
       "<Figure size 500x500 with 2 Axes>"
      ]
     },
     "metadata": {},
     "output_type": "display_data"
    }
   ],
   "source": [
    "y_pred_ensemble = ensemble.predict(X_test)\n",
    "\n",
    "print(\"--- Ensemble (Voting Classifier) ---\")\n",
    "print(\"Accuracy:\", accuracy_score(y_test, y_pred_ensemble))\n",
    "print(\"Precision:\", precision_score(y_test, y_pred_ensemble))\n",
    "print(\"Recall:\", recall_score(y_test, y_pred_ensemble))\n",
    "print(\"F1 Score:\", f1_score(y_test, y_pred_ensemble))\n",
    "\n",
    "print(classification_report(y_test,y_pred_ensemble,digits=4))\n",
    "cm=confusion_matrix(y_test,y_pred_ensemble)\n",
    "plt.figure(figsize=(5,5),dpi=100)\n",
    "sns.heatmap(cm,cmap=\"Blues\",annot=True,fmt=\"d\")\n",
    "\n",
    "plt.xlabel('Predicted Class')\n",
    "plt.ylabel('Real Class')\n",
    "plt.show()"
   ]
  },
  {
   "cell_type": "code",
   "execution_count": 34,
   "id": "56c079f1",
   "metadata": {},
   "outputs": [
    {
     "data": {
      "text/plain": [
       "StackingClassifier(estimators=[('dtc', DecisionTreeClassifier()),\n",
       "                               ('logistic_regression', LogisticRegression()),\n",
       "                               ('sgdclassifier', SGDClassifier()),\n",
       "                               ('adaboost', AdaBoostClassifier()),\n",
       "                               ('xgboost',\n",
       "                                XGBClassifier(base_score=None, booster=None,\n",
       "                                              callbacks=None,\n",
       "                                              colsample_bylevel=None,\n",
       "                                              colsample_bynode=None,\n",
       "                                              colsample_bytree=None,\n",
       "                                              device=None,\n",
       "                                              early_stopping_rounds=Non...\n",
       "                                              max_cat_threshold=None,\n",
       "                                              max_cat_to_onehot=None,\n",
       "                                              max_delta_step=None,\n",
       "                                              max_depth=None, max_leaves=None,\n",
       "                                              min_child_weight=None,\n",
       "                                              missing=nan,\n",
       "                                              monotone_constraints=None,\n",
       "                                              multi_strategy=None,\n",
       "                                              n_estimators=None, n_jobs=None,\n",
       "                                              num_parallel_tree=None,\n",
       "                                              random_state=None, ...)),\n",
       "                               ('gradient_boosting',\n",
       "                                GradientBoostingClassifier()),\n",
       "                               ('mtnb', MultinomialNB())],\n",
       "                   final_estimator=SVC(), n_jobs=-1)"
      ]
     },
     "execution_count": 34,
     "metadata": {},
     "output_type": "execute_result"
    }
   ],
   "source": [
    "from sklearn.ensemble import StackingClassifier\n",
    "\n",
    "models_level_0=[\n",
    "           (\"dtc\",dtc),(\"logistic_regression\",logistic_regression),\n",
    "            (\"sgdclassifier\",sgdclassifier),(\"adaboost\",adaboost),(\"xgboost\",xgboost),(\"gradient_boosting\",gradient_boosting)\n",
    "            ,(\"mtnb\",mtnb)\n",
    "]\n",
    "final_level=SVC()\n",
    "stacking_classifier=StackingClassifier(\n",
    "            estimators=models_level_0,\n",
    "            final_estimator=final_level,\n",
    "            n_jobs=-1,\n",
    "           \n",
    ")\n",
    "stacking_classifier.fit(X_train,y_train)\n"
   ]
  },
  {
   "cell_type": "code",
   "execution_count": 35,
   "id": "b4388259",
   "metadata": {},
   "outputs": [
    {
     "name": "stdout",
     "output_type": "stream",
     "text": [
      "--- Stacking Classifier ---\n",
      "Accuracy: 0.8729838709677419\n",
      "Precision: 0.8557312252964426\n",
      "Recall: 0.8909465020576132\n",
      "F1 Score: 0.872983870967742\n",
      "              precision    recall  f1-score   support\n",
      "\n",
      "           0     0.8909    0.8557    0.8730      1012\n",
      "           1     0.8557    0.8909    0.8730       972\n",
      "\n",
      "    accuracy                         0.8730      1984\n",
      "   macro avg     0.8733    0.8733    0.8730      1984\n",
      "weighted avg     0.8737    0.8730    0.8730      1984\n",
      "\n"
     ]
    },
    {
     "data": {
      "image/png": "[encoded data removed]",
      "text/plain": [
       "<Figure size 500x500 with 2 Axes>"
      ]
     },
     "metadata": {},
     "output_type": "display_data"
    }
   ],
   "source": [
    "y_pred_stacking = stacking_classifier.predict(X_test)\n",
    "print(\"--- Stacking Classifier ---\")\n",
    "print(\"Accuracy:\", accuracy_score(y_test, y_pred_stacking))\n",
    "print(\"Precision:\", precision_score(y_test, y_pred_stacking))\n",
    "print(\"Recall:\", recall_score(y_test, y_pred_stacking))\n",
    "print(\"F1 Score:\", f1_score(y_test, y_pred_stacking))\n",
    "print(classification_report(y_test,y_pred_stacking,digits=4))\n",
    "cm=confusion_matrix(y_test,y_pred_stacking)\n",
    "plt.figure(figsize=(5,5),dpi=100)\n",
    "sns.heatmap(cm,cmap=\"Blues\",annot=True,fmt=\"d\")\n",
    "\n",
    "plt.xlabel('Predicted Class')\n",
    "plt.ylabel('Real Class')\n",
    "plt.show()"
   ]
  }
 ],
 "metadata": {
  "kernelspec": {
   "display_name": "base",
   "language": "python",
   "name": "python3"
  },
  "language_info": {
   "codemirror_mode": {
    "name": "ipython",
    "version": 3
   },
   "file_extension": ".py",
   "mimetype": "text/x-python",
   "name": "python",
   "nbconvert_exporter": "python",
   "pygments_lexer": "ipython3",
   "version": "3.9.13"
  }
 },
 "nbformat": 4,
 "nbformat_minor": 5
}
