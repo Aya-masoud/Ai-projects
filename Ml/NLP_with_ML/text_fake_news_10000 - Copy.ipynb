{
 "cells": [
  {
   "cell_type": "code",
   "execution_count": 1,
   "id": "d9738f1a",
   "metadata": {},
   "outputs": [],
   "source": [
    "import pandas as pd \n",
    "import numpy as np\n",
    "import seaborn as sns\n",
    "import nltk\n"
   ]
  },
  {
   "cell_type": "code",
   "execution_count": 2,
   "id": "7addae1d",
   "metadata": {},
   "outputs": [
    {
     "name": "stderr",
     "output_type": "stream",
     "text": [
      "[nltk_data] Error loading stopwords: <urlopen error [Errno 11001]\n",
      "[nltk_data]     getaddrinfo failed>\n",
      "[nltk_data] Error loading wordnet: <urlopen error [Errno 11001]\n",
      "[nltk_data]     getaddrinfo failed>\n"
     ]
    },
    {
     "data": {
      "text/plain": [
       "False"
      ]
     },
     "execution_count": 2,
     "metadata": {},
     "output_type": "execute_result"
    }
   ],
   "source": [
    "import re\n",
    "from nltk.corpus  import wordnet\n",
    "nltk.download(\"stopwords\")\n",
    "nltk.download(\"wordnet\")"
   ]
  },
  {
   "cell_type": "code",
   "execution_count": 3,
   "id": "1a9ccd08",
   "metadata": {},
   "outputs": [
    {
     "name": "stderr",
     "output_type": "stream",
     "text": [
      "C:\\Users\\zas\\AppData\\Local\\Temp\\ipykernel_3532\\1068681359.py:1: DtypeWarning: Columns (3) have mixed types. Specify dtype option on import or set low_memory=False.\n",
      "  df = pd.read_csv(\"WELFake_Dataset.csv\", encoding=\"latin1\",usecols=[\"title\",\"text\",\"label\"])\n"
     ]
    }
   ],
   "source": [
    "df = pd.read_csv(\"WELFake_Dataset.csv\", encoding=\"latin1\",usecols=[\"title\",\"text\",\"label\"])\n",
    "df_0=df[df[\"label\"]==0].sample(7000)\n",
    "df_1=df[df[\"label\"]==1].sample(7000)\n"
   ]
  },
  {
   "cell_type": "code",
   "execution_count": 4,
   "id": "efcd04f2",
   "metadata": {},
   "outputs": [
    {
     "data": {
      "text/plain": [
       "Index(['title', 'text', 'label'], dtype='object')"
      ]
     },
     "execution_count": 4,
     "metadata": {},
     "output_type": "execute_result"
    }
   ],
   "source": [
    "df.columns"
   ]
  },
  {
   "cell_type": "code",
   "execution_count": 5,
   "id": "d3e22fe8",
   "metadata": {},
   "outputs": [
    {
     "data": {
      "text/html": [
       "<div>\n",
       "<style scoped>\n",
       "    .dataframe tbody tr th:only-of-type {\n",
       "        vertical-align: middle;\n",
       "    }\n",
       "\n",
       "    .dataframe tbody tr th {\n",
       "        vertical-align: top;\n",
       "    }\n",
       "\n",
       "    .dataframe thead th {\n",
       "        text-align: right;\n",
       "    }\n",
       "</style>\n",
       "<table border=\"1\" class=\"dataframe\">\n",
       "  <thead>\n",
       "    <tr style=\"text-align: right;\">\n",
       "      <th></th>\n",
       "      <th>title</th>\n",
       "      <th>text</th>\n",
       "      <th>label</th>\n",
       "    </tr>\n",
       "  </thead>\n",
       "  <tbody>\n",
       "    <tr>\n",
       "      <th>31261</th>\n",
       "      <td>Syrian government forces used chemical weapons...</td>\n",
       "      <td>GENEVA (Reuters) - Government forces have used...</td>\n",
       "      <td>0</td>\n",
       "    </tr>\n",
       "    <tr>\n",
       "      <th>50321</th>\n",
       "      <td>Iraq orders arrest of Kurdistan vice president...</td>\n",
       "      <td>BAGHDAD (Reuters) - Iraq s Supreme Justice Cou...</td>\n",
       "      <td>0.0</td>\n",
       "    </tr>\n",
       "    <tr>\n",
       "      <th>41299</th>\n",
       "      <td>17 Great Stories That Have Nothing to Do With ...</td>\n",
       "      <td>Welcome to Our Picks, a guide to the best stuf...</td>\n",
       "      <td>0</td>\n",
       "    </tr>\n",
       "    <tr>\n",
       "      <th>48699</th>\n",
       "      <td>Toby Keith: I Wonât âApologizeâ for Play...</td>\n",
       "      <td>Country artist Toby Keith will not back out of...</td>\n",
       "      <td>0</td>\n",
       "    </tr>\n",
       "    <tr>\n",
       "      <th>69634</th>\n",
       "      <td>U.S. attorney general Sessions evasive on Russ...</td>\n",
       "      <td>WASHINGTON (Reuters) - U.S. Attorney General J...</td>\n",
       "      <td>0</td>\n",
       "    </tr>\n",
       "  </tbody>\n",
       "</table>\n",
       "</div>"
      ],
      "text/plain": [
       "                                                   title  \\\n",
       "31261  Syrian government forces used chemical weapons...   \n",
       "50321  Iraq orders arrest of Kurdistan vice president...   \n",
       "41299  17 Great Stories That Have Nothing to Do With ...   \n",
       "48699  Toby Keith: I Wonât âApologizeâ for Play...   \n",
       "69634  U.S. attorney general Sessions evasive on Russ...   \n",
       "\n",
       "                                                    text label  \n",
       "31261  GENEVA (Reuters) - Government forces have used...     0  \n",
       "50321  BAGHDAD (Reuters) - Iraq s Supreme Justice Cou...   0.0  \n",
       "41299  Welcome to Our Picks, a guide to the best stuf...     0  \n",
       "48699  Country artist Toby Keith will not back out of...     0  \n",
       "69634  WASHINGTON (Reuters) - U.S. Attorney General J...     0  "
      ]
     },
     "execution_count": 5,
     "metadata": {},
     "output_type": "execute_result"
    }
   ],
   "source": [
    "data=pd.concat([df_0,df_1])\n",
    "data.head()"
   ]
  },
  {
   "cell_type": "code",
   "execution_count": 6,
   "id": "11640828",
   "metadata": {},
   "outputs": [
    {
     "name": "stdout",
     "output_type": "stream",
     "text": [
      "<class 'pandas.core.frame.DataFrame'>\n",
      "Int64Index: 14000 entries, 31261 to 63094\n",
      "Data columns (total 3 columns):\n",
      " #   Column  Non-Null Count  Dtype \n",
      "---  ------  --------------  ----- \n",
      " 0   title   13896 non-null  object\n",
      " 1   text    13993 non-null  object\n",
      " 2   label   14000 non-null  object\n",
      "dtypes: object(3)\n",
      "memory usage: 437.5+ KB\n"
     ]
    }
   ],
   "source": [
    "data.info()"
   ]
  },
  {
   "cell_type": "code",
   "execution_count": 7,
   "id": "cb711e20",
   "metadata": {},
   "outputs": [
    {
     "data": {
      "text/plain": [
       "title    104\n",
       "text       7\n",
       "label      0\n",
       "dtype: int64"
      ]
     },
     "execution_count": 7,
     "metadata": {},
     "output_type": "execute_result"
    }
   ],
   "source": [
    "data.isna().sum()"
   ]
  },
  {
   "cell_type": "code",
   "execution_count": 8,
   "id": "e1287334",
   "metadata": {},
   "outputs": [
    {
     "data": {
      "text/plain": [
       "3"
      ]
     },
     "execution_count": 8,
     "metadata": {},
     "output_type": "execute_result"
    }
   ],
   "source": [
    "len(data.columns)"
   ]
  },
  {
   "cell_type": "code",
   "execution_count": 9,
   "id": "d6835813",
   "metadata": {},
   "outputs": [
    {
     "data": {
      "text/plain": [
       "title    0\n",
       "text     0\n",
       "label    0\n",
       "dtype: int64"
      ]
     },
     "execution_count": 9,
     "metadata": {},
     "output_type": "execute_result"
    }
   ],
   "source": [
    "data.dropna(inplace=True)\n",
    "data.isna().sum()"
   ]
  },
  {
   "cell_type": "code",
   "execution_count": 10,
   "id": "a8a83559",
   "metadata": {},
   "outputs": [
    {
     "data": {
      "text/html": [
       "<div>\n",
       "<style scoped>\n",
       "    .dataframe tbody tr th:only-of-type {\n",
       "        vertical-align: middle;\n",
       "    }\n",
       "\n",
       "    .dataframe tbody tr th {\n",
       "        vertical-align: top;\n",
       "    }\n",
       "\n",
       "    .dataframe thead th {\n",
       "        text-align: right;\n",
       "    }\n",
       "</style>\n",
       "<table border=\"1\" class=\"dataframe\">\n",
       "  <thead>\n",
       "    <tr style=\"text-align: right;\">\n",
       "      <th></th>\n",
       "      <th>index</th>\n",
       "      <th>title</th>\n",
       "      <th>text</th>\n",
       "      <th>label</th>\n",
       "    </tr>\n",
       "  </thead>\n",
       "  <tbody>\n",
       "    <tr>\n",
       "      <th>0</th>\n",
       "      <td>31261</td>\n",
       "      <td>Syrian government forces used chemical weapons...</td>\n",
       "      <td>GENEVA (Reuters) - Government forces have used...</td>\n",
       "      <td>0</td>\n",
       "    </tr>\n",
       "    <tr>\n",
       "      <th>1</th>\n",
       "      <td>50321</td>\n",
       "      <td>Iraq orders arrest of Kurdistan vice president...</td>\n",
       "      <td>BAGHDAD (Reuters) - Iraq s Supreme Justice Cou...</td>\n",
       "      <td>0.0</td>\n",
       "    </tr>\n",
       "    <tr>\n",
       "      <th>2</th>\n",
       "      <td>41299</td>\n",
       "      <td>17 Great Stories That Have Nothing to Do With ...</td>\n",
       "      <td>Welcome to Our Picks, a guide to the best stuf...</td>\n",
       "      <td>0</td>\n",
       "    </tr>\n",
       "    <tr>\n",
       "      <th>3</th>\n",
       "      <td>48699</td>\n",
       "      <td>Toby Keith: I Wonât âApologizeâ for Play...</td>\n",
       "      <td>Country artist Toby Keith will not back out of...</td>\n",
       "      <td>0</td>\n",
       "    </tr>\n",
       "    <tr>\n",
       "      <th>4</th>\n",
       "      <td>69634</td>\n",
       "      <td>U.S. attorney general Sessions evasive on Russ...</td>\n",
       "      <td>WASHINGTON (Reuters) - U.S. Attorney General J...</td>\n",
       "      <td>0</td>\n",
       "    </tr>\n",
       "  </tbody>\n",
       "</table>\n",
       "</div>"
      ],
      "text/plain": [
       "   index                                              title  \\\n",
       "0  31261  Syrian government forces used chemical weapons...   \n",
       "1  50321  Iraq orders arrest of Kurdistan vice president...   \n",
       "2  41299  17 Great Stories That Have Nothing to Do With ...   \n",
       "3  48699  Toby Keith: I Wonât âApologizeâ for Play...   \n",
       "4  69634  U.S. attorney general Sessions evasive on Russ...   \n",
       "\n",
       "                                                text label  \n",
       "0  GENEVA (Reuters) - Government forces have used...     0  \n",
       "1  BAGHDAD (Reuters) - Iraq s Supreme Justice Cou...   0.0  \n",
       "2  Welcome to Our Picks, a guide to the best stuf...     0  \n",
       "3  Country artist Toby Keith will not back out of...     0  \n",
       "4  WASHINGTON (Reuters) - U.S. Attorney General J...     0  "
      ]
     },
     "execution_count": 10,
     "metadata": {},
     "output_type": "execute_result"
    }
   ],
   "source": [
    "data.reset_index(inplace=True)\n",
    "data.head()"
   ]
  },
  {
   "cell_type": "code",
   "execution_count": 11,
   "id": "ddf3da62",
   "metadata": {},
   "outputs": [
    {
     "data": {
      "text/plain": [
       "(13889, 4)"
      ]
     },
     "execution_count": 11,
     "metadata": {},
     "output_type": "execute_result"
    }
   ],
   "source": [
    "data.shape"
   ]
  },
  {
   "cell_type": "code",
   "execution_count": 12,
   "id": "07e41185",
   "metadata": {},
   "outputs": [],
   "source": [
    "X=data.drop(\"label\",axis=1)\n",
    "y=data.label"
   ]
  },
  {
   "cell_type": "code",
   "execution_count": 13,
   "id": "14809234",
   "metadata": {},
   "outputs": [
    {
     "data": {
      "text/plain": [
       "0      0\n",
       "1    0.0\n",
       "2      0\n",
       "3      0\n",
       "4      0\n",
       "Name: label, dtype: object"
      ]
     },
     "execution_count": 13,
     "metadata": {},
     "output_type": "execute_result"
    }
   ],
   "source": [
    "y.head()"
   ]
  },
  {
   "cell_type": "code",
   "execution_count": 14,
   "id": "ebf74ab4",
   "metadata": {},
   "outputs": [],
   "source": [
    "messages = X.copy()"
   ]
  },
  {
   "cell_type": "code",
   "execution_count": 15,
   "id": "53717f89",
   "metadata": {},
   "outputs": [
    {
     "data": {
      "text/html": [
       "<div>\n",
       "<style scoped>\n",
       "    .dataframe tbody tr th:only-of-type {\n",
       "        vertical-align: middle;\n",
       "    }\n",
       "\n",
       "    .dataframe tbody tr th {\n",
       "        vertical-align: top;\n",
       "    }\n",
       "\n",
       "    .dataframe thead th {\n",
       "        text-align: right;\n",
       "    }\n",
       "</style>\n",
       "<table border=\"1\" class=\"dataframe\">\n",
       "  <thead>\n",
       "    <tr style=\"text-align: right;\">\n",
       "      <th></th>\n",
       "      <th>index</th>\n",
       "      <th>title</th>\n",
       "      <th>text</th>\n",
       "    </tr>\n",
       "  </thead>\n",
       "  <tbody>\n",
       "    <tr>\n",
       "      <th>0</th>\n",
       "      <td>31261</td>\n",
       "      <td>Syrian government forces used chemical weapons...</td>\n",
       "      <td>GENEVA (Reuters) - Government forces have used...</td>\n",
       "    </tr>\n",
       "    <tr>\n",
       "      <th>1</th>\n",
       "      <td>50321</td>\n",
       "      <td>Iraq orders arrest of Kurdistan vice president...</td>\n",
       "      <td>BAGHDAD (Reuters) - Iraq s Supreme Justice Cou...</td>\n",
       "    </tr>\n",
       "    <tr>\n",
       "      <th>2</th>\n",
       "      <td>41299</td>\n",
       "      <td>17 Great Stories That Have Nothing to Do With ...</td>\n",
       "      <td>Welcome to Our Picks, a guide to the best stuf...</td>\n",
       "    </tr>\n",
       "    <tr>\n",
       "      <th>3</th>\n",
       "      <td>48699</td>\n",
       "      <td>Toby Keith: I Wonât âApologizeâ for Play...</td>\n",
       "      <td>Country artist Toby Keith will not back out of...</td>\n",
       "    </tr>\n",
       "    <tr>\n",
       "      <th>4</th>\n",
       "      <td>69634</td>\n",
       "      <td>U.S. attorney general Sessions evasive on Russ...</td>\n",
       "      <td>WASHINGTON (Reuters) - U.S. Attorney General J...</td>\n",
       "    </tr>\n",
       "  </tbody>\n",
       "</table>\n",
       "</div>"
      ],
      "text/plain": [
       "   index                                              title  \\\n",
       "0  31261  Syrian government forces used chemical weapons...   \n",
       "1  50321  Iraq orders arrest of Kurdistan vice president...   \n",
       "2  41299  17 Great Stories That Have Nothing to Do With ...   \n",
       "3  48699  Toby Keith: I Wonât âApologizeâ for Play...   \n",
       "4  69634  U.S. attorney general Sessions evasive on Russ...   \n",
       "\n",
       "                                                text  \n",
       "0  GENEVA (Reuters) - Government forces have used...  \n",
       "1  BAGHDAD (Reuters) - Iraq s Supreme Justice Cou...  \n",
       "2  Welcome to Our Picks, a guide to the best stuf...  \n",
       "3  Country artist Toby Keith will not back out of...  \n",
       "4  WASHINGTON (Reuters) - U.S. Attorney General J...  "
      ]
     },
     "execution_count": 15,
     "metadata": {},
     "output_type": "execute_result"
    }
   ],
   "source": [
    "messages.head()"
   ]
  },
  {
   "cell_type": "code",
   "execution_count": 16,
   "id": "aeecf7a6",
   "metadata": {},
   "outputs": [],
   "source": [
    "from nltk.corpus import stopwords\n",
    "from nltk.stem import PorterStemmer,WordNetLemmatizer\n",
    "ps=PorterStemmer()\n",
    "lm=WordNetLemmatizer()\n"
   ]
  },
  {
   "cell_type": "code",
   "execution_count": 17,
   "id": "dfd11f1e",
   "metadata": {},
   "outputs": [],
   "source": [
    "\n",
    "corpus=[]\n",
    "for  var in range(len(messages)):\n",
    "   review=re.sub(\"[^a-zA-Z0_9]\",\" \",messages[\"text\"][var])\n",
    "   review=review.lower()\n",
    "   review=review.split()\n",
    "   review=[ps.stem(x) for x in review if  x not in  stopwords.words(\"english\")]\n",
    "   review=\" \".join(review)\n",
    "   corpus.append(review)"
   ]
  },
  {
   "cell_type": "code",
   "execution_count": 18,
   "id": "533ee53c",
   "metadata": {},
   "outputs": [
    {
     "data": {
      "text/plain": [
       "['geneva reuter govern forc use chemic weapon two dozen time syria civil war includ april deadli attack khan sheikhoun u n war crime investig said wednesday govern warplan drop sarin town idlib provinc kill 0 civilian u n commiss inquiri syria said conclus find date investig chemic weapon attack panel also said u air strike mosqu al jina rural aleppo march kill peopl includ children fail take precaut violat intern law constitut war crime weapon use khan sheikhoun previous identifi contain sarin odorless nerv agent conclus reach fact find mission organ prohibit chemic weapon opcw say respons govern forc continu pattern use chemic weapon civilian opposit held area gravest incid syrian air forc use sarin khan sheikhoun idlib kill dozen major women children u n report said declar attack war crime commiss chairman paulo pinheiro told news confer access prevent us establish fact reason ground believ happen attack establish respons th report sinc 0 u n investig said document chemic weapon attack date twenti seven govern presid bashar al assad includ seven march juli perpetr identifi yet six attack said assad govern repeatedli deni use chemic weapon said strike khan sheikhoun hit weapon depot belong rebel forc claim exclud pinheiro attack led u presid donald trump launch first u air strike syrian air base separ joint inquiri unit nation opcw aim report octob blame khan sheikhoun u n investig interview wit victim first respond link attack satellit imageri photo bomb remnant earli warn report use independ investig said grave concern impact intern coalit strike civilian continu investig coalit air strike carri expel isi raqqa result increas number civilian casualti pinheiro said report said al jina aleppo forc unit state america fail take feasibl precaut protect civilian civilian object attack mosqu violat intern humanitarian law u militari investig said june air strike valid legal attack meet al qaeda fighter howev commiss howev found evid al qaeda meet take place pinheiro said american f hit build adjac prayer hall 0 bomb follow reaper drone fire two hellfir missil peopl flee u n report said resid al jina rel victim first respond interview commiss state even question religi gather host mosqu servic build regular occurr',\n",
       " 'baghdad reuter iraq suprem justic council order thursday arrest kurdistan region govern vice presid kosrat rasul allegedli say iraqi troop took citi kirkuk occupi forc',\n",
       " 'welcom pick guid best stuff read watch listen around internet check space articl next great podcast commut tweetstorm ye also toot horn share time articl week reveal gem might overlook want hear send us feedback select ourpick nytim com town mani bald eagl local call pigeon resid dutch harbor alaska know well live among hundr bald eagl u nation bird becom less majest well annoy california sunday magazin plan hospit stay soon even read know five way reduc cost import afraid ask question medium peopl creat controversi comic san font tell stori came guardian photograph japanes commut make glad weekend huck magazin troubl find love date app perhap right pay someon ghostwrit flirtati tinder messag new york magazin win everyth read import focu failur ozi product earn made usa label complic think stuff work good news detroit motor citi surpass silicon valley hub car research readwrit four basketbal player across world recruit powerhous new jersey high school promis colleg scholarship new home better life found instead promis easili broken nj advanc media men live long women blame testosteron hormon lot good thing increas metabol boost mood libido men carri price nautilu nan tales editor novelist margaret atwood ian mcewan broke gender barrier literari world becom one first femal editor literari fiction also marri fame writer former time report gay tales vaniti fair profil ms tales initi resist stori complic marriag two brilliant literari mind profession rise woman unaccustom spotlight vaniti fair music lyric grow number sign languag interpret infus emot visual cue interpret song live concert video amber galloway gallego show us done vox youtub one thought stepmoth reckon evil archetyp step time magazin essay adapt home magic tidi lot clutter sell eight app websit help earli 900 wrigley pitch gum good children teeth grow wisdom consid outdat tell us form link nichola piazza keep 00 pound hair staten island garag russian hair cut right peopl head said two braid one last old world wigmak citi bob scientist studi nutrit human cannib paleolith era wonder decad nutriti human actual know let littl secret past year group new york time employe meet discuss one episod one podcast week like book club audio list nine episod discuss year like join new york time podcast club start facebook group join chime thought monday post new episod discuss week discuss seven episod join facebook group listen itun stitcher radiopubl',\n",
       " 'countri artist tobi keith back perform donald trump inaugur month say statement apolog perform countri militari courtesi red white blue singer announc inaugur perform friday along rock band door countri singer lee greenwood apolog perform countri militari keith said statement entertain weekli perform event previou presid georg w bush barack obama 00 show iraq afghanistan uso keith statement come sever artist includ elton john garth brook publicli reject invit perform inaugur saturday singer jennif holliday announc inaugur perform friday along keith scrap plan sing event apolog fan call laps judgement honestli think want voic heal unifi forc hope music help deepli polar countri holliday wrote open letter provid wrap regret take consider perform concert would actual instead taken polit act person belief mistaken support donald trump mike penc sincer apolog laps judgment uneduc issu affect everi american crucial time histori caus dismay heartbreak fan ad keith door sever artist perform januari 9 make america great welcom celebr actor trump support jon voight expect attend trump reportedli speak event perform inaugur day includ mormon tabernacl choir radio citi rockett teenag classic singer jacki evancho evancho slate sing nation anthem event follow daniel nussbaum twitter dznussbaum',\n",
       " 'washington reuter u attorney gener jeff session refus answer question thursday close congression hear whether presid donald trump ever instruct hinder justic depart investig russian interfer 0 elect accord democrat lawmak attend session testifi behind close door sever hour u hous repres intellig committe repres adam schiff committe top democrat told report troubl session refus answer believ essenti question ask attorney gener whether ever instruct presid take action believ would hinder russia investig declin answer question schiff told report hear privileg basi declin answer question like presid instruct take action would hinder investig say presid instruct hinder investig way view would potenti crimin act schiff said repres mike quigley anoth democrat committe member said msnbc session one forget person work washington c less candid american public session declin comment report left secur hear room panel among sever congression committe along justic depart special counsel robert mueller investig alleg russia sought influenc u elect potenti collus trump campaign moscow deni meddl trump said collus anoth sourc familiar testimoni said session said could rememb answer mani import question answer provid concern meet russian track statement previous made congression hear spokeswoman session said consist declin discuss commun trump past also previous said never instruct anyth illeg improp republican u senat session earli support close advis trump run white hous democrat accus session repeatedli chang sworn testimoni throughout sever prior congression hear meet contact trump campaign russian offici schiff said committe member ask session question close hear prior testimoni interact campaign russia intellig committe also met three hour thursday erik princ found privat militari contractor blackwat support trump presidenti campaign one focu thursday interview expect meet princ seychel island januari news report later describ effort connect incom trump administr moscow princ sister betsi devo trump secretari educ said seychel meet noth trump schiff told report unresolv issu princ testimoni princ complain hear wast time taxpay dollar meaningless fish expedit spokesman princ later issu statement say princ volunt answer question said throughout mr princ never act behalf presid trump transit team administr regard russia republican led committe plan publicli releas transcript princ close hear describ public close set within three day plan releas transcript session testimoni']"
      ]
     },
     "execution_count": 18,
     "metadata": {},
     "output_type": "execute_result"
    }
   ],
   "source": [
    "corpus[0:5]"
   ]
  },
  {
   "cell_type": "code",
   "execution_count": 19,
   "id": "f46a553e",
   "metadata": {},
   "outputs": [
    {
     "name": "stdout",
     "output_type": "stream",
     "text": [
      "4254202\n"
     ]
    }
   ],
   "source": [
    "print(sum(len(var.split())for var in corpus))"
   ]
  },
  {
   "cell_type": "code",
   "execution_count": 20,
   "id": "66530880",
   "metadata": {},
   "outputs": [
    {
     "name": "stdout",
     "output_type": "stream",
     "text": [
      "4119\n"
     ]
    }
   ],
   "source": [
    "print(max(len(var.split()) for var in corpus))"
   ]
  },
  {
   "cell_type": "code",
   "execution_count": 21,
   "id": "a0c21d61",
   "metadata": {},
   "outputs": [
    {
     "data": {
      "text/plain": [
       "13889"
      ]
     },
     "execution_count": 21,
     "metadata": {},
     "output_type": "execute_result"
    }
   ],
   "source": [
    "len(corpus)"
   ]
  },
  {
   "cell_type": "code",
   "execution_count": 22,
   "id": "bc916153",
   "metadata": {},
   "outputs": [],
   "source": [
    "from sklearn.feature_extraction.text import TfidfVectorizer\n",
    "tfidf=TfidfVectorizer(max_features=10000,ngram_range=(1,3))\n",
    "x=tfidf.fit_transform(corpus).toarray()\n"
   ]
  },
  {
   "cell_type": "code",
   "execution_count": 23,
   "id": "3c29895a",
   "metadata": {},
   "outputs": [
    {
     "data": {
      "text/plain": [
       "dtype('int32')"
      ]
     },
     "execution_count": 23,
     "metadata": {},
     "output_type": "execute_result"
    }
   ],
   "source": [
    "y = data[\"label\"]\n",
    "y=y.astype(np.int32())\n",
    "y.dtype\n"
   ]
  },
  {
   "cell_type": "code",
   "execution_count": 24,
   "id": "379598b2",
   "metadata": {},
   "outputs": [
    {
     "data": {
      "text/plain": [
       "0"
      ]
     },
     "execution_count": 24,
     "metadata": {},
     "output_type": "execute_result"
    }
   ],
   "source": [
    "y.isna().sum()"
   ]
  },
  {
   "cell_type": "code",
   "execution_count": 25,
   "id": "d54845e3",
   "metadata": {},
   "outputs": [],
   "source": [
    "from sklearn.model_selection import train_test_split\n",
    "\n",
    "X_train,X_test,y_train,y_test= train_test_split(x,y,test_size=0.2,random_state=42)"
   ]
  },
  {
   "cell_type": "code",
   "execution_count": 26,
   "id": "d6019562",
   "metadata": {},
   "outputs": [],
   "source": [
    "# y_train.isna().sum()\n",
    "# y_train.dtype"
   ]
  },
  {
   "cell_type": "code",
   "execution_count": 27,
   "id": "ece29697",
   "metadata": {},
   "outputs": [
    {
     "data": {
      "text/plain": [
       "RandomForestClassifier()"
      ]
     },
     "execution_count": 27,
     "metadata": {},
     "output_type": "execute_result"
    }
   ],
   "source": [
    "from sklearn.ensemble import RandomForestClassifier\n",
    "rfc=RandomForestClassifier()\n",
    "rfc.fit(X_train,y_train)"
   ]
  },
  {
   "cell_type": "code",
   "execution_count": 28,
   "id": "54169810",
   "metadata": {},
   "outputs": [
    {
     "name": "stdout",
     "output_type": "stream",
     "text": [
      "RandomForestClassifier\n",
      "              precision    recall  f1-score   support\n",
      "\n",
      "           0     0.9238    0.9101    0.9169      1412\n",
      "           1     0.9084    0.9224    0.9154      1366\n",
      "\n",
      "    accuracy                         0.9161      2778\n",
      "   macro avg     0.9161    0.9162    0.9161      2778\n",
      "weighted avg     0.9162    0.9161    0.9161      2778\n",
      "\n"
     ]
    },
    {
     "data": {
      "image/png": "[encoded data removed]",
      "text/plain": [
       "<Figure size 500x500 with 2 Axes>"
      ]
     },
     "metadata": {},
     "output_type": "display_data"
    }
   ],
   "source": [
    "y_pred_rfc=rfc.predict(X_test)\n",
    "from sklearn.metrics import classification_report,confusion_matrix\n",
    "import matplotlib.pyplot as plt\n",
    "print(\"RandomForestClassifier\")\n",
    "print(classification_report(y_test,y_pred_rfc,digits=4))\n",
    "cm=confusion_matrix(y_test,y_pred_rfc)\n",
    "plt.figure(figsize=(5,5),dpi=100)\n",
    "sns.heatmap(cm,cmap=\"Blues\",annot=True,fmt=\"d\")\n",
    "\n",
    "plt.xlabel('Predicted Class')\n",
    "plt.ylabel('Real Class')\n",
    "plt.show()\n",
    "\n"
   ]
  },
  {
   "cell_type": "code",
   "execution_count": 29,
   "id": "393d634c",
   "metadata": {},
   "outputs": [
    {
     "data": {
      "text/plain": [
       "MultinomialNB()"
      ]
     },
     "execution_count": 29,
     "metadata": {},
     "output_type": "execute_result"
    }
   ],
   "source": [
    "from sklearn.naive_bayes import MultinomialNB\n",
    "mtnb=MultinomialNB()\n",
    "mtnb.fit(X_train,y_train)\n"
   ]
  },
  {
   "cell_type": "code",
   "execution_count": 30,
   "id": "ad78b735",
   "metadata": {},
   "outputs": [
    {
     "name": "stdout",
     "output_type": "stream",
     "text": [
      "MultinomialNB\n",
      "              precision    recall  f1-score   support\n",
      "\n",
      "           0     0.9238    0.9101    0.9169      1412\n",
      "           1     0.9084    0.9224    0.9154      1366\n",
      "\n",
      "    accuracy                         0.9161      2778\n",
      "   macro avg     0.9161    0.9162    0.9161      2778\n",
      "weighted avg     0.9162    0.9161    0.9161      2778\n",
      "\n"
     ]
    },
    {
     "data": {
      "image/png": "[encoded data removed]",
      "text/plain": [
       "<Figure size 500x500 with 2 Axes>"
      ]
     },
     "metadata": {},
     "output_type": "display_data"
    }
   ],
   "source": [
    "y_pred_mtnb=rfc.predict(X_test)\n",
    "\n",
    "print(\"MultinomialNB\")\n",
    "print(classification_report(y_test,y_pred_mtnb,digits=4))\n",
    "cm=confusion_matrix(y_test,y_pred_mtnb)\n",
    "plt.figure(figsize=(5,5),dpi=100)\n",
    "sns.heatmap(cm,cmap=\"Blues\",annot=True,fmt=\"d\")\n",
    "\n",
    "plt.xlabel('Predicted Class')\n",
    "plt.ylabel('Real Class')\n",
    "plt.show()"
   ]
  },
  {
   "cell_type": "code",
   "execution_count": 31,
   "id": "4872db81",
   "metadata": {},
   "outputs": [
    {
     "name": "stdout",
     "output_type": "stream",
     "text": [
      "----------Logistic Regression-------\n",
      " accuracy_score  0.9193664506839453\n",
      " precision_score  0.9107913669064748\n",
      " recall_score  0.9267935578330894\n",
      " f1_score  0.918722786647315\n",
      "\n",
      "\n",
      "----------SVC-------\n",
      " accuracy_score  0.9298056155507559\n",
      " precision_score  0.9197132616487456\n",
      " recall_score  0.9392386530014641\n",
      " f1_score  0.9293734154291924\n",
      "\n",
      "\n",
      "----------SGD Classifier-------\n",
      " accuracy_score  0.9301655867530597\n",
      " precision_score  0.919170243204578\n",
      " recall_score  0.9407027818448024\n",
      " f1_score  0.9298118668596238\n",
      "\n",
      "\n",
      "----------Decision Tree Classifier-------\n",
      " accuracy_score  0.8801295896328294\n",
      " precision_score  0.8772826880934989\n",
      " recall_score  0.8792093704245973\n",
      " f1_score  0.8782449725776964\n",
      "\n",
      "\n",
      "----------XG Boosting Classifier-------\n",
      " accuracy_score  0.9395248380129589\n",
      " precision_score  0.9278571428571428\n",
      " recall_score  0.9509516837481699\n",
      " f1_score  0.9392624728850326\n",
      "\n",
      "\n",
      "----------Gradient Boosting Classifier-------\n",
      " accuracy_score  0.9146868250539957\n",
      " precision_score  0.8906574394463668\n",
      " recall_score  0.9421669106881405\n",
      " f1_score  0.9156883671291355\n",
      "\n",
      "\n",
      "----------Ada Boost Classifier-------\n",
      " accuracy_score  0.9193664506839453\n",
      " precision_score  0.911976911976912\n",
      " recall_score  0.9253294289897511\n",
      " f1_score  0.9186046511627907\n",
      "\n",
      "\n"
     ]
    }
   ],
   "source": [
    "from sklearn.linear_model import LogisticRegression,SGDClassifier\n",
    "from sklearn.svm import SVC\n",
    "from sklearn.tree import DecisionTreeClassifier\n",
    "from sklearn.ensemble import AdaBoostClassifier,VotingClassifier,GradientBoostingClassifier\n",
    "from xgboost import XGBClassifier\n",
    "\n",
    "logistic_regression=LogisticRegression()\n",
    "svm=SVC()\n",
    "sgdclassifier=SGDClassifier()\n",
    "dtc=DecisionTreeClassifier()\n",
    "xgboost=XGBClassifier()\n",
    "gradient_boosting = GradientBoostingClassifier()\n",
    "adaboost = AdaBoostClassifier()\n",
    "from sklearn.metrics import precision_score,accuracy_score,f1_score,recall_score\n",
    "\n",
    "logistic_regression.fit(X_train, y_train)\n",
    "svm.fit(X_train, y_train)\n",
    "sgdclassifier.fit(X_train, y_train)\n",
    "dtc.fit(X_train, y_train)\n",
    "gradient_boosting.fit(X_train, y_train)\n",
    "adaboost.fit(X_train, y_train)\n",
    "xgboost.fit(X_train, y_train)\n",
    "\n",
    "models=[logistic_regression,svm,sgdclassifier,dtc,xgboost,gradient_boosting,adaboost]\n",
    "models_names=[\"Logistic Regression\",\"SVC\",\"SGD Classifier\",\"Decision Tree Classifier\",\"XG Boosting Classifier\",\n",
    "              \"Gradient Boosting Classifier\",\"Ada Boost Classifier\"]\n",
    "for name,model  in zip(models_names,models):\n",
    "  print(f\"----------{name}-------\")\n",
    "  print(f\" accuracy_score  {accuracy_score(y_test,model.predict(X_test))}\")\n",
    "  print(f\" precision_score  {precision_score(y_test,model.predict(X_test))}\")\n",
    "  print(f\" recall_score  {recall_score(y_test,model.predict(X_test))}\")\n",
    "  print(f\" f1_score  {f1_score(y_test,model.predict(X_test))}\")\n",
    "  print(\"\\n\")\n",
    "\n",
    "\n",
    "\n",
    "\n"
   ]
  },
  {
   "cell_type": "code",
   "execution_count": 32,
   "id": "1aa4a2a6",
   "metadata": {},
   "outputs": [
    {
     "data": {
      "text/plain": [
       "VotingClassifier(estimators=[('svm', SVC()), ('dtc', DecisionTreeClassifier()),\n",
       "                             ('logistic_regression', LogisticRegression()),\n",
       "                             ('sgdclassifier', SGDClassifier()),\n",
       "                             ('adaboost', AdaBoostClassifier()),\n",
       "                             ('xgboost',\n",
       "                              XGBClassifier(base_score=None, booster=None,\n",
       "                                            callbacks=None,\n",
       "                                            colsample_bylevel=None,\n",
       "                                            colsample_bynode=None,\n",
       "                                            colsample_bytree=None, device=None,\n",
       "                                            early_stoppin...\n",
       "                                            interaction_constraints=None,\n",
       "                                            learning_rate=None, max_bin=None,\n",
       "                                            max_cat_threshold=None,\n",
       "                                            max_cat_to_onehot=None,\n",
       "                                            max_delta_step=None, max_depth=None,\n",
       "                                            max_leaves=None,\n",
       "                                            min_child_weight=None, missing=nan,\n",
       "                                            monotone_constraints=None,\n",
       "                                            multi_strategy=None,\n",
       "                                            n_estimators=None, n_jobs=None,\n",
       "                                            num_parallel_tree=None,\n",
       "                                            random_state=None, ...)),\n",
       "                             ('gradient_boosting',\n",
       "                              GradientBoostingClassifier())])"
      ]
     },
     "execution_count": 32,
     "metadata": {},
     "output_type": "execute_result"
    }
   ],
   "source": [
    "ensemble=VotingClassifier(estimators=[\n",
    "            (\"svm\",svm),(\"dtc\",dtc),(\"logistic_regression\",logistic_regression),\n",
    "            (\"sgdclassifier\",sgdclassifier),(\"adaboost\",adaboost),(\"xgboost\",xgboost),(\"gradient_boosting\",gradient_boosting)\n",
    "],voting=\"hard\")\n",
    "ensemble.fit(X_train,y_train)\n"
   ]
  },
  {
   "cell_type": "code",
   "execution_count": 33,
   "id": "25ea5ced",
   "metadata": {},
   "outputs": [
    {
     "name": "stdout",
     "output_type": "stream",
     "text": [
      "--- Ensemble (Voting Classifier) ---\n",
      "Accuracy: 0.937365010799136\n",
      "Precision: 0.9197183098591549\n",
      "Recall: 0.9560761346998536\n",
      "F1 Score: 0.9375448671931084\n",
      "              precision    recall  f1-score   support\n",
      "\n",
      "           0     0.9558    0.9193    0.9372      1412\n",
      "           1     0.9197    0.9561    0.9375      1366\n",
      "\n",
      "    accuracy                         0.9374      2778\n",
      "   macro avg     0.9378    0.9377    0.9374      2778\n",
      "weighted avg     0.9381    0.9374    0.9374      2778\n",
      "\n"
     ]
    },
    {
     "data": {
      "image/png": "[encoded data removed]",
      "text/plain": [
       "<Figure size 500x500 with 2 Axes>"
      ]
     },
     "metadata": {},
     "output_type": "display_data"
    }
   ],
   "source": [
    "y_pred_ensemble = ensemble.predict(X_test)\n",
    "\n",
    "print(\"--- Ensemble (Voting Classifier) ---\")\n",
    "print(\"Accuracy:\", accuracy_score(y_test, y_pred_ensemble))\n",
    "print(\"Precision:\", precision_score(y_test, y_pred_ensemble))\n",
    "print(\"Recall:\", recall_score(y_test, y_pred_ensemble))\n",
    "print(\"F1 Score:\", f1_score(y_test, y_pred_ensemble))\n",
    "\n",
    "print(classification_report(y_test,y_pred_ensemble,digits=4))\n",
    "cm=confusion_matrix(y_test,y_pred_ensemble)\n",
    "plt.figure(figsize=(5,5),dpi=100)\n",
    "sns.heatmap(cm,cmap=\"Blues\",annot=True,fmt=\"d\")\n",
    "\n",
    "plt.xlabel('Predicted Class')\n",
    "plt.ylabel('Real Class')\n",
    "plt.show()"
   ]
  },
  {
   "cell_type": "code",
   "execution_count": 34,
   "id": "56c079f1",
   "metadata": {},
   "outputs": [
    {
     "data": {
      "text/plain": [
       "StackingClassifier(estimators=[('dtc', DecisionTreeClassifier()),\n",
       "                               ('logistic_regression', LogisticRegression()),\n",
       "                               ('sgdclassifier', SGDClassifier()),\n",
       "                               ('adaboost', AdaBoostClassifier()),\n",
       "                               ('xgboost',\n",
       "                                XGBClassifier(base_score=None, booster=None,\n",
       "                                              callbacks=None,\n",
       "                                              colsample_bylevel=None,\n",
       "                                              colsample_bynode=None,\n",
       "                                              colsample_bytree=None,\n",
       "                                              device=None,\n",
       "                                              early_stopping_rounds=Non...\n",
       "                                              max_cat_threshold=None,\n",
       "                                              max_cat_to_onehot=None,\n",
       "                                              max_delta_step=None,\n",
       "                                              max_depth=None, max_leaves=None,\n",
       "                                              min_child_weight=None,\n",
       "                                              missing=nan,\n",
       "                                              monotone_constraints=None,\n",
       "                                              multi_strategy=None,\n",
       "                                              n_estimators=None, n_jobs=None,\n",
       "                                              num_parallel_tree=None,\n",
       "                                              random_state=None, ...)),\n",
       "                               ('gradient_boosting',\n",
       "                                GradientBoostingClassifier()),\n",
       "                               ('mtnb', MultinomialNB())],\n",
       "                   final_estimator=SVC(), n_jobs=-1)"
      ]
     },
     "execution_count": 34,
     "metadata": {},
     "output_type": "execute_result"
    }
   ],
   "source": [
    "from sklearn.ensemble import StackingClassifier\n",
    "\n",
    "models_level_0=[\n",
    "           (\"dtc\",dtc),(\"logistic_regression\",logistic_regression),\n",
    "            (\"sgdclassifier\",sgdclassifier),(\"adaboost\",adaboost),(\"xgboost\",xgboost),(\"gradient_boosting\",gradient_boosting)\n",
    "            ,(\"mtnb\",mtnb)\n",
    "]\n",
    "final_level=SVC()\n",
    "stacking_classifier=StackingClassifier(\n",
    "            estimators=models_level_0,\n",
    "            final_estimator=final_level,\n",
    "            n_jobs=-1,\n",
    "           \n",
    ")\n",
    "stacking_classifier.fit(X_train,y_train)\n"
   ]
  },
  {
   "cell_type": "code",
   "execution_count": 35,
   "id": "b4388259",
   "metadata": {},
   "outputs": [
    {
     "name": "stdout",
     "output_type": "stream",
     "text": [
      "--- Stacking Classifier ---\n",
      "Accuracy: 0.9496040316774658\n",
      "Precision: 0.9422799422799423\n",
      "Recall: 0.9560761346998536\n",
      "F1 Score: 0.9491279069767441\n",
      "              precision    recall  f1-score   support\n",
      "\n",
      "           0     0.9569    0.9433    0.9501      1412\n",
      "           1     0.9423    0.9561    0.9491      1366\n",
      "\n",
      "    accuracy                         0.9496      2778\n",
      "   macro avg     0.9496    0.9497    0.9496      2778\n",
      "weighted avg     0.9497    0.9496    0.9496      2778\n",
      "\n"
     ]
    },
    {
     "data": {
      "image/png": "[encoded data removed]",
      "text/plain": [
       "<Figure size 500x500 with 2 Axes>"
      ]
     },
     "metadata": {},
     "output_type": "display_data"
    }
   ],
   "source": [
    "y_pred_stacking = stacking_classifier.predict(X_test)\n",
    "print(\"--- Stacking Classifier ---\")\n",
    "print(\"Accuracy:\", accuracy_score(y_test, y_pred_stacking))\n",
    "print(\"Precision:\", precision_score(y_test, y_pred_stacking))\n",
    "print(\"Recall:\", recall_score(y_test, y_pred_stacking))\n",
    "print(\"F1 Score:\", f1_score(y_test, y_pred_stacking))\n",
    "print(classification_report(y_test,y_pred_stacking,digits=4))\n",
    "cm=confusion_matrix(y_test,y_pred_stacking)\n",
    "plt.figure(figsize=(5,5),dpi=100)\n",
    "sns.heatmap(cm,cmap=\"Blues\",annot=True,fmt=\"d\")\n",
    "\n",
    "plt.xlabel('Predicted Class')\n",
    "plt.ylabel('Real Class')\n",
    "plt.show()"
   ]
  }
 ],
 "metadata": {
  "kernelspec": {
   "display_name": "base",
   "language": "python",
   "name": "python3"
  },
  "language_info": {
   "codemirror_mode": {
    "name": "ipython",
    "version": 3
   },
   "file_extension": ".py",
   "mimetype": "text/x-python",
   "name": "python",
   "nbconvert_exporter": "python",
   "pygments_lexer": "ipython3",
   "version": "3.9.13"
  }
 },
 "nbformat": 4,
 "nbformat_minor": 5
}
