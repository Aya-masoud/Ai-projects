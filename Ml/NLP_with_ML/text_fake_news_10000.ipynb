{
 "cells": [
  {
   "cell_type": "code",
   "execution_count": 2,
   "id": "d9738f1a",
   "metadata": {},
   "outputs": [],
   "source": [
    "import pandas as pd \n",
    "import numpy as np\n",
    "import seaborn as sns\n",
    "import nltk\n"
   ]
  },
  {
   "cell_type": "code",
   "execution_count": 3,
   "id": "7addae1d",
   "metadata": {},
   "outputs": [
    {
     "name": "stderr",
     "output_type": "stream",
     "text": [
      "[nltk_data] Error loading stopwords: <urlopen error [Errno 11001]\n",
      "[nltk_data]     getaddrinfo failed>\n",
      "[nltk_data] Error loading wordnet: <urlopen error [Errno 11001]\n",
      "[nltk_data]     getaddrinfo failed>\n"
     ]
    },
    {
     "data": {
      "text/plain": [
       "False"
      ]
     },
     "execution_count": 3,
     "metadata": {},
     "output_type": "execute_result"
    }
   ],
   "source": [
    "import re\n",
    "from nltk.corpus  import wordnet\n",
    "nltk.download(\"stopwords\")\n",
    "nltk.download(\"wordnet\")"
   ]
  },
  {
   "cell_type": "code",
   "execution_count": 4,
   "id": "1a9ccd08",
   "metadata": {},
   "outputs": [
    {
     "name": "stderr",
     "output_type": "stream",
     "text": [
      "C:\\Users\\zas\\AppData\\Local\\Temp\\ipykernel_8932\\1975891199.py:1: DtypeWarning: Columns (3) have mixed types. Specify dtype option on import or set low_memory=False.\n",
      "  df = pd.read_csv(\"WELFake_Dataset.csv\", encoding=\"latin1\",usecols=[\"title\",\"text\",\"label\"])\n"
     ]
    }
   ],
   "source": [
    "df = pd.read_csv(\"WELFake_Dataset.csv\", encoding=\"latin1\",usecols=[\"title\",\"text\",\"label\"])\n",
    "df_0=df[df[\"label\"]==0].sample(5000)\n",
    "df_1=df[df[\"label\"]==1].sample(5000)\n"
   ]
  },
  {
   "cell_type": "code",
   "execution_count": 5,
   "id": "efcd04f2",
   "metadata": {},
   "outputs": [
    {
     "data": {
      "text/plain": [
       "Index(['title', 'text', 'label'], dtype='object')"
      ]
     },
     "execution_count": 5,
     "metadata": {},
     "output_type": "execute_result"
    }
   ],
   "source": [
    "df.columns"
   ]
  },
  {
   "cell_type": "code",
   "execution_count": 6,
   "id": "d3e22fe8",
   "metadata": {},
   "outputs": [
    {
     "data": {
      "text/html": [
       "<div>\n",
       "<style scoped>\n",
       "    .dataframe tbody tr th:only-of-type {\n",
       "        vertical-align: middle;\n",
       "    }\n",
       "\n",
       "    .dataframe tbody tr th {\n",
       "        vertical-align: top;\n",
       "    }\n",
       "\n",
       "    .dataframe thead th {\n",
       "        text-align: right;\n",
       "    }\n",
       "</style>\n",
       "<table border=\"1\" class=\"dataframe\">\n",
       "  <thead>\n",
       "    <tr style=\"text-align: right;\">\n",
       "      <th></th>\n",
       "      <th>title</th>\n",
       "      <th>text</th>\n",
       "      <th>label</th>\n",
       "    </tr>\n",
       "  </thead>\n",
       "  <tbody>\n",
       "    <tr>\n",
       "      <th>48654</th>\n",
       "      <td>U.S. health secretary to brief lawmakers on ef...</td>\n",
       "      <td>WASHINGTON (Reuters) - U.S. Senate Majority Le...</td>\n",
       "      <td>0</td>\n",
       "    </tr>\n",
       "    <tr>\n",
       "      <th>17425</th>\n",
       "      <td>Afghanistan: 19 die in air attacks on hospital...</td>\n",
       "      <td>(CNN) Aerial bombardments blew apart a Doctors...</td>\n",
       "      <td>0</td>\n",
       "    </tr>\n",
       "    <tr>\n",
       "      <th>5431</th>\n",
       "      <td>Trumpâs Inaugural Parade Lineup: Border Patr...</td>\n",
       "      <td>The Presidential Inaugural Committee announced...</td>\n",
       "      <td>0</td>\n",
       "    </tr>\n",
       "    <tr>\n",
       "      <th>75024</th>\n",
       "      <td>South Korean foreign minister says North Korea...</td>\n",
       "      <td>SEOUL (Reuters) - South Korean Foreign Ministe...</td>\n",
       "      <td>0</td>\n",
       "    </tr>\n",
       "    <tr>\n",
       "      <th>18103</th>\n",
       "      <td>Austria ex-finance minister goes on trial accu...</td>\n",
       "      <td>VIENNA (Reuters) - An Austrian former finance ...</td>\n",
       "      <td>0</td>\n",
       "    </tr>\n",
       "  </tbody>\n",
       "</table>\n",
       "</div>"
      ],
      "text/plain": [
       "                                                   title  \\\n",
       "48654  U.S. health secretary to brief lawmakers on ef...   \n",
       "17425  Afghanistan: 19 die in air attacks on hospital...   \n",
       "5431   Trumpâs Inaugural Parade Lineup: Border Patr...   \n",
       "75024  South Korean foreign minister says North Korea...   \n",
       "18103  Austria ex-finance minister goes on trial accu...   \n",
       "\n",
       "                                                    text label  \n",
       "48654  WASHINGTON (Reuters) - U.S. Senate Majority Le...     0  \n",
       "17425  (CNN) Aerial bombardments blew apart a Doctors...     0  \n",
       "5431   The Presidential Inaugural Committee announced...     0  \n",
       "75024  SEOUL (Reuters) - South Korean Foreign Ministe...     0  \n",
       "18103  VIENNA (Reuters) - An Austrian former finance ...     0  "
      ]
     },
     "execution_count": 6,
     "metadata": {},
     "output_type": "execute_result"
    }
   ],
   "source": [
    "data=pd.concat([df_0,df_1])\n",
    "data.head()"
   ]
  },
  {
   "cell_type": "code",
   "execution_count": 7,
   "id": "11640828",
   "metadata": {},
   "outputs": [
    {
     "name": "stdout",
     "output_type": "stream",
     "text": [
      "<class 'pandas.core.frame.DataFrame'>\n",
      "Int64Index: 10000 entries, 48654 to 69992\n",
      "Data columns (total 3 columns):\n",
      " #   Column  Non-Null Count  Dtype \n",
      "---  ------  --------------  ----- \n",
      " 0   title   9927 non-null   object\n",
      " 1   text    9995 non-null   object\n",
      " 2   label   10000 non-null  object\n",
      "dtypes: object(3)\n",
      "memory usage: 312.5+ KB\n"
     ]
    }
   ],
   "source": [
    "data.info()"
   ]
  },
  {
   "cell_type": "code",
   "execution_count": 8,
   "id": "cb711e20",
   "metadata": {},
   "outputs": [
    {
     "data": {
      "text/plain": [
       "title    73\n",
       "text      5\n",
       "label     0\n",
       "dtype: int64"
      ]
     },
     "execution_count": 8,
     "metadata": {},
     "output_type": "execute_result"
    }
   ],
   "source": [
    "data.isna().sum()"
   ]
  },
  {
   "cell_type": "code",
   "execution_count": 9,
   "id": "e1287334",
   "metadata": {},
   "outputs": [
    {
     "data": {
      "text/plain": [
       "3"
      ]
     },
     "execution_count": 9,
     "metadata": {},
     "output_type": "execute_result"
    }
   ],
   "source": [
    "len(data.columns)"
   ]
  },
  {
   "cell_type": "code",
   "execution_count": 10,
   "id": "d6835813",
   "metadata": {},
   "outputs": [
    {
     "data": {
      "text/plain": [
       "title    0\n",
       "text     0\n",
       "label    0\n",
       "dtype: int64"
      ]
     },
     "execution_count": 10,
     "metadata": {},
     "output_type": "execute_result"
    }
   ],
   "source": [
    "data.dropna(inplace=True)\n",
    "data.isna().sum()"
   ]
  },
  {
   "cell_type": "code",
   "execution_count": 11,
   "id": "a8a83559",
   "metadata": {},
   "outputs": [
    {
     "data": {
      "text/html": [
       "<div>\n",
       "<style scoped>\n",
       "    .dataframe tbody tr th:only-of-type {\n",
       "        vertical-align: middle;\n",
       "    }\n",
       "\n",
       "    .dataframe tbody tr th {\n",
       "        vertical-align: top;\n",
       "    }\n",
       "\n",
       "    .dataframe thead th {\n",
       "        text-align: right;\n",
       "    }\n",
       "</style>\n",
       "<table border=\"1\" class=\"dataframe\">\n",
       "  <thead>\n",
       "    <tr style=\"text-align: right;\">\n",
       "      <th></th>\n",
       "      <th>index</th>\n",
       "      <th>title</th>\n",
       "      <th>text</th>\n",
       "      <th>label</th>\n",
       "    </tr>\n",
       "  </thead>\n",
       "  <tbody>\n",
       "    <tr>\n",
       "      <th>0</th>\n",
       "      <td>48654</td>\n",
       "      <td>U.S. health secretary to brief lawmakers on ef...</td>\n",
       "      <td>WASHINGTON (Reuters) - U.S. Senate Majority Le...</td>\n",
       "      <td>0</td>\n",
       "    </tr>\n",
       "    <tr>\n",
       "      <th>1</th>\n",
       "      <td>17425</td>\n",
       "      <td>Afghanistan: 19 die in air attacks on hospital...</td>\n",
       "      <td>(CNN) Aerial bombardments blew apart a Doctors...</td>\n",
       "      <td>0</td>\n",
       "    </tr>\n",
       "    <tr>\n",
       "      <th>2</th>\n",
       "      <td>5431</td>\n",
       "      <td>Trumpâs Inaugural Parade Lineup: Border Patr...</td>\n",
       "      <td>The Presidential Inaugural Committee announced...</td>\n",
       "      <td>0</td>\n",
       "    </tr>\n",
       "    <tr>\n",
       "      <th>3</th>\n",
       "      <td>75024</td>\n",
       "      <td>South Korean foreign minister says North Korea...</td>\n",
       "      <td>SEOUL (Reuters) - South Korean Foreign Ministe...</td>\n",
       "      <td>0</td>\n",
       "    </tr>\n",
       "    <tr>\n",
       "      <th>4</th>\n",
       "      <td>18103</td>\n",
       "      <td>Austria ex-finance minister goes on trial accu...</td>\n",
       "      <td>VIENNA (Reuters) - An Austrian former finance ...</td>\n",
       "      <td>0</td>\n",
       "    </tr>\n",
       "  </tbody>\n",
       "</table>\n",
       "</div>"
      ],
      "text/plain": [
       "   index                                              title  \\\n",
       "0  48654  U.S. health secretary to brief lawmakers on ef...   \n",
       "1  17425  Afghanistan: 19 die in air attacks on hospital...   \n",
       "2   5431  Trumpâs Inaugural Parade Lineup: Border Patr...   \n",
       "3  75024  South Korean foreign minister says North Korea...   \n",
       "4  18103  Austria ex-finance minister goes on trial accu...   \n",
       "\n",
       "                                                text label  \n",
       "0  WASHINGTON (Reuters) - U.S. Senate Majority Le...     0  \n",
       "1  (CNN) Aerial bombardments blew apart a Doctors...     0  \n",
       "2  The Presidential Inaugural Committee announced...     0  \n",
       "3  SEOUL (Reuters) - South Korean Foreign Ministe...     0  \n",
       "4  VIENNA (Reuters) - An Austrian former finance ...     0  "
      ]
     },
     "execution_count": 11,
     "metadata": {},
     "output_type": "execute_result"
    }
   ],
   "source": [
    "data.reset_index(inplace=True)\n",
    "data.head()"
   ]
  },
  {
   "cell_type": "code",
   "execution_count": 12,
   "id": "ddf3da62",
   "metadata": {},
   "outputs": [
    {
     "data": {
      "text/plain": [
       "(9922, 4)"
      ]
     },
     "execution_count": 12,
     "metadata": {},
     "output_type": "execute_result"
    }
   ],
   "source": [
    "data.shape"
   ]
  },
  {
   "cell_type": "code",
   "execution_count": 13,
   "id": "07e41185",
   "metadata": {},
   "outputs": [],
   "source": [
    "X=data.drop(\"label\",axis=1)\n",
    "y=data.label"
   ]
  },
  {
   "cell_type": "code",
   "execution_count": 14,
   "id": "14809234",
   "metadata": {},
   "outputs": [
    {
     "data": {
      "text/plain": [
       "0    0\n",
       "1    0\n",
       "2    0\n",
       "3    0\n",
       "4    0\n",
       "Name: label, dtype: object"
      ]
     },
     "execution_count": 14,
     "metadata": {},
     "output_type": "execute_result"
    }
   ],
   "source": [
    "y.head()"
   ]
  },
  {
   "cell_type": "code",
   "execution_count": 15,
   "id": "ebf74ab4",
   "metadata": {},
   "outputs": [],
   "source": [
    "messages = X.copy()"
   ]
  },
  {
   "cell_type": "code",
   "execution_count": 16,
   "id": "53717f89",
   "metadata": {},
   "outputs": [
    {
     "data": {
      "text/html": [
       "<div>\n",
       "<style scoped>\n",
       "    .dataframe tbody tr th:only-of-type {\n",
       "        vertical-align: middle;\n",
       "    }\n",
       "\n",
       "    .dataframe tbody tr th {\n",
       "        vertical-align: top;\n",
       "    }\n",
       "\n",
       "    .dataframe thead th {\n",
       "        text-align: right;\n",
       "    }\n",
       "</style>\n",
       "<table border=\"1\" class=\"dataframe\">\n",
       "  <thead>\n",
       "    <tr style=\"text-align: right;\">\n",
       "      <th></th>\n",
       "      <th>index</th>\n",
       "      <th>title</th>\n",
       "      <th>text</th>\n",
       "    </tr>\n",
       "  </thead>\n",
       "  <tbody>\n",
       "    <tr>\n",
       "      <th>0</th>\n",
       "      <td>48654</td>\n",
       "      <td>U.S. health secretary to brief lawmakers on ef...</td>\n",
       "      <td>WASHINGTON (Reuters) - U.S. Senate Majority Le...</td>\n",
       "    </tr>\n",
       "    <tr>\n",
       "      <th>1</th>\n",
       "      <td>17425</td>\n",
       "      <td>Afghanistan: 19 die in air attacks on hospital...</td>\n",
       "      <td>(CNN) Aerial bombardments blew apart a Doctors...</td>\n",
       "    </tr>\n",
       "    <tr>\n",
       "      <th>2</th>\n",
       "      <td>5431</td>\n",
       "      <td>Trumpâs Inaugural Parade Lineup: Border Patr...</td>\n",
       "      <td>The Presidential Inaugural Committee announced...</td>\n",
       "    </tr>\n",
       "    <tr>\n",
       "      <th>3</th>\n",
       "      <td>75024</td>\n",
       "      <td>South Korean foreign minister says North Korea...</td>\n",
       "      <td>SEOUL (Reuters) - South Korean Foreign Ministe...</td>\n",
       "    </tr>\n",
       "    <tr>\n",
       "      <th>4</th>\n",
       "      <td>18103</td>\n",
       "      <td>Austria ex-finance minister goes on trial accu...</td>\n",
       "      <td>VIENNA (Reuters) - An Austrian former finance ...</td>\n",
       "    </tr>\n",
       "  </tbody>\n",
       "</table>\n",
       "</div>"
      ],
      "text/plain": [
       "   index                                              title  \\\n",
       "0  48654  U.S. health secretary to brief lawmakers on ef...   \n",
       "1  17425  Afghanistan: 19 die in air attacks on hospital...   \n",
       "2   5431  Trumpâs Inaugural Parade Lineup: Border Patr...   \n",
       "3  75024  South Korean foreign minister says North Korea...   \n",
       "4  18103  Austria ex-finance minister goes on trial accu...   \n",
       "\n",
       "                                                text  \n",
       "0  WASHINGTON (Reuters) - U.S. Senate Majority Le...  \n",
       "1  (CNN) Aerial bombardments blew apart a Doctors...  \n",
       "2  The Presidential Inaugural Committee announced...  \n",
       "3  SEOUL (Reuters) - South Korean Foreign Ministe...  \n",
       "4  VIENNA (Reuters) - An Austrian former finance ...  "
      ]
     },
     "execution_count": 16,
     "metadata": {},
     "output_type": "execute_result"
    }
   ],
   "source": [
    "messages.head()"
   ]
  },
  {
   "cell_type": "code",
   "execution_count": 17,
   "id": "dfd11f1e",
   "metadata": {},
   "outputs": [],
   "source": [
    "from nltk.corpus import stopwords\n",
    "from nltk.stem import PorterStemmer,WordNetLemmatizer\n",
    "ps=PorterStemmer()\n",
    "lm=WordNetLemmatizer()\n",
    "corpus=[]\n",
    "for  var in range(len(messages)):\n",
    "   review=re.sub(\"[^a-zA-Z0_9]\",\" \",messages[\"text\"][var])\n",
    "   review=review.lower()\n",
    "   review=review.split()\n",
    "   review=[lm.lemmatize(x) for x in review if  x not in  stopwords.words(\"english\")]\n",
    "   review=\" \".join(review)\n",
    "   corpus.append(review)"
   ]
  },
  {
   "cell_type": "code",
   "execution_count": 18,
   "id": "533ee53c",
   "metadata": {},
   "outputs": [
    {
     "data": {
      "text/plain": [
       "['washington reuters u senate majority leader mitch mcconnell said wednesday invited u health human service secretary sylvia burwell brief lawmaker effort zika virus mcconnell speaking senate floor said increasing amount concern virus warmer month approach think could benefit better understanding preparation made protect american said asked burwell brief relevant senate committee leader party next week',\n",
       " 'cnn aerial bombardment blew apart doctor without border hospital battleground afghan city kunduz time u airstrike early saturday killing least 9 people official said blast left part hospital flame rubble killing staffer seven patient including three child injuring people charity said united state said investigating struck hospital night charity expressed shock demanded answer stressing combatant told long ago hospital bombing constitutes grave violation international humanitarian law doctor without border known internationally medecins sans frontieres msf said running hospital treating patient including wounded combatant side taliban base said dr joanne liu international president doctor without border decins sans fronti re upon release group internal review attack running hospital treating patient including wounded combatant side taliban base said dr joanne liu international president doctor without border decins sans fronti re upon release group internal review attack attack came fighting intensified afghan government force supported u air power military adviser taliban invaded kunduz late september attack came fighting intensified afghan government force supported u air power military adviser taliban invaded kunduz late september doctor without border asking indepedent investigation international humanitarian fact finding commission president barack obama apologized charity group attack doctor without border asking indepedent investigation international humanitarian fact finding commission president barack obama apologized charity group attack doctor without border said emailed gps coordinate main hospital administration office building kunduz center airstrike u commander said airstrikes called afghan troop advised taking fire enemy position doctor without border said emailed gps coordinate main hospital administration office building kunduz center airstrike u commander said airstrikes called afghan troop advised taking fire enemy position flame visible inside doctor without border hospital kunduz afghanistan u airstrike saturday october least 0 people died attack charity said internal review strike released thursday november commander u force afghanistan said hospital hit accidentally flame visible inside doctor without border hospital kunduz afghanistan u airstrike saturday october least 0 people died attack charity said internal review strike released thursday november commander u force afghanistan said hospital hit accidentally many patient staff remain unaccounted number may grow clearer picture develops aftermath horrific bombing msf said adding dead injured afghan bombardment continued even u afghan military official notified hospital attacked charity said circumstance immediately clear u military conducting airstrike kunduz time hospital hit u army col brian tibus said military investigating whether u ac 0 gunship area firing taliban position defend u special operation troop responsible u military official said condition anonymity white house released statement president barack obama offering condolence charity american people department defense launched full investigation await result inquiry making definitive judgment circumstance tragedy president said expect full accounting fact circumstance top u nato military commander afghanistan said spoke afghan president ashraf ghani deadly airstrike u military said work thoroughly examine incident determine happened thought prayer affected continue advise assist afghan partner clear city kunduz surrounding area insurgent always take reasonable step protect civilian harm said gen john f campbell incident occurred roughly sixth day fighting afghan government force supported u air power military adviser taliban invaded city early week according msf compound gated staff member saw fighter nearby major military operation going staff would noticed case strike occurred christopher stokes charity general director told cnn one nurse said article msf website sleeping safe room awakened large explosion bombing lasted hour lajos zoltan jecs said went help wounded others tried save doctor died office table jecs said nurse saw six patient burned death bed another patient dead operating table word express unspeakable said charity told everyone location charity caring hundred already hurt day fighting said told warring party exact location trauma center including recently tuesday aerial attack occurred 0 patient caretaker hospital 0 msf international national staff present u special operation troop area advising afghan force military official speaking anonymously said official stressed information probe preliminary pribus said manned fixed wing aircraft conducted strike individual threatening force local time strike may resulted collateral damage nearby medical facility u n mission afghanistan sharply condemned airstrike condemn strongest term tragic devastating air strike decins sans fronti re hospital kunduz early morning resulted death injury medical personnel patient civilian said nicholas haysom head united nation assistance mission afghanistan u embassy kabul expressed condolence facebook page u embassy mourns individual family affected tragic incident doctor without border hospital suffering violence kunduz read embassy praised group work heroic international committee red cross also expressed condemnation attack health worker facility undermine capacity humanitarian organization assist afghan people time urgently need said jean nicolas marti head icrc delegation afghanistan bullet broke window punctured roof intensive care unit taliban captured kunduz earlier week group biggest victory year major setback afghan force afghanistan said reclaimed city thursday big operation backed u airstrikes hour later sign taliban back kunduz resident told cnn gunshot erupted near airport kunduz strategic hub main highway kabul tajikistan thursday taliban fighter also took warduj district badakhshan east kunduz province retired u army lt gen mark hertling said common facility hospital give combatant coordinate coalition air force put something called fly area gps coordinate pinpoint dot map say something hit hertling said fluidness battlefield take place engagement troop ground sometimes mistake said',\n",
       " 'presidential inaugural committee announced friday 000 marcher 0 band equestrian unit accepted invitation parade donald j trump vice michael r penny sworn capitol january 0 people every corner country expressed great interest trump inauguration look forward continuing salute republic span two century said sara armstrong ceo presidential inaugural committee participant follow footstep new president vice president pennsylvania avenue adding name long list american honored country marching inaugural parade armstrong said addition border patrol pipe drum corp parade participant include high school university marching band equestrian corp first responder veteran group said trump penny sworn west front united state capitol joining family member congress u supreme court diplomatic corp distinguished invited guest day january 0 transfer power ceremony arlington national cemetery take place followed concert lincoln memorial branch military including cadet service academy represented list inaugural parade participant alphabetical order st cavalry division horse cavalry detachment fort hood texas st infantry commanding general mounted color ft riley kansasboone county elite equestrian drill team burlington kentuckycaisson platoon fort myer fort myer virginiacleveland police mounted unit cleveland ohiocoastal florida police fire pipe drum palm coast floridacolumbus north high school band columbus indianaculver academy equestrian culver indianafirst troop philadelphia city cavalry philadelphia pennsylvaniafishburne military school army jrotc caisson battalion fishburne virginiafrankfort high school band ridgeley west virginiafranklin regional high school panther marching band murrysville pennsylvaniaindianapolis metro police motorcycle drill team indianapolis indianakids overseas richmond hill georgialil wrangler college station texasmarist college band poughkeepsie new yorkmerced county sheriff posse hilmar californiamichigan mounted police drill team color guard ann arbor michiganmid america cowgirl rodeo drill team new buffalo michigannassau county firefighter pipe drum east meadow new yorknorth carolina vietnam helicopter pilot association hillsborough north carolinanypd emerald society pipe drum east moriches new yorkolivet nazarene university bourbonnais illinoispalmetto ridge high school band naples floridarussellville high school band russellville arkansastalladega college band talladega alabamatexas state university strutters san marcos texasthe citadel regimental band pipe summerall guard charleston south carolinathe freedom rider kersey coloradotragedy assistance marching unit arlington virginiatupelo high school band tupelo mississippiuniversity tennessee marching band knoxville tennesseevmi corp cadet lexington virginiawest monroe high school marching band west monroe louisiana american veteran nationalboy scout america nationalu custom border protection office field operation nationaldisabled american veteran nationalu border patrol pipe drum nationalwounded warrior national information parade including biography parade order forthcoming additional participant may also announced future',\n",
       " 'seoul reuters south korean foreign minister kang kyung wha said monday north korea reckless path continued nuclear missile provocation defiance international condemnation price continued provocation blatant disregard peace loving member international community instability economic hardship kang told news conference comment come hour u n security council vote fresh u drafted resolution imposing new sanction pressure north korea give nuclear missile program',\n",
       " 'vienna reuters austrian former finance minister went trial tuesday accused bribery embezzlement one biggest corruption case country recent history karl heinz grasser former high ranking politician manager banker charged connection privatization state housing company buwog 00 grasser one austria popular politician became country youngest finance minister 000 appointed aged serve coalition conservative far right freedom party accused embezzling part commission sale 0 000 federal apartment denies accusation said television interview monday glad trial starting could prove innocence defense lawyer say case politically motivated time conservative far right working form government replace coalition led social democrat investigator spent eight year gathering evidence working indictment run 00 page say priced biggest ever sale state owned flat tender came two bidder contract awarded financial consortium offered million euro million competitor sale million euro commission flowed two grasser associate suggesting insider dealing according prosecutor grasser married socialite fiona swarovski heir swarovski crystal manufacturer say victim prejudice medium judiciary trial latest stem tenure chancellor wolfgang schuessel took power 000 others concerned telecom real estate sector court rejected petition grasser defense lawyer manfred ainedter remove chief four judge marion hohenecker due conflict interest tweet critical grasser sent husband also judge']"
      ]
     },
     "execution_count": 18,
     "metadata": {},
     "output_type": "execute_result"
    }
   ],
   "source": [
    "corpus[0:5]"
   ]
  },
  {
   "cell_type": "code",
   "execution_count": 19,
   "id": "f46a553e",
   "metadata": {},
   "outputs": [
    {
     "name": "stdout",
     "output_type": "stream",
     "text": [
      "3048087\n"
     ]
    }
   ],
   "source": [
    "print(sum(len(var.split())for var in corpus))"
   ]
  },
  {
   "cell_type": "code",
   "execution_count": 20,
   "id": "66530880",
   "metadata": {},
   "outputs": [
    {
     "name": "stdout",
     "output_type": "stream",
     "text": [
      "4119\n"
     ]
    }
   ],
   "source": [
    "print(max(len(var.split()) for var in corpus))"
   ]
  },
  {
   "cell_type": "code",
   "execution_count": 21,
   "id": "a0c21d61",
   "metadata": {},
   "outputs": [
    {
     "data": {
      "text/plain": [
       "9922"
      ]
     },
     "execution_count": 21,
     "metadata": {},
     "output_type": "execute_result"
    }
   ],
   "source": [
    "len(corpus)"
   ]
  },
  {
   "cell_type": "code",
   "execution_count": 22,
   "id": "bc916153",
   "metadata": {},
   "outputs": [],
   "source": [
    "from sklearn.feature_extraction.text import TfidfVectorizer\n",
    "tfidf=TfidfVectorizer(max_features=10000,ngram_range=(1,3))\n",
    "x=tfidf.fit_transform(corpus).toarray()\n"
   ]
  },
  {
   "cell_type": "code",
   "execution_count": 23,
   "id": "3c29895a",
   "metadata": {},
   "outputs": [
    {
     "data": {
      "text/plain": [
       "dtype('int32')"
      ]
     },
     "execution_count": 23,
     "metadata": {},
     "output_type": "execute_result"
    }
   ],
   "source": [
    "y = data[\"label\"]\n",
    "y=y.astype(np.int32())\n",
    "y.dtype\n"
   ]
  },
  {
   "cell_type": "code",
   "execution_count": 24,
   "id": "379598b2",
   "metadata": {},
   "outputs": [
    {
     "data": {
      "text/plain": [
       "0"
      ]
     },
     "execution_count": 24,
     "metadata": {},
     "output_type": "execute_result"
    }
   ],
   "source": [
    "y.isna().sum()"
   ]
  },
  {
   "cell_type": "code",
   "execution_count": 25,
   "id": "d54845e3",
   "metadata": {},
   "outputs": [],
   "source": [
    "from sklearn.model_selection import train_test_split\n",
    "\n",
    "X_train,X_test,y_train,y_test= train_test_split(x,y,test_size=0.2,random_state=42)"
   ]
  },
  {
   "cell_type": "code",
   "execution_count": 26,
   "id": "d6019562",
   "metadata": {},
   "outputs": [],
   "source": [
    "# y_train.isna().sum()\n",
    "# y_train.dtype"
   ]
  },
  {
   "cell_type": "code",
   "execution_count": 27,
   "id": "ece29697",
   "metadata": {},
   "outputs": [
    {
     "data": {
      "text/plain": [
       "RandomForestClassifier()"
      ]
     },
     "execution_count": 27,
     "metadata": {},
     "output_type": "execute_result"
    }
   ],
   "source": [
    "from sklearn.ensemble import RandomForestClassifier\n",
    "rfc=RandomForestClassifier()\n",
    "rfc.fit(X_train,y_train)"
   ]
  },
  {
   "cell_type": "code",
   "execution_count": 28,
   "id": "54169810",
   "metadata": {},
   "outputs": [
    {
     "name": "stdout",
     "output_type": "stream",
     "text": [
      "RandomForestClassifier\n",
      "              precision    recall  f1-score   support\n",
      "\n",
      "           0     0.9211    0.9111    0.9160      1012\n",
      "           1     0.9085    0.9188    0.9136       973\n",
      "\n",
      "    accuracy                         0.9149      1985\n",
      "   macro avg     0.9148    0.9149    0.9148      1985\n",
      "weighted avg     0.9149    0.9149    0.9149      1985\n",
      "\n"
     ]
    },
    {
     "data": {
      "image/png": "[encoded data removed]",
      "text/plain": [
       "<Figure size 500x500 with 2 Axes>"
      ]
     },
     "metadata": {},
     "output_type": "display_data"
    }
   ],
   "source": [
    "y_pred_rfc=rfc.predict(X_test)\n",
    "from sklearn.metrics import classification_report,confusion_matrix\n",
    "import matplotlib.pyplot as plt\n",
    "print(\"RandomForestClassifier\")\n",
    "print(classification_report(y_test,y_pred_rfc,digits=4))\n",
    "cm=confusion_matrix(y_test,y_pred_rfc)\n",
    "plt.figure(figsize=(5,5),dpi=100)\n",
    "sns.heatmap(cm,cmap=\"Blues\",annot=True,fmt=\"d\")\n",
    "\n",
    "plt.xlabel('Predicted Class')\n",
    "plt.ylabel('Real Class')\n",
    "plt.show()\n",
    "\n"
   ]
  },
  {
   "cell_type": "code",
   "execution_count": 29,
   "id": "393d634c",
   "metadata": {},
   "outputs": [
    {
     "data": {
      "text/plain": [
       "MultinomialNB()"
      ]
     },
     "execution_count": 29,
     "metadata": {},
     "output_type": "execute_result"
    }
   ],
   "source": [
    "from sklearn.naive_bayes import MultinomialNB\n",
    "mtnb=MultinomialNB()\n",
    "mtnb.fit(X_train,y_train)\n"
   ]
  },
  {
   "cell_type": "code",
   "execution_count": 30,
   "id": "ad78b735",
   "metadata": {},
   "outputs": [
    {
     "name": "stdout",
     "output_type": "stream",
     "text": [
      "MultinomialNB\n",
      "              precision    recall  f1-score   support\n",
      "\n",
      "           0     0.9211    0.9111    0.9160      1012\n",
      "           1     0.9085    0.9188    0.9136       973\n",
      "\n",
      "    accuracy                         0.9149      1985\n",
      "   macro avg     0.9148    0.9149    0.9148      1985\n",
      "weighted avg     0.9149    0.9149    0.9149      1985\n",
      "\n"
     ]
    },
    {
     "data": {
      "image/png": "[encoded data removed]",
      "text/plain": [
       "<Figure size 500x500 with 2 Axes>"
      ]
     },
     "metadata": {},
     "output_type": "display_data"
    }
   ],
   "source": [
    "y_pred_mtnb=rfc.predict(X_test)\n",
    "\n",
    "print(\"MultinomialNB\")\n",
    "print(classification_report(y_test,y_pred_mtnb,digits=4))\n",
    "cm=confusion_matrix(y_test,y_pred_mtnb)\n",
    "plt.figure(figsize=(5,5),dpi=100)\n",
    "sns.heatmap(cm,cmap=\"Blues\",annot=True,fmt=\"d\")\n",
    "\n",
    "plt.xlabel('Predicted Class')\n",
    "plt.ylabel('Real Class')\n",
    "plt.show()"
   ]
  },
  {
   "cell_type": "code",
   "execution_count": 31,
   "id": "4872db81",
   "metadata": {},
   "outputs": [
    {
     "name": "stdout",
     "output_type": "stream",
     "text": [
      "----------Logistic Regression-------\n",
      " accuracy_score  0.9143576826196473\n",
      " precision_score  0.8979187314172448\n",
      " recall_score  0.9311408016443987\n",
      " f1_score  0.9142280524722501\n",
      "\n",
      "\n",
      "----------SVC-------\n",
      " accuracy_score  0.9254408060453401\n",
      " precision_score  0.908820614469772\n",
      " recall_score  0.9424460431654677\n",
      " f1_score  0.9253279515640767\n",
      "\n",
      "\n",
      "----------SGD Classifier-------\n",
      " accuracy_score  0.9279596977329975\n",
      " precision_score  0.923469387755102\n",
      " recall_score  0.9301130524152107\n",
      " f1_score  0.9267793138760881\n",
      "\n",
      "\n",
      "----------Decision Tree Classifier-------\n",
      " accuracy_score  0.8685138539042822\n",
      " precision_score  0.8692946058091287\n",
      " recall_score  0.8612538540596094\n",
      " f1_score  0.8652555498193083\n",
      "\n",
      "\n",
      "----------XG Boosting Classifier-------\n",
      " accuracy_score  0.9360201511335012\n",
      " precision_score  0.9264112903225806\n",
      " recall_score  0.9445015416238438\n",
      " f1_score  0.9353689567430026\n",
      "\n",
      "\n",
      "----------Gradient Boosting Classifier-------\n",
      " accuracy_score  0.9138539042821159\n",
      " precision_score  0.8863198458574181\n",
      " recall_score  0.9455292908530318\n",
      " f1_score  0.9149676777722525\n",
      "\n",
      "\n",
      "----------Ada Boost Classifier-------\n",
      " accuracy_score  0.9108312342569269\n",
      " precision_score  0.8987975951903807\n",
      " recall_score  0.9218910585817061\n",
      " f1_score  0.9101978691019788\n",
      "\n",
      "\n"
     ]
    }
   ],
   "source": [
    "from sklearn.linear_model import LogisticRegression,SGDClassifier\n",
    "from sklearn.svm import SVC\n",
    "from sklearn.tree import DecisionTreeClassifier\n",
    "from sklearn.ensemble import AdaBoostClassifier,VotingClassifier,GradientBoostingClassifier\n",
    "from xgboost import XGBClassifier\n",
    "\n",
    "logistic_regression=LogisticRegression()\n",
    "svm=SVC()\n",
    "sgdclassifier=SGDClassifier()\n",
    "dtc=DecisionTreeClassifier()\n",
    "xgboost=XGBClassifier()\n",
    "gradient_boosting = GradientBoostingClassifier()\n",
    "adaboost = AdaBoostClassifier()\n",
    "from sklearn.metrics import precision_score,accuracy_score,f1_score,recall_score\n",
    "\n",
    "logistic_regression.fit(X_train, y_train)\n",
    "svm.fit(X_train, y_train)\n",
    "sgdclassifier.fit(X_train, y_train)\n",
    "dtc.fit(X_train, y_train)\n",
    "gradient_boosting.fit(X_train, y_train)\n",
    "adaboost.fit(X_train, y_train)\n",
    "xgboost.fit(X_train, y_train)\n",
    "\n",
    "models=[logistic_regression,svm,sgdclassifier,dtc,xgboost,gradient_boosting,adaboost]\n",
    "models_names=[\"Logistic Regression\",\"SVC\",\"SGD Classifier\",\"Decision Tree Classifier\",\"XG Boosting Classifier\",\n",
    "              \"Gradient Boosting Classifier\",\"Ada Boost Classifier\"]\n",
    "for name,model  in zip(models_names,models):\n",
    "  print(f\"----------{name}-------\")\n",
    "  print(f\" accuracy_score  {accuracy_score(y_test,model.predict(X_test))}\")\n",
    "  print(f\" precision_score  {precision_score(y_test,model.predict(X_test))}\")\n",
    "  print(f\" recall_score  {recall_score(y_test,model.predict(X_test))}\")\n",
    "  print(f\" f1_score  {f1_score(y_test,model.predict(X_test))}\")\n",
    "  print(\"\\n\")\n",
    "\n",
    "\n",
    "\n",
    "\n"
   ]
  },
  {
   "cell_type": "code",
   "execution_count": 32,
   "id": "1aa4a2a6",
   "metadata": {},
   "outputs": [
    {
     "data": {
      "text/plain": [
       "VotingClassifier(estimators=[('svm', SVC()), ('dtc', DecisionTreeClassifier()),\n",
       "                             ('logistic_regression', LogisticRegression()),\n",
       "                             ('sgdclassifier', SGDClassifier()),\n",
       "                             ('adaboost', AdaBoostClassifier()),\n",
       "                             ('xgboost',\n",
       "                              XGBClassifier(base_score=None, booster=None,\n",
       "                                            callbacks=None,\n",
       "                                            colsample_bylevel=None,\n",
       "                                            colsample_bynode=None,\n",
       "                                            colsample_bytree=None, device=None,\n",
       "                                            early_stoppin...\n",
       "                                            interaction_constraints=None,\n",
       "                                            learning_rate=None, max_bin=None,\n",
       "                                            max_cat_threshold=None,\n",
       "                                            max_cat_to_onehot=None,\n",
       "                                            max_delta_step=None, max_depth=None,\n",
       "                                            max_leaves=None,\n",
       "                                            min_child_weight=None, missing=nan,\n",
       "                                            monotone_constraints=None,\n",
       "                                            multi_strategy=None,\n",
       "                                            n_estimators=None, n_jobs=None,\n",
       "                                            num_parallel_tree=None,\n",
       "                                            random_state=None, ...)),\n",
       "                             ('gradient_boosting',\n",
       "                              GradientBoostingClassifier())])"
      ]
     },
     "execution_count": 32,
     "metadata": {},
     "output_type": "execute_result"
    }
   ],
   "source": [
    "ensemble=VotingClassifier(estimators=[\n",
    "            (\"svm\",svm),(\"dtc\",dtc),(\"logistic_regression\",logistic_regression),\n",
    "            (\"sgdclassifier\",sgdclassifier),(\"adaboost\",adaboost),(\"xgboost\",xgboost),(\"gradient_boosting\",gradient_boosting)\n",
    "],voting=\"hard\")\n",
    "ensemble.fit(X_train,y_train)\n"
   ]
  },
  {
   "cell_type": "code",
   "execution_count": 33,
   "id": "25ea5ced",
   "metadata": {},
   "outputs": [
    {
     "name": "stdout",
     "output_type": "stream",
     "text": [
      "--- Ensemble (Voting Classifier) ---\n",
      "Accuracy: 0.9370277078085643\n",
      "Precision: 0.9214711729622267\n",
      "Recall: 0.9527235354573484\n",
      "F1 Score: 0.9368367862556848\n",
      "              precision    recall  f1-score   support\n",
      "\n",
      "           0     0.9530    0.9219    0.9372      1012\n",
      "           1     0.9215    0.9527    0.9368       973\n",
      "\n",
      "    accuracy                         0.9370      1985\n",
      "   macro avg     0.9372    0.9373    0.9370      1985\n",
      "weighted avg     0.9376    0.9370    0.9370      1985\n",
      "\n"
     ]
    },
    {
     "data": {
      "image/png": "[encoded data removed]",
      "text/plain": [
       "<Figure size 500x500 with 2 Axes>"
      ]
     },
     "metadata": {},
     "output_type": "display_data"
    }
   ],
   "source": [
    "y_pred_ensemble = ensemble.predict(X_test)\n",
    "\n",
    "print(\"--- Ensemble (Voting Classifier) ---\")\n",
    "print(\"Accuracy:\", accuracy_score(y_test, y_pred_ensemble))\n",
    "print(\"Precision:\", precision_score(y_test, y_pred_ensemble))\n",
    "print(\"Recall:\", recall_score(y_test, y_pred_ensemble))\n",
    "print(\"F1 Score:\", f1_score(y_test, y_pred_ensemble))\n",
    "\n",
    "print(classification_report(y_test,y_pred_ensemble,digits=4))\n",
    "cm=confusion_matrix(y_test,y_pred_ensemble)\n",
    "plt.figure(figsize=(5,5),dpi=100)\n",
    "sns.heatmap(cm,cmap=\"Blues\",annot=True,fmt=\"d\")\n",
    "\n",
    "plt.xlabel('Predicted Class')\n",
    "plt.ylabel('Real Class')\n",
    "plt.show()"
   ]
  },
  {
   "cell_type": "code",
   "execution_count": 34,
   "id": "56c079f1",
   "metadata": {},
   "outputs": [
    {
     "data": {
      "text/plain": [
       "StackingClassifier(estimators=[('dtc', DecisionTreeClassifier()),\n",
       "                               ('logistic_regression', LogisticRegression()),\n",
       "                               ('sgdclassifier', SGDClassifier()),\n",
       "                               ('adaboost', AdaBoostClassifier()),\n",
       "                               ('xgboost',\n",
       "                                XGBClassifier(base_score=None, booster=None,\n",
       "                                              callbacks=None,\n",
       "                                              colsample_bylevel=None,\n",
       "                                              colsample_bynode=None,\n",
       "                                              colsample_bytree=None,\n",
       "                                              device=None,\n",
       "                                              early_stopping_rounds=Non...\n",
       "                                              max_cat_threshold=None,\n",
       "                                              max_cat_to_onehot=None,\n",
       "                                              max_delta_step=None,\n",
       "                                              max_depth=None, max_leaves=None,\n",
       "                                              min_child_weight=None,\n",
       "                                              missing=nan,\n",
       "                                              monotone_constraints=None,\n",
       "                                              multi_strategy=None,\n",
       "                                              n_estimators=None, n_jobs=None,\n",
       "                                              num_parallel_tree=None,\n",
       "                                              random_state=None, ...)),\n",
       "                               ('gradient_boosting',\n",
       "                                GradientBoostingClassifier()),\n",
       "                               ('mtnb', MultinomialNB())],\n",
       "                   final_estimator=SVC(), n_jobs=-1)"
      ]
     },
     "execution_count": 34,
     "metadata": {},
     "output_type": "execute_result"
    }
   ],
   "source": [
    "from sklearn.ensemble import StackingClassifier\n",
    "\n",
    "models_level_0=[\n",
    "           (\"dtc\",dtc),(\"logistic_regression\",logistic_regression),\n",
    "            (\"sgdclassifier\",sgdclassifier),(\"adaboost\",adaboost),(\"xgboost\",xgboost),(\"gradient_boosting\",gradient_boosting)\n",
    "            ,(\"mtnb\",mtnb)\n",
    "]\n",
    "final_level=SVC()\n",
    "stacking_classifier=StackingClassifier(\n",
    "            estimators=models_level_0,\n",
    "            final_estimator=final_level,\n",
    "            n_jobs=-1,\n",
    "           \n",
    ")\n",
    "stacking_classifier.fit(X_train,y_train)\n"
   ]
  },
  {
   "cell_type": "code",
   "execution_count": 35,
   "id": "b4388259",
   "metadata": {},
   "outputs": [
    {
     "name": "stdout",
     "output_type": "stream",
     "text": [
      "--- Stacking Classifier ---\n",
      "Accuracy: 0.9435768261964735\n",
      "Precision: 0.9292123629112662\n",
      "Recall: 0.9578622816032888\n",
      "F1 Score: 0.9433198380566802\n",
      "              precision    recall  f1-score   support\n",
      "\n",
      "           0     0.9582    0.9298    0.9438      1012\n",
      "           1     0.9292    0.9579    0.9433       973\n",
      "\n",
      "    accuracy                         0.9436      1985\n",
      "   macro avg     0.9437    0.9439    0.9436      1985\n",
      "weighted avg     0.9440    0.9436    0.9436      1985\n",
      "\n"
     ]
    },
    {
     "data": {
      "image/png": "[encoded data removed]",
      "text/plain": [
       "<Figure size 500x500 with 2 Axes>"
      ]
     },
     "metadata": {},
     "output_type": "display_data"
    }
   ],
   "source": [
    "y_pred_stacking = stacking_classifier.predict(X_test)\n",
    "print(\"--- Stacking Classifier ---\")\n",
    "print(\"Accuracy:\", accuracy_score(y_test, y_pred_stacking))\n",
    "print(\"Precision:\", precision_score(y_test, y_pred_stacking))\n",
    "print(\"Recall:\", recall_score(y_test, y_pred_stacking))\n",
    "print(\"F1 Score:\", f1_score(y_test, y_pred_stacking))\n",
    "print(classification_report(y_test,y_pred_stacking,digits=4))\n",
    "cm=confusion_matrix(y_test,y_pred_stacking)\n",
    "plt.figure(figsize=(5,5),dpi=100)\n",
    "sns.heatmap(cm,cmap=\"Blues\",annot=True,fmt=\"d\")\n",
    "\n",
    "plt.xlabel('Predicted Class')\n",
    "plt.ylabel('Real Class')\n",
    "plt.show()"
   ]
  }
 ],
 "metadata": {
  "kernelspec": {
   "display_name": "base",
   "language": "python",
   "name": "python3"
  },
  "language_info": {
   "codemirror_mode": {
    "name": "ipython",
    "version": 3
   },
   "file_extension": ".py",
   "mimetype": "text/x-python",
   "name": "python",
   "nbconvert_exporter": "python",
   "pygments_lexer": "ipython3",
   "version": "3.9.13"
  }
 },
 "nbformat": 4,
 "nbformat_minor": 5
}
