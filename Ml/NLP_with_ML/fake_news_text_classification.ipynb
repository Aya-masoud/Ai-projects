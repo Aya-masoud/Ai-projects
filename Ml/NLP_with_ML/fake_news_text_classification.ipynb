{
 "cells": [
  {
   "cell_type": "code",
   "execution_count": 3,
   "id": "d9738f1a",
   "metadata": {},
   "outputs": [],
   "source": [
    "import pandas as pd \n",
    "import numpy as np\n",
    "import seaborn as sns\n",
    "import nltk\n"
   ]
  },
  {
   "cell_type": "code",
   "execution_count": 4,
   "id": "7addae1d",
   "metadata": {},
   "outputs": [
    {
     "name": "stderr",
     "output_type": "stream",
     "text": [
      "[nltk_data] Error loading stopwords: <urlopen error [Errno 11001]\n",
      "[nltk_data]     getaddrinfo failed>\n",
      "[nltk_data] Error loading wordnet: <urlopen error [Errno 11001]\n",
      "[nltk_data]     getaddrinfo failed>\n"
     ]
    },
    {
     "data": {
      "text/plain": [
       "False"
      ]
     },
     "execution_count": 4,
     "metadata": {},
     "output_type": "execute_result"
    }
   ],
   "source": [
    "import re\n",
    "from nltk.corpus  import wordnet\n",
    "nltk.download(\"stopwords\")\n",
    "nltk.download(\"wordnet\")"
   ]
  },
  {
   "cell_type": "code",
   "execution_count": 5,
   "id": "1a9ccd08",
   "metadata": {},
   "outputs": [
    {
     "name": "stderr",
     "output_type": "stream",
     "text": [
      "C:\\Users\\zas\\AppData\\Local\\Temp\\ipykernel_13824\\1975891199.py:1: DtypeWarning: Columns (3) have mixed types. Specify dtype option on import or set low_memory=False.\n",
      "  df = pd.read_csv(\"WELFake_Dataset.csv\", encoding=\"latin1\",usecols=[\"title\",\"text\",\"label\"])\n"
     ]
    }
   ],
   "source": [
    "df = pd.read_csv(\"WELFake_Dataset.csv\", encoding=\"latin1\",usecols=[\"title\",\"text\",\"label\"])\n",
    "df_0=df[df[\"label\"]==0].sample(5000)\n",
    "df_1=df[df[\"label\"]==1].sample(5000)\n"
   ]
  },
  {
   "cell_type": "code",
   "execution_count": 6,
   "id": "efcd04f2",
   "metadata": {},
   "outputs": [
    {
     "data": {
      "text/plain": [
       "Index(['title', 'text', 'label'], dtype='object')"
      ]
     },
     "execution_count": 6,
     "metadata": {},
     "output_type": "execute_result"
    }
   ],
   "source": [
    "df.columns"
   ]
  },
  {
   "cell_type": "code",
   "execution_count": 7,
   "id": "d3e22fe8",
   "metadata": {},
   "outputs": [
    {
     "data": {
      "text/html": [
       "<div>\n",
       "<style scoped>\n",
       "    .dataframe tbody tr th:only-of-type {\n",
       "        vertical-align: middle;\n",
       "    }\n",
       "\n",
       "    .dataframe tbody tr th {\n",
       "        vertical-align: top;\n",
       "    }\n",
       "\n",
       "    .dataframe thead th {\n",
       "        text-align: right;\n",
       "    }\n",
       "</style>\n",
       "<table border=\"1\" class=\"dataframe\">\n",
       "  <thead>\n",
       "    <tr style=\"text-align: right;\">\n",
       "      <th></th>\n",
       "      <th>title</th>\n",
       "      <th>text</th>\n",
       "      <th>label</th>\n",
       "    </tr>\n",
       "  </thead>\n",
       "  <tbody>\n",
       "    <tr>\n",
       "      <th>14564</th>\n",
       "      <td>Kenya police disperse protesters as Odinga tem...</td>\n",
       "      <td>NAIROBI (Reuters) - Kenyan police fired tearga...</td>\n",
       "      <td>0</td>\n",
       "    </tr>\n",
       "    <tr>\n",
       "      <th>54022</th>\n",
       "      <td>Lebanon's Hezbollah denies sending weapons to ...</td>\n",
       "      <td>BEIRUT (Reuters) - The leader of Lebanon s Hez...</td>\n",
       "      <td>0</td>\n",
       "    </tr>\n",
       "    <tr>\n",
       "      <th>74224</th>\n",
       "      <td>Catalan leader backs mediation to resolve regi...</td>\n",
       "      <td>BARCELONA (Reuters) - Catalan regional leader ...</td>\n",
       "      <td>0</td>\n",
       "    </tr>\n",
       "    <tr>\n",
       "      <th>74500</th>\n",
       "      <td>The New York Times Pushes Another Phony Labor ...</td>\n",
       "      <td>Another day, another phony labor shortage. [Th...</td>\n",
       "      <td>0</td>\n",
       "    </tr>\n",
       "    <tr>\n",
       "      <th>63341</th>\n",
       "      <td>EU and Iran defend nuclear deal, under fire fr...</td>\n",
       "      <td>SAMARKAND, Uzbekistan (Reuters) - Senior offic...</td>\n",
       "      <td>0.0</td>\n",
       "    </tr>\n",
       "  </tbody>\n",
       "</table>\n",
       "</div>"
      ],
      "text/plain": [
       "                                                   title  \\\n",
       "14564  Kenya police disperse protesters as Odinga tem...   \n",
       "54022  Lebanon's Hezbollah denies sending weapons to ...   \n",
       "74224  Catalan leader backs mediation to resolve regi...   \n",
       "74500  The New York Times Pushes Another Phony Labor ...   \n",
       "63341  EU and Iran defend nuclear deal, under fire fr...   \n",
       "\n",
       "                                                    text label  \n",
       "14564  NAIROBI (Reuters) - Kenyan police fired tearga...     0  \n",
       "54022  BEIRUT (Reuters) - The leader of Lebanon s Hez...     0  \n",
       "74224  BARCELONA (Reuters) - Catalan regional leader ...     0  \n",
       "74500  Another day, another phony labor shortage. [Th...     0  \n",
       "63341  SAMARKAND, Uzbekistan (Reuters) - Senior offic...   0.0  "
      ]
     },
     "execution_count": 7,
     "metadata": {},
     "output_type": "execute_result"
    }
   ],
   "source": [
    "data=pd.concat([df_0,df_1])\n",
    "data.head()"
   ]
  },
  {
   "cell_type": "code",
   "execution_count": 8,
   "id": "11640828",
   "metadata": {},
   "outputs": [
    {
     "name": "stdout",
     "output_type": "stream",
     "text": [
      "<class 'pandas.core.frame.DataFrame'>\n",
      "Int64Index: 10000 entries, 14564 to 17430\n",
      "Data columns (total 3 columns):\n",
      " #   Column  Non-Null Count  Dtype \n",
      "---  ------  --------------  ----- \n",
      " 0   title   9932 non-null   object\n",
      " 1   text    9995 non-null   object\n",
      " 2   label   10000 non-null  object\n",
      "dtypes: object(3)\n",
      "memory usage: 312.5+ KB\n"
     ]
    }
   ],
   "source": [
    "data.info()"
   ]
  },
  {
   "cell_type": "code",
   "execution_count": 9,
   "id": "fbcf3f79",
   "metadata": {},
   "outputs": [
    {
     "data": {
      "text/plain": [
       "title    object\n",
       "text     object\n",
       "label    object\n",
       "dtype: object"
      ]
     },
     "execution_count": 9,
     "metadata": {},
     "output_type": "execute_result"
    }
   ],
   "source": [
    "data.dtypes"
   ]
  },
  {
   "cell_type": "code",
   "execution_count": 10,
   "id": "cb711e20",
   "metadata": {},
   "outputs": [
    {
     "data": {
      "text/plain": [
       "title    68\n",
       "text      5\n",
       "label     0\n",
       "dtype: int64"
      ]
     },
     "execution_count": 10,
     "metadata": {},
     "output_type": "execute_result"
    }
   ],
   "source": [
    "data.isna().sum()"
   ]
  },
  {
   "cell_type": "code",
   "execution_count": 11,
   "id": "e1287334",
   "metadata": {},
   "outputs": [
    {
     "data": {
      "text/plain": [
       "3"
      ]
     },
     "execution_count": 11,
     "metadata": {},
     "output_type": "execute_result"
    }
   ],
   "source": [
    "len(data.columns)"
   ]
  },
  {
   "cell_type": "code",
   "execution_count": 12,
   "id": "d6835813",
   "metadata": {},
   "outputs": [
    {
     "data": {
      "text/plain": [
       "title    0\n",
       "text     0\n",
       "label    0\n",
       "dtype: int64"
      ]
     },
     "execution_count": 12,
     "metadata": {},
     "output_type": "execute_result"
    }
   ],
   "source": [
    "data.dropna(inplace=True)\n",
    "data.isna().sum()"
   ]
  },
  {
   "cell_type": "code",
   "execution_count": 13,
   "id": "a8a83559",
   "metadata": {},
   "outputs": [
    {
     "data": {
      "text/html": [
       "<div>\n",
       "<style scoped>\n",
       "    .dataframe tbody tr th:only-of-type {\n",
       "        vertical-align: middle;\n",
       "    }\n",
       "\n",
       "    .dataframe tbody tr th {\n",
       "        vertical-align: top;\n",
       "    }\n",
       "\n",
       "    .dataframe thead th {\n",
       "        text-align: right;\n",
       "    }\n",
       "</style>\n",
       "<table border=\"1\" class=\"dataframe\">\n",
       "  <thead>\n",
       "    <tr style=\"text-align: right;\">\n",
       "      <th></th>\n",
       "      <th>index</th>\n",
       "      <th>title</th>\n",
       "      <th>text</th>\n",
       "      <th>label</th>\n",
       "    </tr>\n",
       "  </thead>\n",
       "  <tbody>\n",
       "    <tr>\n",
       "      <th>0</th>\n",
       "      <td>14564</td>\n",
       "      <td>Kenya police disperse protesters as Odinga tem...</td>\n",
       "      <td>NAIROBI (Reuters) - Kenyan police fired tearga...</td>\n",
       "      <td>0</td>\n",
       "    </tr>\n",
       "    <tr>\n",
       "      <th>1</th>\n",
       "      <td>54022</td>\n",
       "      <td>Lebanon's Hezbollah denies sending weapons to ...</td>\n",
       "      <td>BEIRUT (Reuters) - The leader of Lebanon s Hez...</td>\n",
       "      <td>0</td>\n",
       "    </tr>\n",
       "    <tr>\n",
       "      <th>2</th>\n",
       "      <td>74224</td>\n",
       "      <td>Catalan leader backs mediation to resolve regi...</td>\n",
       "      <td>BARCELONA (Reuters) - Catalan regional leader ...</td>\n",
       "      <td>0</td>\n",
       "    </tr>\n",
       "    <tr>\n",
       "      <th>3</th>\n",
       "      <td>74500</td>\n",
       "      <td>The New York Times Pushes Another Phony Labor ...</td>\n",
       "      <td>Another day, another phony labor shortage. [Th...</td>\n",
       "      <td>0</td>\n",
       "    </tr>\n",
       "    <tr>\n",
       "      <th>4</th>\n",
       "      <td>63341</td>\n",
       "      <td>EU and Iran defend nuclear deal, under fire fr...</td>\n",
       "      <td>SAMARKAND, Uzbekistan (Reuters) - Senior offic...</td>\n",
       "      <td>0.0</td>\n",
       "    </tr>\n",
       "  </tbody>\n",
       "</table>\n",
       "</div>"
      ],
      "text/plain": [
       "   index                                              title  \\\n",
       "0  14564  Kenya police disperse protesters as Odinga tem...   \n",
       "1  54022  Lebanon's Hezbollah denies sending weapons to ...   \n",
       "2  74224  Catalan leader backs mediation to resolve regi...   \n",
       "3  74500  The New York Times Pushes Another Phony Labor ...   \n",
       "4  63341  EU and Iran defend nuclear deal, under fire fr...   \n",
       "\n",
       "                                                text label  \n",
       "0  NAIROBI (Reuters) - Kenyan police fired tearga...     0  \n",
       "1  BEIRUT (Reuters) - The leader of Lebanon s Hez...     0  \n",
       "2  BARCELONA (Reuters) - Catalan regional leader ...     0  \n",
       "3  Another day, another phony labor shortage. [Th...     0  \n",
       "4  SAMARKAND, Uzbekistan (Reuters) - Senior offic...   0.0  "
      ]
     },
     "execution_count": 13,
     "metadata": {},
     "output_type": "execute_result"
    }
   ],
   "source": [
    "data.reset_index(inplace=True)\n",
    "data.head()"
   ]
  },
  {
   "cell_type": "code",
   "execution_count": 14,
   "id": "ddf3da62",
   "metadata": {},
   "outputs": [
    {
     "data": {
      "text/plain": [
       "(9927, 4)"
      ]
     },
     "execution_count": 14,
     "metadata": {},
     "output_type": "execute_result"
    }
   ],
   "source": [
    "data.shape"
   ]
  },
  {
   "cell_type": "code",
   "execution_count": 15,
   "id": "07e41185",
   "metadata": {},
   "outputs": [],
   "source": [
    "X=data.drop(\"label\",axis=1)\n",
    "y=data.label"
   ]
  },
  {
   "cell_type": "code",
   "execution_count": 16,
   "id": "14809234",
   "metadata": {},
   "outputs": [
    {
     "data": {
      "text/plain": [
       "0      0\n",
       "1      0\n",
       "2      0\n",
       "3      0\n",
       "4    0.0\n",
       "Name: label, dtype: object"
      ]
     },
     "execution_count": 16,
     "metadata": {},
     "output_type": "execute_result"
    }
   ],
   "source": [
    "y.head()"
   ]
  },
  {
   "cell_type": "code",
   "execution_count": 17,
   "id": "ebf74ab4",
   "metadata": {},
   "outputs": [],
   "source": [
    "messages = X.copy()"
   ]
  },
  {
   "cell_type": "code",
   "execution_count": 18,
   "id": "53717f89",
   "metadata": {},
   "outputs": [
    {
     "data": {
      "text/html": [
       "<div>\n",
       "<style scoped>\n",
       "    .dataframe tbody tr th:only-of-type {\n",
       "        vertical-align: middle;\n",
       "    }\n",
       "\n",
       "    .dataframe tbody tr th {\n",
       "        vertical-align: top;\n",
       "    }\n",
       "\n",
       "    .dataframe thead th {\n",
       "        text-align: right;\n",
       "    }\n",
       "</style>\n",
       "<table border=\"1\" class=\"dataframe\">\n",
       "  <thead>\n",
       "    <tr style=\"text-align: right;\">\n",
       "      <th></th>\n",
       "      <th>index</th>\n",
       "      <th>title</th>\n",
       "      <th>text</th>\n",
       "    </tr>\n",
       "  </thead>\n",
       "  <tbody>\n",
       "    <tr>\n",
       "      <th>0</th>\n",
       "      <td>14564</td>\n",
       "      <td>Kenya police disperse protesters as Odinga tem...</td>\n",
       "      <td>NAIROBI (Reuters) - Kenyan police fired tearga...</td>\n",
       "    </tr>\n",
       "    <tr>\n",
       "      <th>1</th>\n",
       "      <td>54022</td>\n",
       "      <td>Lebanon's Hezbollah denies sending weapons to ...</td>\n",
       "      <td>BEIRUT (Reuters) - The leader of Lebanon s Hez...</td>\n",
       "    </tr>\n",
       "    <tr>\n",
       "      <th>2</th>\n",
       "      <td>74224</td>\n",
       "      <td>Catalan leader backs mediation to resolve regi...</td>\n",
       "      <td>BARCELONA (Reuters) - Catalan regional leader ...</td>\n",
       "    </tr>\n",
       "    <tr>\n",
       "      <th>3</th>\n",
       "      <td>74500</td>\n",
       "      <td>The New York Times Pushes Another Phony Labor ...</td>\n",
       "      <td>Another day, another phony labor shortage. [Th...</td>\n",
       "    </tr>\n",
       "    <tr>\n",
       "      <th>4</th>\n",
       "      <td>63341</td>\n",
       "      <td>EU and Iran defend nuclear deal, under fire fr...</td>\n",
       "      <td>SAMARKAND, Uzbekistan (Reuters) - Senior offic...</td>\n",
       "    </tr>\n",
       "  </tbody>\n",
       "</table>\n",
       "</div>"
      ],
      "text/plain": [
       "   index                                              title  \\\n",
       "0  14564  Kenya police disperse protesters as Odinga tem...   \n",
       "1  54022  Lebanon's Hezbollah denies sending weapons to ...   \n",
       "2  74224  Catalan leader backs mediation to resolve regi...   \n",
       "3  74500  The New York Times Pushes Another Phony Labor ...   \n",
       "4  63341  EU and Iran defend nuclear deal, under fire fr...   \n",
       "\n",
       "                                                text  \n",
       "0  NAIROBI (Reuters) - Kenyan police fired tearga...  \n",
       "1  BEIRUT (Reuters) - The leader of Lebanon s Hez...  \n",
       "2  BARCELONA (Reuters) - Catalan regional leader ...  \n",
       "3  Another day, another phony labor shortage. [Th...  \n",
       "4  SAMARKAND, Uzbekistan (Reuters) - Senior offic...  "
      ]
     },
     "execution_count": 18,
     "metadata": {},
     "output_type": "execute_result"
    }
   ],
   "source": [
    "messages.head()"
   ]
  },
  {
   "cell_type": "code",
   "execution_count": 19,
   "id": "dfd11f1e",
   "metadata": {},
   "outputs": [],
   "source": [
    "from nltk.corpus import stopwords\n",
    "from nltk.stem import PorterStemmer,WordNetLemmatizer\n",
    "ps=PorterStemmer()\n",
    "lm=WordNetLemmatizer()\n",
    "corpus=[]\n",
    "for  var in range(len(messages)):\n",
    "   review=re.sub(\"[^a-zA-Z0_9]\",\" \",messages[\"text\"][var])\n",
    "   review=review.lower()\n",
    "   review=review.split()\n",
    "   review=[lm.lemmatize(x) for x in review if  x not in  stopwords.words(\"english\")]\n",
    "   review=\" \".join(review)\n",
    "   corpus.append(review)"
   ]
  },
  {
   "cell_type": "code",
   "execution_count": 20,
   "id": "533ee53c",
   "metadata": {},
   "outputs": [
    {
     "data": {
      "text/plain": [
       "['nairobi reuters kenyan police fired teargas shot air scatter small number demonstrator nairobi two day election main opposition leader appeared pull back call protest vote western city kisumu around 000 demonstrator marched election board office witness said heeding raila odinga appeal protest thursday repeat presidential ballot dispersing peacefully odinga boycotting contest incumbent uhuru kenyatta say free fair election board made insufficient progress towards reform demanded original election held august annulled odinga urged supporter ensure new vote take place repeatedly saying would election tuesday told bbc calling protest election day told people protest polling day said told people stay away said radio interview called clarification odinga spokesman said saying peaceful protest would still take place opposition would fully explain plan wednesday least 9 people died political violence since august ballot evoking unwelcome memory aftermath disputed 00 vote 00 people killed tuesday evening bodyguard deputy chief justice shot wounded bought flower side road police said motive shooting unclear likely add tense atmosphere surrounding vote judge received threat since nullified august result political stand blunted growth east africa richest economy nation value stability relative freedom region plagued conflict kenya supreme court still hearing several case challenging legality thursday election one brought human right activist khelef khalifa two others seek delay vote ground election board sufficiently prepared supreme court body legally postpone poll beyond end month hear case wednesday tuesday election board canceled planned briefing journalist preparation poll last week head election board said clear free fair vote could take place due intimidation political interference spoke resignation election commissioner fled country released statement saying threatened although say day aug vote another member election board found tortured murdered monday international crisis group global think tank called delay election proceeding current condition would deepen kenya ethnic cleavage prolong stalemate already claimed dozen life come high economic cost said election board government said vote go ahead irrespective whether odinga contest court ruling could legally delay run ballot beyond end october tuesday police fired teargas bullet air break protester capital nairobi kisumu odinga stronghold demonstrator said poll take place unclear stopped know election done waiting big announcement baba odinga tomorrow said one demonstrator market trader james ouma around marcher waved branch blew whistle last week odinga supporter disrupted least three official pre polling event police said election board staff seriously injured kenyatta first election aug million vote supreme court annulled outcome sept procedural irregularity odinga team presented list demand election board met opposition monitor access board computer result come key official gone extended holiday numerical result vulnerable typographical error transmitted rather scanned copy paper form tallying center board said impossible meet demand changing technology provider short time frame allotted new election kenya constitution fresh election must held within 0 day nullified one',\n",
       " 'beirut reuters leader lebanon hezbollah said monday iran backed group sent weapon yemen denied behind firing ballistic missile riyadh yemeni territory held tehran allied houthi force televised address sayyed hassan nasrallah also urged follower listen recent comment israeli official said pointed tie saudi arabia israel hezbollah arch foe israeli cabinet minister said week israel covert contact riyadh amid common concern iran first disclosure senior official either country long rumoured secret dealing nasrallah also heaped criticism arab state accused hezbollah terrorism emergency arab league meeting sunday called charge trivial ridiculous asking arab state silent described destructive war saudi led coalition waged yemen confirm ballistic missile advanced weapon gun send weapon yemen bahrain kuwait iraq said hezbollah however sent arm palestinian territory including anti tank missile nasrallah said take pride syria weapon fighting said regional tension risen recent week sunni muslim monarchy saudi arabia shi ite iran whose rivalry wrought upheaval syria iraq yemen bahrain arab league foreign minister held emergency meeting sunday request saudi arabia discus way confront iran hezbollah role region saudi arabia accused heavily armed shi ite hezbollah helping houthi rebel yemen playing role ballistic missile attack month riyadh bogged war launched houthis yemen 0 categorically deny nasrallah said man lebanese hezbollah part firing missile missile fired previously lebanon thrust back forefront power struggle riyadh tehran prime minister quit abruptly broadcast saudi arabia month shock resignation speech saad al hariri accused iran hezbollah sowing strife region lebanese state official politician close hariri say held riyadh forced resign riyadh hariri denied lebanese president michel aoun refused accept resignation hariri come home long time saudi ally sunni leader hariri flew france weekend expected return beirut time independence day celebration wednesday waiting return prime minister still consider resigned nasrallah said come see open dialogue discussion happens country hariri took office last year power sharing deal saw aoun hezbollah political ally become president coalition government includes hezbollah military political movement wields great influence lebanon hezbollah sent thousand fighter syria support damascus government mostly sunni syrian rebel faction received saudi aid islamic state militant nasrallah also thanked major general qassem soleimani described huge role fighting islamic state eastern syrian town albu kamal soleimani commander foreign operation iran revolutionary guard led battle frontlines beginning said battle must continue strength must continue working end remnant daesh said using arabic acronym islamic state hezbollah could withdraw large number commander iraq islamic state defeated said',\n",
       " 'barcelona reuters catalan regional leader carles puigdemont said wednesday favor mediation find way catalan crisis spanish government accepted moment call mediation received various offer last hour receive know ready start mediation process said televised address repeat many time necessary dialogue agreement part political culture people however state given positive answer offer said catalan parliament expected unilaterally declare independence spain next monday referendum spanish government court declared illegal sure next day show best country institution catalonia apply result referendum puigdemont said',\n",
       " 'another day another phony labor shortage new york time sunday published article startling headline lack worker work weighs utah economy eight year steady growth main economic concern utah growing number state longer lack job lack worker time report story go report number anecdote alleged labor shortage one construction company instance claim raised starting wage 0 percent 0 hour unable attract sufficient worker data plural anecdote actual data support idea labor shortage upward movement recent month kind dramatic upswing construction wage would associated genuine labor shortage anything recent movement look much like normal volatility within normal range average weekly earnings employee engaged construction utah stood 9 0 april 0 according bureau labor statistic rise percent year ago four year ago average weekly earnings 9 0 9 number adjusted inflation mean actual decline wage four year even steeper number bounced around lot mostly lower data average hourly earnings also fail show anything look like labor shortage according bureau labor statistic average hourly wage april percent compared year ago far cry 0 percent reported company mentioned new york time article much deeper story new york time actually explains supposed labor shortage really nothing worker reacting lack wage growth word company offering wage high enough attract worker lack worker lack pay worker enough get agree work short seeing something akin wage strike employer hope hold long enough waging raise government step solve problem could government opening country immigrant really bottom alleged labor shortage campaign get government loosen immigration employer keep paying low wage',\n",
       " 'samarkand uzbekistan reuters senior official european union iran spoke friday defense agreement limiting tehran nuclear program pact come heavy pressure u president donald trump nuclear deal major achievement european international multilateral diplomacy eu foreign policy chief federica mogherini told conference uzbekistan european union make sure continue fully implemented part said trump oct dealt blow pact refusing certify tehran complying accord iran agreed curb nuclear program return relief economic sanction international inspector said complying u congress mid december decide whether reimpose sanction lifted deal iranian foreign minister mohammad javad zarif also spoke friday united nation sponsored conference central asian security development samarkand clinching nuclear deal fulfilling commitment joint comprehensive plan action action proved compliance principle non proliferation nuclear disarmament said without mentioning trump directly mogherini said eu tie ex soviet central asia time high following move uzbekistan new government open previously isolated nation mogherini first eu foreign policy chief visit uzbekistan four year met president shavkat mirziyoyev well foreign minister five central asian nation mirziyoyev elected president last december death authoritarian predecessor islam karimov accused systematic human right abuse whose relation west poor seeking modernize uzbekistan economy mirziyoyev moved mend relation announced ambitious reform program home long fruitful meeting mirziyoyev mogherini said reform full support brussels mirziyoyev also improved tie neighboring kazakhstan kyrgyzstan tajikistan turkmenistan year bitter standoff matter border water use winning praise mogherini would say top historical experience cooperation want use target point starting point said']"
      ]
     },
     "execution_count": 20,
     "metadata": {},
     "output_type": "execute_result"
    }
   ],
   "source": [
    "corpus[0:5]"
   ]
  },
  {
   "cell_type": "code",
   "execution_count": 21,
   "id": "f46a553e",
   "metadata": {},
   "outputs": [
    {
     "name": "stdout",
     "output_type": "stream",
     "text": [
      "3047177\n"
     ]
    }
   ],
   "source": [
    "print(sum(len(var.split())for var in corpus))"
   ]
  },
  {
   "cell_type": "code",
   "execution_count": 22,
   "id": "66530880",
   "metadata": {},
   "outputs": [
    {
     "name": "stdout",
     "output_type": "stream",
     "text": [
      "3201\n"
     ]
    }
   ],
   "source": [
    "print(max(len(var.split()) for var in corpus))"
   ]
  },
  {
   "cell_type": "code",
   "execution_count": 23,
   "id": "a0c21d61",
   "metadata": {},
   "outputs": [
    {
     "data": {
      "text/plain": [
       "9927"
      ]
     },
     "execution_count": 23,
     "metadata": {},
     "output_type": "execute_result"
    }
   ],
   "source": [
    "len(corpus)"
   ]
  },
  {
   "cell_type": "code",
   "execution_count": 24,
   "id": "bc916153",
   "metadata": {},
   "outputs": [],
   "source": [
    "from sklearn.feature_extraction.text import TfidfVectorizer\n",
    "tfidf=TfidfVectorizer(max_features=8000)\n",
    "x=tfidf.fit_transform(corpus).toarray()\n"
   ]
  },
  {
   "cell_type": "code",
   "execution_count": 25,
   "id": "3c29895a",
   "metadata": {},
   "outputs": [
    {
     "data": {
      "text/plain": [
       "dtype('int32')"
      ]
     },
     "execution_count": 25,
     "metadata": {},
     "output_type": "execute_result"
    }
   ],
   "source": [
    "y = data[\"label\"]\n",
    "y=y.astype(np.int32())\n",
    "y.dtype\n"
   ]
  },
  {
   "cell_type": "code",
   "execution_count": 26,
   "id": "379598b2",
   "metadata": {},
   "outputs": [
    {
     "data": {
      "text/plain": [
       "0"
      ]
     },
     "execution_count": 26,
     "metadata": {},
     "output_type": "execute_result"
    }
   ],
   "source": [
    "y.isna().sum()"
   ]
  },
  {
   "cell_type": "code",
   "execution_count": 27,
   "id": "d54845e3",
   "metadata": {},
   "outputs": [],
   "source": [
    "from sklearn.model_selection import train_test_split\n",
    "\n",
    "X_train,X_test,y_train,y_test= train_test_split(x,y,test_size=0.2,random_state=42)"
   ]
  },
  {
   "cell_type": "code",
   "execution_count": 28,
   "id": "d6019562",
   "metadata": {},
   "outputs": [],
   "source": [
    "# y_train.isna().sum()\n",
    "# y_train.dtype"
   ]
  },
  {
   "cell_type": "code",
   "execution_count": 29,
   "id": "ece29697",
   "metadata": {},
   "outputs": [
    {
     "data": {
      "text/plain": [
       "RandomForestClassifier()"
      ]
     },
     "execution_count": 29,
     "metadata": {},
     "output_type": "execute_result"
    }
   ],
   "source": [
    "from sklearn.ensemble import RandomForestClassifier\n",
    "rfc=RandomForestClassifier()\n",
    "rfc.fit(X_train,y_train)"
   ]
  },
  {
   "cell_type": "code",
   "execution_count": 30,
   "id": "54169810",
   "metadata": {},
   "outputs": [
    {
     "name": "stdout",
     "output_type": "stream",
     "text": [
      "RandomForestClassifier\n",
      "              precision    recall  f1-score   support\n",
      "\n",
      "           0     0.9043    0.8999    0.9021      1019\n",
      "           1     0.8951    0.8997    0.8974       967\n",
      "\n",
      "    accuracy                         0.8998      1986\n",
      "   macro avg     0.8997    0.8998    0.8997      1986\n",
      "weighted avg     0.8998    0.8998    0.8998      1986\n",
      "\n"
     ]
    },
    {
     "data": {
      "image/png": "[encoded data removed]",
      "text/plain": [
       "<Figure size 500x500 with 2 Axes>"
      ]
     },
     "metadata": {},
     "output_type": "display_data"
    }
   ],
   "source": [
    "y_pred_rfc=rfc.predict(X_test)\n",
    "from sklearn.metrics import classification_report,confusion_matrix\n",
    "import matplotlib.pyplot as plt\n",
    "print(\"RandomForestClassifier\")\n",
    "print(classification_report(y_test,y_pred_rfc,digits=4))\n",
    "cm=confusion_matrix(y_test,y_pred_rfc)\n",
    "plt.figure(figsize=(5,5),dpi=100)\n",
    "sns.heatmap(cm,cmap=\"Blues\",annot=True,fmt=\"d\")\n",
    "\n",
    "plt.xlabel('Predicted Class')\n",
    "plt.ylabel('Real Class')\n",
    "plt.show()\n",
    "\n"
   ]
  },
  {
   "cell_type": "code",
   "execution_count": 31,
   "id": "393d634c",
   "metadata": {},
   "outputs": [
    {
     "data": {
      "text/plain": [
       "MultinomialNB()"
      ]
     },
     "execution_count": 31,
     "metadata": {},
     "output_type": "execute_result"
    }
   ],
   "source": [
    "from sklearn.naive_bayes import MultinomialNB\n",
    "mtnb=MultinomialNB()\n",
    "mtnb.fit(X_train,y_train)\n"
   ]
  },
  {
   "cell_type": "code",
   "execution_count": 32,
   "id": "ad78b735",
   "metadata": {},
   "outputs": [
    {
     "name": "stdout",
     "output_type": "stream",
     "text": [
      "MultinomialNB\n",
      "              precision    recall  f1-score   support\n",
      "\n",
      "           0     0.9043    0.8999    0.9021      1019\n",
      "           1     0.8951    0.8997    0.8974       967\n",
      "\n",
      "    accuracy                         0.8998      1986\n",
      "   macro avg     0.8997    0.8998    0.8997      1986\n",
      "weighted avg     0.8998    0.8998    0.8998      1986\n",
      "\n"
     ]
    },
    {
     "data": {
      "image/png": "[encoded data removed]",
      "text/plain": [
       "<Figure size 500x500 with 2 Axes>"
      ]
     },
     "metadata": {},
     "output_type": "display_data"
    }
   ],
   "source": [
    "y_pred_mtnb=rfc.predict(X_test)\n",
    "\n",
    "print(\"MultinomialNB\")\n",
    "print(classification_report(y_test,y_pred_mtnb,digits=4))\n",
    "cm=confusion_matrix(y_test,y_pred_mtnb)\n",
    "plt.figure(figsize=(5,5),dpi=100)\n",
    "sns.heatmap(cm,cmap=\"Blues\",annot=True,fmt=\"d\")\n",
    "\n",
    "plt.xlabel('Predicted Class')\n",
    "plt.ylabel('Real Class')\n",
    "plt.show()"
   ]
  },
  {
   "cell_type": "code",
   "execution_count": 33,
   "id": "4872db81",
   "metadata": {},
   "outputs": [
    {
     "name": "stdout",
     "output_type": "stream",
     "text": [
      "----------Logistic Regression-------\n",
      " accuracy_score  0.9113796576032226\n",
      " precision_score  0.9073120494335737\n",
      " recall_score  0.9110651499482937\n",
      " f1_score  0.9091847265221878\n",
      "\n",
      "\n",
      "----------SVC-------\n",
      " accuracy_score  0.9179254783484391\n",
      " precision_score  0.9135802469135802\n",
      " recall_score  0.9183040330920372\n",
      " f1_score  0.9159360495100567\n",
      "\n",
      "\n",
      "----------SGD Classifier-------\n",
      " accuracy_score  0.9244712990936556\n",
      " precision_score  0.9286463798530955\n",
      " recall_score  0.9152016546018614\n",
      " f1_score  0.9218749999999999\n",
      "\n",
      "\n",
      "----------Decision Tree Classifier-------\n",
      " accuracy_score  0.8746223564954683\n",
      " precision_score  0.8685831622176592\n",
      " recall_score  0.8748707342295761\n",
      " f1_score  0.8717156105100464\n",
      "\n",
      "\n",
      "----------XG Boosting Classifier-------\n",
      " accuracy_score  0.9400805639476334\n",
      " precision_score  0.9308943089430894\n",
      " recall_score  0.9472595656670114\n",
      " f1_score  0.93900563813429\n",
      "\n",
      "\n",
      "----------Gradient Boosting Classifier-------\n",
      " accuracy_score  0.9219536757301108\n",
      " precision_score  0.9027777777777778\n",
      " recall_score  0.9410548086866598\n",
      " f1_score  0.9215189873417722\n",
      "\n",
      "\n",
      "----------Ada Boost Classifier-------\n",
      " accuracy_score  0.918932527693857\n",
      " precision_score  0.9206680584551148\n",
      " recall_score  0.9120992761116856\n",
      " f1_score  0.9163636363636364\n",
      "\n",
      "\n",
      "----------MultinomialNB-------\n",
      " accuracy_score  0.824269889224572\n",
      " precision_score  0.8232217573221757\n",
      " recall_score  0.8138572905894519\n",
      " f1_score  0.8185127405096204\n",
      "\n",
      "\n"
     ]
    }
   ],
   "source": [
    "from sklearn.linear_model import LogisticRegression,SGDClassifier\n",
    "from sklearn.svm import SVC\n",
    "from sklearn.tree import DecisionTreeClassifier\n",
    "from sklearn.ensemble import AdaBoostClassifier,VotingClassifier,GradientBoostingClassifier\n",
    "from xgboost import XGBClassifier\n",
    "\n",
    "logistic_regression=LogisticRegression()\n",
    "svm=SVC()\n",
    "sgdclassifier=SGDClassifier()\n",
    "dtc=DecisionTreeClassifier()\n",
    "xgboost=XGBClassifier()\n",
    "gradient_boosting = GradientBoostingClassifier()\n",
    "adaboost = AdaBoostClassifier()\n",
    "from sklearn.metrics import precision_score,accuracy_score,f1_score,recall_score\n",
    "\n",
    "logistic_regression.fit(X_train, y_train)\n",
    "svm.fit(X_train, y_train)\n",
    "sgdclassifier.fit(X_train, y_train)\n",
    "dtc.fit(X_train, y_train)\n",
    "gradient_boosting.fit(X_train, y_train)\n",
    "adaboost.fit(X_train, y_train)\n",
    "xgboost.fit(X_train, y_train)\n",
    "\n",
    "models=[logistic_regression,svm,sgdclassifier,dtc,xgboost,gradient_boosting,adaboost,mtnb]\n",
    "models_names=[\"Logistic Regression\",\"SVC\",\"SGD Classifier\",\"Decision Tree Classifier\",\"XG Boosting Classifier\",\n",
    "              \"Gradient Boosting Classifier\",\"Ada Boost Classifier\",\"MultinomialNB\"]\n",
    "for name,model  in zip(models_names,models):\n",
    "  print(f\"----------{name}-------\")\n",
    "  print(f\" accuracy_score  {accuracy_score(y_test,model.predict(X_test))}\")\n",
    "  print(f\" precision_score  {precision_score(y_test,model.predict(X_test))}\")\n",
    "  print(f\" recall_score  {recall_score(y_test,model.predict(X_test))}\")\n",
    "  print(f\" f1_score  {f1_score(y_test,model.predict(X_test))}\")\n",
    "  print(\"\\n\")\n",
    "\n",
    "\n",
    "\n",
    "\n"
   ]
  },
  {
   "cell_type": "code",
   "execution_count": 34,
   "id": "1aa4a2a6",
   "metadata": {},
   "outputs": [
    {
     "data": {
      "text/plain": [
       "VotingClassifier(estimators=[('svm', SVC()), ('dtc', DecisionTreeClassifier()),\n",
       "                             ('logistic_regression', LogisticRegression()),\n",
       "                             ('sgdclassifier', SGDClassifier()),\n",
       "                             ('adaboost', AdaBoostClassifier()),\n",
       "                             ('xgboost',\n",
       "                              XGBClassifier(base_score=None, booster=None,\n",
       "                                            callbacks=None,\n",
       "                                            colsample_bylevel=None,\n",
       "                                            colsample_bynode=None,\n",
       "                                            colsample_bytree=None, device=None,\n",
       "                                            early_stoppin...\n",
       "                                            learning_rate=None, max_bin=None,\n",
       "                                            max_cat_threshold=None,\n",
       "                                            max_cat_to_onehot=None,\n",
       "                                            max_delta_step=None, max_depth=None,\n",
       "                                            max_leaves=None,\n",
       "                                            min_child_weight=None, missing=nan,\n",
       "                                            monotone_constraints=None,\n",
       "                                            multi_strategy=None,\n",
       "                                            n_estimators=None, n_jobs=None,\n",
       "                                            num_parallel_tree=None,\n",
       "                                            random_state=None, ...)),\n",
       "                             ('gradient_boosting',\n",
       "                              GradientBoostingClassifier()),\n",
       "                             ('MultinomialNB', MultinomialNB())])"
      ]
     },
     "execution_count": 34,
     "metadata": {},
     "output_type": "execute_result"
    }
   ],
   "source": [
    "ensemble=VotingClassifier(estimators=[\n",
    "            (\"svm\",svm),(\"dtc\",dtc),(\"logistic_regression\",logistic_regression),\n",
    "            (\"sgdclassifier\",sgdclassifier),(\"adaboost\",adaboost),(\"xgboost\",xgboost),(\"gradient_boosting\",gradient_boosting),(\"MultinomialNB\",mtnb)\n",
    "],voting=\"hard\")\n",
    "ensemble.fit(X_train,y_train)\n"
   ]
  },
  {
   "cell_type": "code",
   "execution_count": 35,
   "id": "25ea5ced",
   "metadata": {},
   "outputs": [
    {
     "name": "stdout",
     "output_type": "stream",
     "text": [
      "--- Ensemble (Voting Classifier) ---\n",
      "Accuracy: 0.93202416918429\n",
      "Precision: 0.9342379958246346\n",
      "Recall: 0.9255429162357808\n",
      "F1 Score: 0.9298701298701298\n",
      "              precision    recall  f1-score   support\n",
      "\n",
      "           0     0.9300    0.9382    0.9340      1019\n",
      "           1     0.9342    0.9255    0.9299       967\n",
      "\n",
      "    accuracy                         0.9320      1986\n",
      "   macro avg     0.9321    0.9319    0.9320      1986\n",
      "weighted avg     0.9320    0.9320    0.9320      1986\n",
      "\n"
     ]
    },
    {
     "data": {
      "image/png": "[encoded data removed]",
      "text/plain": [
       "<Figure size 500x500 with 2 Axes>"
      ]
     },
     "metadata": {},
     "output_type": "display_data"
    }
   ],
   "source": [
    "y_pred_ensemble = ensemble.predict(X_test)\n",
    "\n",
    "print(\"--- Ensemble (Voting Classifier) ---\")\n",
    "print(\"Accuracy:\", accuracy_score(y_test, y_pred_ensemble))\n",
    "print(\"Precision:\", precision_score(y_test, y_pred_ensemble))\n",
    "print(\"Recall:\", recall_score(y_test, y_pred_ensemble))\n",
    "print(\"F1 Score:\", f1_score(y_test, y_pred_ensemble))\n",
    "\n",
    "print(classification_report(y_test,y_pred_ensemble,digits=4))\n",
    "cm=confusion_matrix(y_test,y_pred_ensemble)\n",
    "plt.figure(figsize=(5,5),dpi=100)\n",
    "sns.heatmap(cm,cmap=\"Blues\",annot=True,fmt=\"d\")\n",
    "\n",
    "plt.xlabel('Predicted Class')\n",
    "plt.ylabel('Real Class')\n",
    "plt.show()"
   ]
  },
  {
   "cell_type": "code",
   "execution_count": 36,
   "id": "56c079f1",
   "metadata": {},
   "outputs": [
    {
     "data": {
      "text/plain": [
       "StackingClassifier(estimators=[('svm', SVC()),\n",
       "                               ('dtc', DecisionTreeClassifier()),\n",
       "                               ('logistic_regression', LogisticRegression()),\n",
       "                               ('sgdclassifier', SGDClassifier()),\n",
       "                               ('adaboost', AdaBoostClassifier()),\n",
       "                               ('xgboost',\n",
       "                                XGBClassifier(base_score=None, booster=None,\n",
       "                                              callbacks=None,\n",
       "                                              colsample_bylevel=None,\n",
       "                                              colsample_bynode=None,\n",
       "                                              colsample_bytree=None,\n",
       "                                              device=None,\n",
       "                                              early_stopp...\n",
       "                                              max_cat_threshold=None,\n",
       "                                              max_cat_to_onehot=None,\n",
       "                                              max_delta_step=None,\n",
       "                                              max_depth=None, max_leaves=None,\n",
       "                                              min_child_weight=None,\n",
       "                                              missing=nan,\n",
       "                                              monotone_constraints=None,\n",
       "                                              multi_strategy=None,\n",
       "                                              n_estimators=None, n_jobs=None,\n",
       "                                              num_parallel_tree=None,\n",
       "                                              random_state=None, ...)),\n",
       "                               ('gradient_boosting',\n",
       "                                GradientBoostingClassifier()),\n",
       "                               ('mtnb', MultinomialNB())],\n",
       "                   final_estimator=SVC(), n_jobs=-1)"
      ]
     },
     "execution_count": 36,
     "metadata": {},
     "output_type": "execute_result"
    }
   ],
   "source": [
    "from sklearn.ensemble import StackingClassifier\n",
    "\n",
    "models_level_0=[\n",
    "            (\"svm\",svm),(\"dtc\",dtc),(\"logistic_regression\",logistic_regression),\n",
    "            (\"sgdclassifier\",sgdclassifier),(\"adaboost\",adaboost),(\"xgboost\",xgboost),(\"gradient_boosting\",gradient_boosting)\n",
    "            ,(\"mtnb\",mtnb)\n",
    "]\n",
    "final_level=SVC()\n",
    "stacking_classifier=StackingClassifier(\n",
    "            estimators=models_level_0,\n",
    "            final_estimator=final_level,\n",
    "            n_jobs=-1,\n",
    "           \n",
    ")\n",
    "stacking_classifier.fit(X_train,y_train)\n"
   ]
  },
  {
   "cell_type": "code",
   "execution_count": 37,
   "id": "b4388259",
   "metadata": {},
   "outputs": [
    {
     "name": "stdout",
     "output_type": "stream",
     "text": [
      "--- Stacking Classifier ---\n",
      "Accuracy: 0.9441087613293051\n",
      "Precision: 0.9376278118609407\n",
      "Recall: 0.9482936918304034\n",
      "F1 Score: 0.9429305912596402\n",
      "              precision    recall  f1-score   support\n",
      "\n",
      "           0     0.9504    0.9401    0.9452      1019\n",
      "           1     0.9376    0.9483    0.9429       967\n",
      "\n",
      "    accuracy                         0.9441      1986\n",
      "   macro avg     0.9440    0.9442    0.9441      1986\n",
      "weighted avg     0.9442    0.9441    0.9441      1986\n",
      "\n"
     ]
    },
    {
     "data": {
      "image/png": "[encoded data removed]",
      "text/plain": [
       "<Figure size 500x500 with 2 Axes>"
      ]
     },
     "metadata": {},
     "output_type": "display_data"
    }
   ],
   "source": [
    "y_pred_stacking = stacking_classifier.predict(X_test)\n",
    "print(\"--- Stacking Classifier ---\")\n",
    "print(\"Accuracy:\", accuracy_score(y_test, y_pred_stacking))\n",
    "print(\"Precision:\", precision_score(y_test, y_pred_stacking))\n",
    "print(\"Recall:\", recall_score(y_test, y_pred_stacking))\n",
    "print(\"F1 Score:\", f1_score(y_test, y_pred_stacking))\n",
    "print(classification_report(y_test,y_pred_stacking,digits=4))\n",
    "cm=confusion_matrix(y_test,y_pred_stacking)\n",
    "plt.figure(figsize=(5,5),dpi=100)\n",
    "sns.heatmap(cm,cmap=\"Blues\",annot=True,fmt=\"d\")\n",
    "\n",
    "plt.xlabel('Predicted Class')\n",
    "plt.ylabel('Real Class')\n",
    "plt.show()"
   ]
  }
 ],
 "metadata": {
  "kernelspec": {
   "display_name": "base",
   "language": "python",
   "name": "python3"
  },
  "language_info": {
   "codemirror_mode": {
    "name": "ipython",
    "version": 3
   },
   "file_extension": ".py",
   "mimetype": "text/x-python",
   "name": "python",
   "nbconvert_exporter": "python",
   "pygments_lexer": "ipython3",
   "version": "3.9.13"
  }
 },
 "nbformat": 4,
 "nbformat_minor": 5
}
