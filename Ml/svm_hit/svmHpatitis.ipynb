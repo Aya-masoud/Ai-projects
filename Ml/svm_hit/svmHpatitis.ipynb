{
 "cells": [
  {
   "cell_type": "code",
   "execution_count": 1,
   "id": "148ff428",
   "metadata": {},
   "outputs": [],
   "source": [
    "import pandas as pd \n",
    "import numpy as np \n",
    "import matplotlib.pyplot as plt\n",
    "import plotly.express as px\n"
   ]
  },
  {
   "cell_type": "code",
   "execution_count": 2,
   "id": "b6c47796",
   "metadata": {},
   "outputs": [],
   "source": [
    "data=pd.read_csv(\"hepatitis.csv\",na_values=\"?\")"
   ]
  },
  {
   "cell_type": "code",
   "execution_count": 3,
   "id": "de4c5e23",
   "metadata": {},
   "outputs": [
    {
     "data": {
      "text/html": [
       "<div>\n",
       "<style scoped>\n",
       "    .dataframe tbody tr th:only-of-type {\n",
       "        vertical-align: middle;\n",
       "    }\n",
       "\n",
       "    .dataframe tbody tr th {\n",
       "        vertical-align: top;\n",
       "    }\n",
       "\n",
       "    .dataframe thead th {\n",
       "        text-align: right;\n",
       "    }\n",
       "</style>\n",
       "<table border=\"1\" class=\"dataframe\">\n",
       "  <thead>\n",
       "    <tr style=\"text-align: right;\">\n",
       "      <th></th>\n",
       "      <th>ID</th>\n",
       "      <th>target</th>\n",
       "      <th>age</th>\n",
       "      <th>gender</th>\n",
       "      <th>steroid</th>\n",
       "      <th>antivirals</th>\n",
       "      <th>fatigue</th>\n",
       "      <th>malaise</th>\n",
       "      <th>anorexia</th>\n",
       "      <th>liverBig</th>\n",
       "      <th>...</th>\n",
       "      <th>spleen</th>\n",
       "      <th>spiders</th>\n",
       "      <th>ascites</th>\n",
       "      <th>varices</th>\n",
       "      <th>bili</th>\n",
       "      <th>alk</th>\n",
       "      <th>sgot</th>\n",
       "      <th>albu</th>\n",
       "      <th>protime</th>\n",
       "      <th>histology</th>\n",
       "    </tr>\n",
       "  </thead>\n",
       "  <tbody>\n",
       "    <tr>\n",
       "      <th>0</th>\n",
       "      <td>1</td>\n",
       "      <td>2</td>\n",
       "      <td>30</td>\n",
       "      <td>2</td>\n",
       "      <td>1.0</td>\n",
       "      <td>2</td>\n",
       "      <td>2.0</td>\n",
       "      <td>2.0</td>\n",
       "      <td>2.0</td>\n",
       "      <td>1.0</td>\n",
       "      <td>...</td>\n",
       "      <td>2.0</td>\n",
       "      <td>2.0</td>\n",
       "      <td>2.0</td>\n",
       "      <td>2.0</td>\n",
       "      <td>1.0</td>\n",
       "      <td>85.0</td>\n",
       "      <td>18.0</td>\n",
       "      <td>4.0</td>\n",
       "      <td>NaN</td>\n",
       "      <td>1</td>\n",
       "    </tr>\n",
       "    <tr>\n",
       "      <th>1</th>\n",
       "      <td>2</td>\n",
       "      <td>2</td>\n",
       "      <td>50</td>\n",
       "      <td>1</td>\n",
       "      <td>1.0</td>\n",
       "      <td>2</td>\n",
       "      <td>1.0</td>\n",
       "      <td>2.0</td>\n",
       "      <td>2.0</td>\n",
       "      <td>1.0</td>\n",
       "      <td>...</td>\n",
       "      <td>2.0</td>\n",
       "      <td>2.0</td>\n",
       "      <td>2.0</td>\n",
       "      <td>2.0</td>\n",
       "      <td>0.9</td>\n",
       "      <td>135.0</td>\n",
       "      <td>42.0</td>\n",
       "      <td>3.5</td>\n",
       "      <td>NaN</td>\n",
       "      <td>1</td>\n",
       "    </tr>\n",
       "    <tr>\n",
       "      <th>2</th>\n",
       "      <td>3</td>\n",
       "      <td>2</td>\n",
       "      <td>78</td>\n",
       "      <td>1</td>\n",
       "      <td>2.0</td>\n",
       "      <td>2</td>\n",
       "      <td>1.0</td>\n",
       "      <td>2.0</td>\n",
       "      <td>2.0</td>\n",
       "      <td>2.0</td>\n",
       "      <td>...</td>\n",
       "      <td>2.0</td>\n",
       "      <td>2.0</td>\n",
       "      <td>2.0</td>\n",
       "      <td>2.0</td>\n",
       "      <td>0.7</td>\n",
       "      <td>96.0</td>\n",
       "      <td>32.0</td>\n",
       "      <td>4.0</td>\n",
       "      <td>NaN</td>\n",
       "      <td>1</td>\n",
       "    </tr>\n",
       "    <tr>\n",
       "      <th>3</th>\n",
       "      <td>4</td>\n",
       "      <td>2</td>\n",
       "      <td>31</td>\n",
       "      <td>1</td>\n",
       "      <td>NaN</td>\n",
       "      <td>1</td>\n",
       "      <td>2.0</td>\n",
       "      <td>2.0</td>\n",
       "      <td>2.0</td>\n",
       "      <td>2.0</td>\n",
       "      <td>...</td>\n",
       "      <td>2.0</td>\n",
       "      <td>2.0</td>\n",
       "      <td>2.0</td>\n",
       "      <td>2.0</td>\n",
       "      <td>0.7</td>\n",
       "      <td>46.0</td>\n",
       "      <td>52.0</td>\n",
       "      <td>4.0</td>\n",
       "      <td>80.0</td>\n",
       "      <td>1</td>\n",
       "    </tr>\n",
       "    <tr>\n",
       "      <th>4</th>\n",
       "      <td>5</td>\n",
       "      <td>2</td>\n",
       "      <td>34</td>\n",
       "      <td>1</td>\n",
       "      <td>2.0</td>\n",
       "      <td>2</td>\n",
       "      <td>2.0</td>\n",
       "      <td>2.0</td>\n",
       "      <td>2.0</td>\n",
       "      <td>2.0</td>\n",
       "      <td>...</td>\n",
       "      <td>2.0</td>\n",
       "      <td>2.0</td>\n",
       "      <td>2.0</td>\n",
       "      <td>2.0</td>\n",
       "      <td>1.0</td>\n",
       "      <td>NaN</td>\n",
       "      <td>200.0</td>\n",
       "      <td>4.0</td>\n",
       "      <td>NaN</td>\n",
       "      <td>1</td>\n",
       "    </tr>\n",
       "  </tbody>\n",
       "</table>\n",
       "<p>5 rows × 21 columns</p>\n",
       "</div>"
      ],
      "text/plain": [
       "   ID  target  age  gender  steroid  antivirals  fatigue  malaise  anorexia  \\\n",
       "0   1       2   30       2      1.0           2      2.0      2.0       2.0   \n",
       "1   2       2   50       1      1.0           2      1.0      2.0       2.0   \n",
       "2   3       2   78       1      2.0           2      1.0      2.0       2.0   \n",
       "3   4       2   31       1      NaN           1      2.0      2.0       2.0   \n",
       "4   5       2   34       1      2.0           2      2.0      2.0       2.0   \n",
       "\n",
       "   liverBig  ...  spleen  spiders  ascites  varices  bili    alk   sgot  albu  \\\n",
       "0       1.0  ...     2.0      2.0      2.0      2.0   1.0   85.0   18.0   4.0   \n",
       "1       1.0  ...     2.0      2.0      2.0      2.0   0.9  135.0   42.0   3.5   \n",
       "2       2.0  ...     2.0      2.0      2.0      2.0   0.7   96.0   32.0   4.0   \n",
       "3       2.0  ...     2.0      2.0      2.0      2.0   0.7   46.0   52.0   4.0   \n",
       "4       2.0  ...     2.0      2.0      2.0      2.0   1.0    NaN  200.0   4.0   \n",
       "\n",
       "   protime  histology  \n",
       "0      NaN          1  \n",
       "1      NaN          1  \n",
       "2      NaN          1  \n",
       "3     80.0          1  \n",
       "4      NaN          1  \n",
       "\n",
       "[5 rows x 21 columns]"
      ]
     },
     "execution_count": 3,
     "metadata": {},
     "output_type": "execute_result"
    }
   ],
   "source": [
    "data.head()"
   ]
  },
  {
   "cell_type": "code",
   "execution_count": 4,
   "id": "538151d9",
   "metadata": {},
   "outputs": [
    {
     "data": {
      "text/plain": [
       "ID              int64\n",
       "target          int64\n",
       "age             int64\n",
       "gender          int64\n",
       "steroid       float64\n",
       "antivirals      int64\n",
       "fatigue       float64\n",
       "malaise       float64\n",
       "anorexia      float64\n",
       "liverBig      float64\n",
       "liverFirm     float64\n",
       "spleen        float64\n",
       "spiders       float64\n",
       "ascites       float64\n",
       "varices       float64\n",
       "bili          float64\n",
       "alk           float64\n",
       "sgot          float64\n",
       "albu          float64\n",
       "protime       float64\n",
       "histology       int64\n",
       "dtype: object"
      ]
     },
     "execution_count": 4,
     "metadata": {},
     "output_type": "execute_result"
    }
   ],
   "source": [
    "data.dtypes"
   ]
  },
  {
   "cell_type": "code",
   "execution_count": 5,
   "id": "c2924551",
   "metadata": {},
   "outputs": [
    {
     "name": "stdout",
     "output_type": "stream",
     "text": [
      "<class 'pandas.core.frame.DataFrame'>\n",
      "RangeIndex: 155 entries, 0 to 154\n",
      "Data columns (total 21 columns):\n",
      " #   Column      Non-Null Count  Dtype  \n",
      "---  ------      --------------  -----  \n",
      " 0   ID          155 non-null    int64  \n",
      " 1   target      155 non-null    int64  \n",
      " 2   age         155 non-null    int64  \n",
      " 3   gender      155 non-null    int64  \n",
      " 4   steroid     154 non-null    float64\n",
      " 5   antivirals  155 non-null    int64  \n",
      " 6   fatigue     154 non-null    float64\n",
      " 7   malaise     154 non-null    float64\n",
      " 8   anorexia    154 non-null    float64\n",
      " 9   liverBig    145 non-null    float64\n",
      " 10  liverFirm   144 non-null    float64\n",
      " 11  spleen      150 non-null    float64\n",
      " 12  spiders     150 non-null    float64\n",
      " 13  ascites     150 non-null    float64\n",
      " 14  varices     150 non-null    float64\n",
      " 15  bili        149 non-null    float64\n",
      " 16  alk         126 non-null    float64\n",
      " 17  sgot        151 non-null    float64\n",
      " 18  albu        139 non-null    float64\n",
      " 19  protime     88 non-null     float64\n",
      " 20  histology   155 non-null    int64  \n",
      "dtypes: float64(15), int64(6)\n",
      "memory usage: 25.6 KB\n"
     ]
    }
   ],
   "source": [
    "data.info()"
   ]
  },
  {
   "cell_type": "code",
   "execution_count": 6,
   "id": "cffd9ead",
   "metadata": {},
   "outputs": [
    {
     "data": {
      "text/plain": [
       "ID             0\n",
       "target         0\n",
       "age            0\n",
       "gender         0\n",
       "steroid        1\n",
       "antivirals     0\n",
       "fatigue        1\n",
       "malaise        1\n",
       "anorexia       1\n",
       "liverBig      10\n",
       "liverFirm     11\n",
       "spleen         5\n",
       "spiders        5\n",
       "ascites        5\n",
       "varices        5\n",
       "bili           6\n",
       "alk           29\n",
       "sgot           4\n",
       "albu          16\n",
       "protime       67\n",
       "histology      0\n",
       "dtype: int64"
      ]
     },
     "execution_count": 6,
     "metadata": {},
     "output_type": "execute_result"
    }
   ],
   "source": [
    "data.isnull().sum()"
   ]
  },
  {
   "cell_type": "code",
   "execution_count": 7,
   "id": "cdf228cc",
   "metadata": {},
   "outputs": [
    {
     "data": {
      "text/plain": [
       "Index(['ID', 'target', 'age', 'gender', 'steroid', 'antivirals', 'fatigue',\n",
       "       'malaise', 'anorexia', 'liverBig', 'liverFirm', 'spleen', 'spiders',\n",
       "       'ascites', 'varices', 'bili', 'alk', 'sgot', 'albu', 'protime',\n",
       "       'histology'],\n",
       "      dtype='object')"
      ]
     },
     "execution_count": 7,
     "metadata": {},
     "output_type": "execute_result"
    }
   ],
   "source": [
    "cols=data.columns\n",
    "cols"
   ]
  },
  {
   "cell_type": "code",
   "execution_count": 8,
   "id": "8edfe76a",
   "metadata": {},
   "outputs": [
    {
     "data": {
      "text/plain": [
       "2    123\n",
       "1     32\n",
       "Name: target, dtype: int64"
      ]
     },
     "execution_count": 8,
     "metadata": {},
     "output_type": "execute_result"
    }
   ],
   "source": [
    "data.target.value_counts()"
   ]
  },
  {
   "cell_type": "code",
   "execution_count": 9,
   "id": "21a90764",
   "metadata": {},
   "outputs": [
    {
     "data": {
      "text/plain": [
       "array([30, 50, 78, 31, 34, 51, 23, 39, 32, 41, 47, 38, 66, 40, 22, 27, 42,\n",
       "       25, 49, 58, 61, 62, 26, 35, 37, 20, 65, 52, 33, 56, 28, 36, 44, 64,\n",
       "       45, 57, 24, 67, 59, 60, 48, 54,  7, 69, 72, 70, 46, 53, 43],\n",
       "      dtype=int64)"
      ]
     },
     "execution_count": 9,
     "metadata": {},
     "output_type": "execute_result"
    }
   ],
   "source": [
    "data.age.unique()"
   ]
  },
  {
   "cell_type": "code",
   "execution_count": 10,
   "id": "69129542",
   "metadata": {},
   "outputs": [
    {
     "name": "stdout",
     "output_type": "stream",
     "text": [
      "[  1   2   3   4   5   6   7   8   9  10  11  12  13  14  15  16  17  18\n",
      "  19  20  21  22  23  24  25  26  27  28  29  30  31  32  33  34  35  36\n",
      "  37  38  39  40  41  42  43  44  45  46  47  48  49  50  51  52  53  54\n",
      "  55  56  57  58  59  60  61  62  63  64  65  66  67  68  69  70  71  72\n",
      "  73  74  75  76  77  78  79  80  81  82  83  84  85  86  87  88  89  90\n",
      "  91  92  93  94  95  96  97  98  99 100 101 102 103 104 105 106 107 108\n",
      " 109 110 111 112 113 114 115 116 117 118 119 120 121 122 123 124 125 126\n",
      " 127 128 129 130 131 132 133 134 135 136 137 138 139 140 141 142 143 144\n",
      " 145 146 147 148 149 150 151 152 153 154 155]\n",
      "[2 1]\n",
      "[30 50 78 31 34 51 23 39 32 41 47 38 66 40 22 27 42 25 49 58 61 62 26 35\n",
      " 37 20 65 52 33 56 28 36 44 64 45 57 24 67 59 60 48 54  7 69 72 70 46 53\n",
      " 43]\n",
      "[2 1]\n",
      "[ 1.  2. nan]\n",
      "[2 1]\n",
      "[ 2.  1. nan]\n",
      "[ 2.  1. nan]\n",
      "[ 2.  1. nan]\n",
      "[ 1.  2. nan]\n",
      "[ 2.  1. nan]\n",
      "[ 2.  1. nan]\n",
      "[ 2.  1. nan]\n",
      "[ 2.  1. nan]\n",
      "[ 2. nan  1.]\n",
      "[1.  0.9 0.7 nan 1.3 2.2 2.  1.2 0.6 0.4 0.8 1.4 2.3 0.5 0.3 4.6 1.8 3.5\n",
      " 4.1 1.6 2.8 1.5 2.5 3.  4.8 2.4 1.7 1.1 3.2 2.9 8.  3.9 1.9 4.2 7.6]\n",
      "[ 85. 135.  96.  46.  nan  95.  78.  59.  81.  57.  72. 102.  62.  53.\n",
      "  70.  48. 133.  60.  45. 175. 280.  58.  67. 194. 150. 180.  75.  56.\n",
      "  71.  74.  80. 191. 125. 110.  50.  92.  52.  26. 215. 164. 103.  34.\n",
      "  68.  82. 127.  76. 100.  55. 167.  30. 179. 141.  44. 165. 118. 230.\n",
      " 107.  40. 147. 114.  84. 123. 168.  86. 138. 155.  63. 256. 119. 139.\n",
      "  90. 160. 158. 115. 243. 181. 130. 166. 295. 120.  65. 109.  89. 126.]\n",
      "[ 18.  42.  32.  52. 200.  28.  nan  48. 120.  30. 249.  60. 144.  89.\n",
      "  53. 166.  20.  98.  63.  46.  55.  25.  58.  29.  92. 150.  68.  14.\n",
      "  16.  90.  86. 110.  80. 420.  44.  65. 145.  31.  78.  59.  38.  75.\n",
      "  64.  54.  43.  33.  15.  39. 182. 271.  45. 100. 242.  24. 224.  69.\n",
      " 156. 123. 117. 157. 128.  23.  40. 227. 269.  34. 648. 225. 136.  81.\n",
      " 153. 118. 231. 101. 278.  49. 181. 140.  70. 114. 173. 528. 152. 142.\n",
      "  19.]\n",
      "[4.  3.5 nan 4.4 3.9 3.7 4.9 2.9 4.3 4.1 4.2 4.7 3.8 2.7 4.6 5.  3.3 4.5\n",
      " 3.4 3.1 3.  2.6 5.3 4.8 2.8 3.6 2.1 6.4 2.4 2.2]\n",
      "[ nan  80.  75.  85.  54.  52.  78.  46.  63.  62.  64.  39. 100.  47.\n",
      "  70.  36.  40.  74.  60.  73.  90.  21.  77.  29.  41.  66.  57.  56.\n",
      "  76.  58.  84.  38.  67.  31.  51.  23.  72.  32.  30.   0.  50.  43.\n",
      "  35.  48.  42.]\n",
      "[1 2]\n"
     ]
    }
   ],
   "source": [
    "for var in cols:\n",
    " print(data[var].unique())"
   ]
  },
  {
   "cell_type": "code",
   "execution_count": 11,
   "id": "8a409aed",
   "metadata": {},
   "outputs": [
    {
     "data": {
      "text/html": [
       "<div>\n",
       "<style scoped>\n",
       "    .dataframe tbody tr th:only-of-type {\n",
       "        vertical-align: middle;\n",
       "    }\n",
       "\n",
       "    .dataframe tbody tr th {\n",
       "        vertical-align: top;\n",
       "    }\n",
       "\n",
       "    .dataframe thead th {\n",
       "        text-align: right;\n",
       "    }\n",
       "</style>\n",
       "<table border=\"1\" class=\"dataframe\">\n",
       "  <thead>\n",
       "    <tr style=\"text-align: right;\">\n",
       "      <th></th>\n",
       "      <th>count</th>\n",
       "      <th>mean</th>\n",
       "      <th>std</th>\n",
       "      <th>min</th>\n",
       "      <th>25%</th>\n",
       "      <th>50%</th>\n",
       "      <th>75%</th>\n",
       "      <th>max</th>\n",
       "    </tr>\n",
       "  </thead>\n",
       "  <tbody>\n",
       "    <tr>\n",
       "      <th>ID</th>\n",
       "      <td>155.0</td>\n",
       "      <td>78.000000</td>\n",
       "      <td>44.888751</td>\n",
       "      <td>1.0</td>\n",
       "      <td>39.50</td>\n",
       "      <td>78.0</td>\n",
       "      <td>116.50</td>\n",
       "      <td>155.0</td>\n",
       "    </tr>\n",
       "    <tr>\n",
       "      <th>target</th>\n",
       "      <td>155.0</td>\n",
       "      <td>1.793548</td>\n",
       "      <td>0.406070</td>\n",
       "      <td>1.0</td>\n",
       "      <td>2.00</td>\n",
       "      <td>2.0</td>\n",
       "      <td>2.00</td>\n",
       "      <td>2.0</td>\n",
       "    </tr>\n",
       "    <tr>\n",
       "      <th>age</th>\n",
       "      <td>155.0</td>\n",
       "      <td>41.200000</td>\n",
       "      <td>12.565878</td>\n",
       "      <td>7.0</td>\n",
       "      <td>32.00</td>\n",
       "      <td>39.0</td>\n",
       "      <td>50.00</td>\n",
       "      <td>78.0</td>\n",
       "    </tr>\n",
       "    <tr>\n",
       "      <th>gender</th>\n",
       "      <td>155.0</td>\n",
       "      <td>1.103226</td>\n",
       "      <td>0.305240</td>\n",
       "      <td>1.0</td>\n",
       "      <td>1.00</td>\n",
       "      <td>1.0</td>\n",
       "      <td>1.00</td>\n",
       "      <td>2.0</td>\n",
       "    </tr>\n",
       "    <tr>\n",
       "      <th>steroid</th>\n",
       "      <td>154.0</td>\n",
       "      <td>1.506494</td>\n",
       "      <td>0.501589</td>\n",
       "      <td>1.0</td>\n",
       "      <td>1.00</td>\n",
       "      <td>2.0</td>\n",
       "      <td>2.00</td>\n",
       "      <td>2.0</td>\n",
       "    </tr>\n",
       "    <tr>\n",
       "      <th>antivirals</th>\n",
       "      <td>155.0</td>\n",
       "      <td>1.845161</td>\n",
       "      <td>0.362923</td>\n",
       "      <td>1.0</td>\n",
       "      <td>2.00</td>\n",
       "      <td>2.0</td>\n",
       "      <td>2.00</td>\n",
       "      <td>2.0</td>\n",
       "    </tr>\n",
       "    <tr>\n",
       "      <th>fatigue</th>\n",
       "      <td>154.0</td>\n",
       "      <td>1.350649</td>\n",
       "      <td>0.478730</td>\n",
       "      <td>1.0</td>\n",
       "      <td>1.00</td>\n",
       "      <td>1.0</td>\n",
       "      <td>2.00</td>\n",
       "      <td>2.0</td>\n",
       "    </tr>\n",
       "    <tr>\n",
       "      <th>malaise</th>\n",
       "      <td>154.0</td>\n",
       "      <td>1.603896</td>\n",
       "      <td>0.490682</td>\n",
       "      <td>1.0</td>\n",
       "      <td>1.00</td>\n",
       "      <td>2.0</td>\n",
       "      <td>2.00</td>\n",
       "      <td>2.0</td>\n",
       "    </tr>\n",
       "    <tr>\n",
       "      <th>anorexia</th>\n",
       "      <td>154.0</td>\n",
       "      <td>1.792208</td>\n",
       "      <td>0.407051</td>\n",
       "      <td>1.0</td>\n",
       "      <td>2.00</td>\n",
       "      <td>2.0</td>\n",
       "      <td>2.00</td>\n",
       "      <td>2.0</td>\n",
       "    </tr>\n",
       "    <tr>\n",
       "      <th>liverBig</th>\n",
       "      <td>145.0</td>\n",
       "      <td>1.827586</td>\n",
       "      <td>0.379049</td>\n",
       "      <td>1.0</td>\n",
       "      <td>2.00</td>\n",
       "      <td>2.0</td>\n",
       "      <td>2.00</td>\n",
       "      <td>2.0</td>\n",
       "    </tr>\n",
       "    <tr>\n",
       "      <th>liverFirm</th>\n",
       "      <td>144.0</td>\n",
       "      <td>1.583333</td>\n",
       "      <td>0.494727</td>\n",
       "      <td>1.0</td>\n",
       "      <td>1.00</td>\n",
       "      <td>2.0</td>\n",
       "      <td>2.00</td>\n",
       "      <td>2.0</td>\n",
       "    </tr>\n",
       "    <tr>\n",
       "      <th>spleen</th>\n",
       "      <td>150.0</td>\n",
       "      <td>1.800000</td>\n",
       "      <td>0.401340</td>\n",
       "      <td>1.0</td>\n",
       "      <td>2.00</td>\n",
       "      <td>2.0</td>\n",
       "      <td>2.00</td>\n",
       "      <td>2.0</td>\n",
       "    </tr>\n",
       "    <tr>\n",
       "      <th>spiders</th>\n",
       "      <td>150.0</td>\n",
       "      <td>1.660000</td>\n",
       "      <td>0.475296</td>\n",
       "      <td>1.0</td>\n",
       "      <td>1.00</td>\n",
       "      <td>2.0</td>\n",
       "      <td>2.00</td>\n",
       "      <td>2.0</td>\n",
       "    </tr>\n",
       "    <tr>\n",
       "      <th>ascites</th>\n",
       "      <td>150.0</td>\n",
       "      <td>1.866667</td>\n",
       "      <td>0.341073</td>\n",
       "      <td>1.0</td>\n",
       "      <td>2.00</td>\n",
       "      <td>2.0</td>\n",
       "      <td>2.00</td>\n",
       "      <td>2.0</td>\n",
       "    </tr>\n",
       "    <tr>\n",
       "      <th>varices</th>\n",
       "      <td>150.0</td>\n",
       "      <td>1.880000</td>\n",
       "      <td>0.326050</td>\n",
       "      <td>1.0</td>\n",
       "      <td>2.00</td>\n",
       "      <td>2.0</td>\n",
       "      <td>2.00</td>\n",
       "      <td>2.0</td>\n",
       "    </tr>\n",
       "    <tr>\n",
       "      <th>bili</th>\n",
       "      <td>149.0</td>\n",
       "      <td>1.427517</td>\n",
       "      <td>1.212149</td>\n",
       "      <td>0.3</td>\n",
       "      <td>0.70</td>\n",
       "      <td>1.0</td>\n",
       "      <td>1.50</td>\n",
       "      <td>8.0</td>\n",
       "    </tr>\n",
       "    <tr>\n",
       "      <th>alk</th>\n",
       "      <td>126.0</td>\n",
       "      <td>105.325397</td>\n",
       "      <td>51.508109</td>\n",
       "      <td>26.0</td>\n",
       "      <td>74.25</td>\n",
       "      <td>85.0</td>\n",
       "      <td>132.25</td>\n",
       "      <td>295.0</td>\n",
       "    </tr>\n",
       "    <tr>\n",
       "      <th>sgot</th>\n",
       "      <td>151.0</td>\n",
       "      <td>85.894040</td>\n",
       "      <td>89.650890</td>\n",
       "      <td>14.0</td>\n",
       "      <td>31.50</td>\n",
       "      <td>58.0</td>\n",
       "      <td>100.50</td>\n",
       "      <td>648.0</td>\n",
       "    </tr>\n",
       "    <tr>\n",
       "      <th>albu</th>\n",
       "      <td>139.0</td>\n",
       "      <td>3.817266</td>\n",
       "      <td>0.651523</td>\n",
       "      <td>2.1</td>\n",
       "      <td>3.40</td>\n",
       "      <td>4.0</td>\n",
       "      <td>4.20</td>\n",
       "      <td>6.4</td>\n",
       "    </tr>\n",
       "    <tr>\n",
       "      <th>protime</th>\n",
       "      <td>88.0</td>\n",
       "      <td>61.852273</td>\n",
       "      <td>22.875244</td>\n",
       "      <td>0.0</td>\n",
       "      <td>46.00</td>\n",
       "      <td>61.0</td>\n",
       "      <td>76.25</td>\n",
       "      <td>100.0</td>\n",
       "    </tr>\n",
       "    <tr>\n",
       "      <th>histology</th>\n",
       "      <td>155.0</td>\n",
       "      <td>1.451613</td>\n",
       "      <td>0.499266</td>\n",
       "      <td>1.0</td>\n",
       "      <td>1.00</td>\n",
       "      <td>1.0</td>\n",
       "      <td>2.00</td>\n",
       "      <td>2.0</td>\n",
       "    </tr>\n",
       "  </tbody>\n",
       "</table>\n",
       "</div>"
      ],
      "text/plain": [
       "            count        mean        std   min    25%   50%     75%    max\n",
       "ID          155.0   78.000000  44.888751   1.0  39.50  78.0  116.50  155.0\n",
       "target      155.0    1.793548   0.406070   1.0   2.00   2.0    2.00    2.0\n",
       "age         155.0   41.200000  12.565878   7.0  32.00  39.0   50.00   78.0\n",
       "gender      155.0    1.103226   0.305240   1.0   1.00   1.0    1.00    2.0\n",
       "steroid     154.0    1.506494   0.501589   1.0   1.00   2.0    2.00    2.0\n",
       "antivirals  155.0    1.845161   0.362923   1.0   2.00   2.0    2.00    2.0\n",
       "fatigue     154.0    1.350649   0.478730   1.0   1.00   1.0    2.00    2.0\n",
       "malaise     154.0    1.603896   0.490682   1.0   1.00   2.0    2.00    2.0\n",
       "anorexia    154.0    1.792208   0.407051   1.0   2.00   2.0    2.00    2.0\n",
       "liverBig    145.0    1.827586   0.379049   1.0   2.00   2.0    2.00    2.0\n",
       "liverFirm   144.0    1.583333   0.494727   1.0   1.00   2.0    2.00    2.0\n",
       "spleen      150.0    1.800000   0.401340   1.0   2.00   2.0    2.00    2.0\n",
       "spiders     150.0    1.660000   0.475296   1.0   1.00   2.0    2.00    2.0\n",
       "ascites     150.0    1.866667   0.341073   1.0   2.00   2.0    2.00    2.0\n",
       "varices     150.0    1.880000   0.326050   1.0   2.00   2.0    2.00    2.0\n",
       "bili        149.0    1.427517   1.212149   0.3   0.70   1.0    1.50    8.0\n",
       "alk         126.0  105.325397  51.508109  26.0  74.25  85.0  132.25  295.0\n",
       "sgot        151.0   85.894040  89.650890  14.0  31.50  58.0  100.50  648.0\n",
       "albu        139.0    3.817266   0.651523   2.1   3.40   4.0    4.20    6.4\n",
       "protime      88.0   61.852273  22.875244   0.0  46.00  61.0   76.25  100.0\n",
       "histology   155.0    1.451613   0.499266   1.0   1.00   1.0    2.00    2.0"
      ]
     },
     "execution_count": 11,
     "metadata": {},
     "output_type": "execute_result"
    }
   ],
   "source": [
    "data.describe().T"
   ]
  },
  {
   "cell_type": "code",
   "execution_count": 12,
   "id": "f052a721",
   "metadata": {},
   "outputs": [
    {
     "data": {
      "text/plain": [
       "Index(['target', 'gender', 'steroid', 'antivirals', 'fatigue', 'malaise',\n",
       "       'anorexia', 'liverBig', 'liverFirm', 'spleen', 'spiders', 'ascites',\n",
       "       'varices', 'histology'],\n",
       "      dtype='object')"
      ]
     },
     "execution_count": 12,
     "metadata": {},
     "output_type": "execute_result"
    }
   ],
   "source": [
    "cat_cols=data.columns[data.nunique()<5]\n",
    "cat_cols\n"
   ]
  },
  {
   "cell_type": "code",
   "execution_count": 13,
   "id": "0a4a8bfc",
   "metadata": {},
   "outputs": [
    {
     "data": {
      "text/plain": [
       "Index(['ID', 'age', 'bili', 'alk', 'sgot', 'albu', 'protime'], dtype='object')"
      ]
     },
     "execution_count": 13,
     "metadata": {},
     "output_type": "execute_result"
    }
   ],
   "source": [
    "num_cols=data.columns[data.nunique()>=5]\n",
    "num_cols"
   ]
  },
  {
   "cell_type": "code",
   "execution_count": 14,
   "id": "1b3d51ba",
   "metadata": {},
   "outputs": [
    {
     "data": {
      "text/plain": [
       "Index(['age', 'bili', 'alk', 'sgot', 'albu', 'protime'], dtype='object')"
      ]
     },
     "execution_count": 14,
     "metadata": {},
     "output_type": "execute_result"
    }
   ],
   "source": [
    "data.drop(\"ID\",axis=1,inplace=True)\n",
    "num_cols=data.columns[data.nunique()>=5]\n",
    "num_cols"
   ]
  },
  {
   "cell_type": "code",
   "execution_count": 15,
   "id": "426831ba",
   "metadata": {},
   "outputs": [],
   "source": [
    "num_cols = [\"age\", \"bili\", \"alk\", \"sgot\", \"albu\", \"protime\"]\n",
    "cat_cols = ['gender', 'steroid', 'antivirals', 'fatigue', 'malaise', 'anorexia', 'liverBig',\n",
    "            'liverFirm', 'spleen', 'spiders', 'ascites', 'varices', 'histology']"
   ]
  },
  {
   "cell_type": "code",
   "execution_count": 16,
   "id": "3f66182b",
   "metadata": {},
   "outputs": [
    {
     "data": {
      "text/plain": [
       "target         0\n",
       "age            0\n",
       "gender         0\n",
       "steroid        1\n",
       "antivirals     0\n",
       "fatigue        1\n",
       "malaise        1\n",
       "anorexia       1\n",
       "liverBig      10\n",
       "liverFirm     11\n",
       "spleen         5\n",
       "spiders        5\n",
       "ascites        5\n",
       "varices        5\n",
       "bili           6\n",
       "alk           29\n",
       "sgot           4\n",
       "albu          16\n",
       "protime       67\n",
       "histology      0\n",
       "dtype: int64"
      ]
     },
     "execution_count": 16,
     "metadata": {},
     "output_type": "execute_result"
    }
   ],
   "source": [
    "data.isna().sum()"
   ]
  },
  {
   "cell_type": "code",
   "execution_count": 17,
   "id": "ae5cafff",
   "metadata": {},
   "outputs": [],
   "source": [
    "X=data.drop(\"target\",axis=1)\n",
    "y=data[\"target\"]"
   ]
  },
  {
   "cell_type": "code",
   "execution_count": 18,
   "id": "f2ef4d52",
   "metadata": {},
   "outputs": [
    {
     "data": {
      "text/plain": [
       "(155, 19)"
      ]
     },
     "execution_count": 18,
     "metadata": {},
     "output_type": "execute_result"
    }
   ],
   "source": [
    "X.shape"
   ]
  },
  {
   "cell_type": "code",
   "execution_count": 19,
   "id": "0e485176",
   "metadata": {},
   "outputs": [
    {
     "data": {
      "text/plain": [
       "(155,)"
      ]
     },
     "execution_count": 19,
     "metadata": {},
     "output_type": "execute_result"
    }
   ],
   "source": [
    "y.shape"
   ]
  },
  {
   "cell_type": "code",
   "execution_count": 20,
   "id": "d5741179",
   "metadata": {},
   "outputs": [],
   "source": [
    "from sklearn.model_selection import train_test_split\n",
    "from sklearn.metrics import confusion_matrix,accuracy_score,classification_report"
   ]
  },
  {
   "cell_type": "code",
   "execution_count": 21,
   "id": "3146fe15",
   "metadata": {},
   "outputs": [],
   "source": [
    "X_train,X_test,y_train,y_test=train_test_split(X,y,test_size=0.2,shuffle=True,random_state=123)"
   ]
  },
  {
   "cell_type": "code",
   "execution_count": 22,
   "id": "9e08142d",
   "metadata": {},
   "outputs": [
    {
     "name": "stdout",
     "output_type": "stream",
     "text": [
      " x train (124, 19)\n",
      " x test (31, 19)\n",
      " y train (124,)\n",
      " y test (31, 19)\n"
     ]
    }
   ],
   "source": [
    "print(f\" x train {X_train.shape}\")\n",
    "print(f\" x test {X_test.shape}\")\n",
    "\n",
    "print(f\" y train {y_train.shape}\")\n",
    "print(f\" y test {X_test.shape}\")"
   ]
  },
  {
   "cell_type": "code",
   "execution_count": 23,
   "id": "333d42b4",
   "metadata": {},
   "outputs": [
    {
     "data": {
      "text/plain": [
       "age            0\n",
       "gender         0\n",
       "steroid        1\n",
       "antivirals     0\n",
       "fatigue        1\n",
       "malaise        1\n",
       "anorexia       1\n",
       "liverBig       7\n",
       "liverFirm      8\n",
       "spleen         4\n",
       "spiders        4\n",
       "ascites        4\n",
       "varices        4\n",
       "bili           6\n",
       "alk           23\n",
       "sgot           4\n",
       "albu          13\n",
       "protime       53\n",
       "histology      0\n",
       "dtype: int64"
      ]
     },
     "execution_count": 23,
     "metadata": {},
     "output_type": "execute_result"
    }
   ],
   "source": [
    "X_train.isna().sum()"
   ]
  },
  {
   "cell_type": "code",
   "execution_count": 24,
   "id": "f82667f8",
   "metadata": {},
   "outputs": [
    {
     "data": {
      "text/plain": [
       "age            0\n",
       "gender         0\n",
       "steroid        0\n",
       "antivirals     0\n",
       "fatigue        0\n",
       "malaise        0\n",
       "anorexia       0\n",
       "liverBig       3\n",
       "liverFirm      3\n",
       "spleen         1\n",
       "spiders        1\n",
       "ascites        1\n",
       "varices        1\n",
       "bili           0\n",
       "alk            6\n",
       "sgot           0\n",
       "albu           3\n",
       "protime       14\n",
       "histology      0\n",
       "dtype: int64"
      ]
     },
     "execution_count": 24,
     "metadata": {},
     "output_type": "execute_result"
    }
   ],
   "source": [
    "X_test.isna().sum()"
   ]
  },
  {
   "cell_type": "code",
   "execution_count": 25,
   "id": "2bfcd4ff",
   "metadata": {},
   "outputs": [],
   "source": [
    "df_cat_train=X_train[cat_cols]\n",
    "df_cat_test=X_test[cat_cols]"
   ]
  },
  {
   "cell_type": "code",
   "execution_count": 26,
   "id": "cbf1c25d",
   "metadata": {},
   "outputs": [
    {
     "name": "stderr",
     "output_type": "stream",
     "text": [
      "d:\\programming\\artifical intelligance\\Programs\\anacondaInstall\\lib\\site-packages\\sklearn\\impute\\_base.py:49: FutureWarning: Unlike other reduction functions (e.g. `skew`, `kurtosis`), the default behavior of `mode` typically preserves the axis it acts along. In SciPy 1.11.0, this behavior will change: the default value of `keepdims` will become False, the `axis` over which the statistic is taken will be eliminated, and the value None will no longer be accepted. Set `keepdims` to True or False to avoid this warning.\n",
      "  mode = stats.mode(array)\n"
     ]
    }
   ],
   "source": [
    "from sklearn.impute import SimpleImputer\n",
    "modelImput=SimpleImputer(strategy=\"most_frequent\")\n",
    "df_cat_train=modelImput.fit_transform(df_cat_train)\n",
    "df_cat_test=modelImput.transform(df_cat_test)"
   ]
  },
  {
   "cell_type": "code",
   "execution_count": 27,
   "id": "b58482cd",
   "metadata": {},
   "outputs": [],
   "source": [
    "df_cat_test=pd.DataFrame(df_cat_test,columns=cat_cols)\n",
    "df_cat_train=pd.DataFrame(df_cat_train,columns=cat_cols)"
   ]
  },
  {
   "cell_type": "code",
   "execution_count": 28,
   "id": "986208cf",
   "metadata": {},
   "outputs": [],
   "source": [
    "df_num_train=X_train[num_cols]\n",
    "df_num_test=X_test[num_cols]"
   ]
  },
  {
   "cell_type": "code",
   "execution_count": 29,
   "id": "f40b6685",
   "metadata": {},
   "outputs": [],
   "source": [
    "modelIMput_num=SimpleImputer(strategy=\"mean\")\n",
    "df_num_train=modelIMput_num.fit_transform(df_num_train)\n",
    "df_num_test=modelIMput_num.transform(df_num_test)"
   ]
  },
  {
   "cell_type": "code",
   "execution_count": 30,
   "id": "150a9c17",
   "metadata": {},
   "outputs": [],
   "source": [
    "df_num_train=pd.DataFrame(df_num_train,columns=num_cols)\n",
    "df_num_test=pd.DataFrame(df_num_test,columns=num_cols)"
   ]
  },
  {
   "cell_type": "code",
   "execution_count": 31,
   "id": "ad379510",
   "metadata": {},
   "outputs": [],
   "source": [
    "# Combine numeric and categorical in train\n",
    "X_train = pd.concat([df_num_train, df_cat_train], axis = 1)\n",
    "\n",
    "# Combine numeric and categorical in test\n",
    "X_test = pd.concat([df_num_test, df_cat_test], axis = 1)"
   ]
  },
  {
   "cell_type": "code",
   "execution_count": 32,
   "id": "fbceeebc",
   "metadata": {},
   "outputs": [
    {
     "data": {
      "text/plain": [
       "age           0\n",
       "bili          0\n",
       "alk           0\n",
       "sgot          0\n",
       "albu          0\n",
       "protime       0\n",
       "gender        0\n",
       "steroid       0\n",
       "antivirals    0\n",
       "fatigue       0\n",
       "malaise       0\n",
       "anorexia      0\n",
       "liverBig      0\n",
       "liverFirm     0\n",
       "spleen        0\n",
       "spiders       0\n",
       "ascites       0\n",
       "varices       0\n",
       "histology     0\n",
       "dtype: int64"
      ]
     },
     "execution_count": 32,
     "metadata": {},
     "output_type": "execute_result"
    }
   ],
   "source": [
    "X_train.isna().sum()"
   ]
  },
  {
   "cell_type": "code",
   "execution_count": 33,
   "id": "d9ff2102",
   "metadata": {},
   "outputs": [
    {
     "data": {
      "text/plain": [
       "age           0\n",
       "bili          0\n",
       "alk           0\n",
       "sgot          0\n",
       "albu          0\n",
       "protime       0\n",
       "gender        0\n",
       "steroid       0\n",
       "antivirals    0\n",
       "fatigue       0\n",
       "malaise       0\n",
       "anorexia      0\n",
       "liverBig      0\n",
       "liverFirm     0\n",
       "spleen        0\n",
       "spiders       0\n",
       "ascites       0\n",
       "varices       0\n",
       "histology     0\n",
       "dtype: int64"
      ]
     },
     "execution_count": 33,
     "metadata": {},
     "output_type": "execute_result"
    }
   ],
   "source": [
    "X_test.isna().sum()"
   ]
  },
  {
   "cell_type": "code",
   "execution_count": 34,
   "id": "d958276f",
   "metadata": {},
   "outputs": [
    {
     "data": {
      "text/html": [
       "<div>\n",
       "<style scoped>\n",
       "    .dataframe tbody tr th:only-of-type {\n",
       "        vertical-align: middle;\n",
       "    }\n",
       "\n",
       "    .dataframe tbody tr th {\n",
       "        vertical-align: top;\n",
       "    }\n",
       "\n",
       "    .dataframe thead th {\n",
       "        text-align: right;\n",
       "    }\n",
       "</style>\n",
       "<table border=\"1\" class=\"dataframe\">\n",
       "  <thead>\n",
       "    <tr style=\"text-align: right;\">\n",
       "      <th></th>\n",
       "      <th>age</th>\n",
       "      <th>bili</th>\n",
       "      <th>alk</th>\n",
       "      <th>sgot</th>\n",
       "      <th>albu</th>\n",
       "      <th>protime</th>\n",
       "      <th>gender</th>\n",
       "      <th>steroid</th>\n",
       "      <th>antivirals</th>\n",
       "      <th>fatigue</th>\n",
       "      <th>malaise</th>\n",
       "      <th>anorexia</th>\n",
       "      <th>liverBig</th>\n",
       "      <th>liverFirm</th>\n",
       "      <th>spleen</th>\n",
       "      <th>spiders</th>\n",
       "      <th>ascites</th>\n",
       "      <th>varices</th>\n",
       "      <th>histology</th>\n",
       "    </tr>\n",
       "  </thead>\n",
       "  <tbody>\n",
       "    <tr>\n",
       "      <th>0</th>\n",
       "      <td>70.0</td>\n",
       "      <td>1.7</td>\n",
       "      <td>109.000000</td>\n",
       "      <td>528.0</td>\n",
       "      <td>2.8</td>\n",
       "      <td>35.000000</td>\n",
       "      <td>1.0</td>\n",
       "      <td>1.0</td>\n",
       "      <td>2.0</td>\n",
       "      <td>1.0</td>\n",
       "      <td>1.0</td>\n",
       "      <td>1.0</td>\n",
       "      <td>2.0</td>\n",
       "      <td>2.0</td>\n",
       "      <td>2.0</td>\n",
       "      <td>2.0</td>\n",
       "      <td>2.0</td>\n",
       "      <td>2.0</td>\n",
       "      <td>2.0</td>\n",
       "    </tr>\n",
       "    <tr>\n",
       "      <th>1</th>\n",
       "      <td>34.0</td>\n",
       "      <td>0.7</td>\n",
       "      <td>70.000000</td>\n",
       "      <td>24.0</td>\n",
       "      <td>4.1</td>\n",
       "      <td>100.000000</td>\n",
       "      <td>2.0</td>\n",
       "      <td>2.0</td>\n",
       "      <td>2.0</td>\n",
       "      <td>1.0</td>\n",
       "      <td>1.0</td>\n",
       "      <td>1.0</td>\n",
       "      <td>1.0</td>\n",
       "      <td>1.0</td>\n",
       "      <td>2.0</td>\n",
       "      <td>1.0</td>\n",
       "      <td>2.0</td>\n",
       "      <td>2.0</td>\n",
       "      <td>2.0</td>\n",
       "    </tr>\n",
       "    <tr>\n",
       "      <th>2</th>\n",
       "      <td>34.0</td>\n",
       "      <td>1.0</td>\n",
       "      <td>105.306931</td>\n",
       "      <td>200.0</td>\n",
       "      <td>4.0</td>\n",
       "      <td>61.408451</td>\n",
       "      <td>1.0</td>\n",
       "      <td>2.0</td>\n",
       "      <td>2.0</td>\n",
       "      <td>2.0</td>\n",
       "      <td>2.0</td>\n",
       "      <td>2.0</td>\n",
       "      <td>2.0</td>\n",
       "      <td>2.0</td>\n",
       "      <td>2.0</td>\n",
       "      <td>2.0</td>\n",
       "      <td>2.0</td>\n",
       "      <td>2.0</td>\n",
       "      <td>1.0</td>\n",
       "    </tr>\n",
       "    <tr>\n",
       "      <th>3</th>\n",
       "      <td>47.0</td>\n",
       "      <td>1.0</td>\n",
       "      <td>166.000000</td>\n",
       "      <td>30.0</td>\n",
       "      <td>2.6</td>\n",
       "      <td>31.000000</td>\n",
       "      <td>1.0</td>\n",
       "      <td>2.0</td>\n",
       "      <td>2.0</td>\n",
       "      <td>1.0</td>\n",
       "      <td>1.0</td>\n",
       "      <td>2.0</td>\n",
       "      <td>2.0</td>\n",
       "      <td>1.0</td>\n",
       "      <td>2.0</td>\n",
       "      <td>1.0</td>\n",
       "      <td>1.0</td>\n",
       "      <td>1.0</td>\n",
       "      <td>2.0</td>\n",
       "    </tr>\n",
       "    <tr>\n",
       "      <th>4</th>\n",
       "      <td>28.0</td>\n",
       "      <td>0.7</td>\n",
       "      <td>74.000000</td>\n",
       "      <td>110.0</td>\n",
       "      <td>4.4</td>\n",
       "      <td>61.408451</td>\n",
       "      <td>1.0</td>\n",
       "      <td>2.0</td>\n",
       "      <td>2.0</td>\n",
       "      <td>1.0</td>\n",
       "      <td>1.0</td>\n",
       "      <td>2.0</td>\n",
       "      <td>2.0</td>\n",
       "      <td>2.0</td>\n",
       "      <td>2.0</td>\n",
       "      <td>2.0</td>\n",
       "      <td>2.0</td>\n",
       "      <td>2.0</td>\n",
       "      <td>1.0</td>\n",
       "    </tr>\n",
       "  </tbody>\n",
       "</table>\n",
       "</div>"
      ],
      "text/plain": [
       "    age  bili         alk   sgot  albu     protime  gender  steroid  \\\n",
       "0  70.0   1.7  109.000000  528.0   2.8   35.000000     1.0      1.0   \n",
       "1  34.0   0.7   70.000000   24.0   4.1  100.000000     2.0      2.0   \n",
       "2  34.0   1.0  105.306931  200.0   4.0   61.408451     1.0      2.0   \n",
       "3  47.0   1.0  166.000000   30.0   2.6   31.000000     1.0      2.0   \n",
       "4  28.0   0.7   74.000000  110.0   4.4   61.408451     1.0      2.0   \n",
       "\n",
       "   antivirals  fatigue  malaise  anorexia  liverBig  liverFirm  spleen  \\\n",
       "0         2.0      1.0      1.0       1.0       2.0        2.0     2.0   \n",
       "1         2.0      1.0      1.0       1.0       1.0        1.0     2.0   \n",
       "2         2.0      2.0      2.0       2.0       2.0        2.0     2.0   \n",
       "3         2.0      1.0      1.0       2.0       2.0        1.0     2.0   \n",
       "4         2.0      1.0      1.0       2.0       2.0        2.0     2.0   \n",
       "\n",
       "   spiders  ascites  varices  histology  \n",
       "0      2.0      2.0      2.0        2.0  \n",
       "1      1.0      2.0      2.0        2.0  \n",
       "2      2.0      2.0      2.0        1.0  \n",
       "3      1.0      1.0      1.0        2.0  \n",
       "4      2.0      2.0      2.0        1.0  "
      ]
     },
     "execution_count": 34,
     "metadata": {},
     "output_type": "execute_result"
    }
   ],
   "source": [
    "X_train.head()"
   ]
  },
  {
   "cell_type": "code",
   "execution_count": 35,
   "id": "d532b84d",
   "metadata": {},
   "outputs": [
    {
     "data": {
      "text/plain": [
       "['gender',\n",
       " 'steroid',\n",
       " 'antivirals',\n",
       " 'fatigue',\n",
       " 'malaise',\n",
       " 'anorexia',\n",
       " 'liverBig',\n",
       " 'liverFirm',\n",
       " 'spleen',\n",
       " 'spiders',\n",
       " 'ascites',\n",
       " 'varices',\n",
       " 'histology']"
      ]
     },
     "execution_count": 35,
     "metadata": {},
     "output_type": "execute_result"
    }
   ],
   "source": [
    "cat_cols"
   ]
  },
  {
   "cell_type": "code",
   "execution_count": 36,
   "id": "27192f9a",
   "metadata": {},
   "outputs": [],
   "source": [
    "X_train[cat_cols] = X_train[cat_cols].astype('int')\n",
    "\n",
    "# Test\n",
    "X_test[cat_cols] = X_test[cat_cols].astype('int')"
   ]
  },
  {
   "cell_type": "code",
   "execution_count": 37,
   "id": "37dda20c",
   "metadata": {},
   "outputs": [],
   "source": [
    "# from sklearn.preprocessing import OneHotEncoder\n",
    "# encoder=OneHotEncoder()\n",
    "# X_train.loc[:,cat_cols]=encoder.fit_transform(X_train.loc[:,cat_cols])\n",
    "# X_test.loc[:,cat_cols]=encoder.transform(X_test.loc[:,cat_cols])/\n",
    "\n",
    "X_train = pd.get_dummies(X_train, columns=cat_cols, drop_first=True)\n",
    "\n",
    "# Test\n",
    "X_test = pd.get_dummies(X_test, columns=cat_cols, drop_first=True)"
   ]
  },
  {
   "cell_type": "code",
   "execution_count": 38,
   "id": "ded1441e",
   "metadata": {},
   "outputs": [
    {
     "data": {
      "text/plain": [
       "Index(['age', 'bili', 'alk', 'sgot', 'albu', 'protime', 'gender_2',\n",
       "       'steroid_2', 'antivirals_2', 'fatigue_2', 'malaise_2', 'anorexia_2',\n",
       "       'liverBig_2', 'liverFirm_2', 'spleen_2', 'spiders_2', 'ascites_2',\n",
       "       'varices_2', 'histology_2'],\n",
       "      dtype='object')"
      ]
     },
     "execution_count": 38,
     "metadata": {},
     "output_type": "execute_result"
    }
   ],
   "source": [
    "X_train.columns\n"
   ]
  },
  {
   "cell_type": "code",
   "execution_count": 39,
   "id": "568edcf7",
   "metadata": {},
   "outputs": [
    {
     "data": {
      "text/plain": [
       "Index(['age', 'bili', 'alk', 'sgot', 'albu', 'protime', 'gender_2',\n",
       "       'steroid_2', 'antivirals_2', 'fatigue_2', 'malaise_2', 'anorexia_2',\n",
       "       'liverBig_2', 'liverFirm_2', 'spleen_2', 'spiders_2', 'ascites_2',\n",
       "       'varices_2', 'histology_2'],\n",
       "      dtype='object')"
      ]
     },
     "execution_count": 39,
     "metadata": {},
     "output_type": "execute_result"
    }
   ],
   "source": [
    "X_test.columns"
   ]
  },
  {
   "cell_type": "code",
   "execution_count": 40,
   "id": "2513ab61",
   "metadata": {},
   "outputs": [],
   "source": [
    "from sklearn.preprocessing import MinMaxScaler\n",
    "scaledModel=MinMaxScaler()\n",
    "X_train.loc[:,num_cols]=scaledModel.fit_transform(X_train.loc[:,num_cols])\n",
    "X_test.loc[:,num_cols]=scaledModel.transform(X_test.loc[:,num_cols])"
   ]
  },
  {
   "cell_type": "code",
   "execution_count": 41,
   "id": "23ef2d27",
   "metadata": {},
   "outputs": [
    {
     "data": {
      "text/html": [
       "<div>\n",
       "<style scoped>\n",
       "    .dataframe tbody tr th:only-of-type {\n",
       "        vertical-align: middle;\n",
       "    }\n",
       "\n",
       "    .dataframe tbody tr th {\n",
       "        vertical-align: top;\n",
       "    }\n",
       "\n",
       "    .dataframe thead th {\n",
       "        text-align: right;\n",
       "    }\n",
       "</style>\n",
       "<table border=\"1\" class=\"dataframe\">\n",
       "  <thead>\n",
       "    <tr style=\"text-align: right;\">\n",
       "      <th></th>\n",
       "      <th>age</th>\n",
       "      <th>bili</th>\n",
       "      <th>alk</th>\n",
       "      <th>sgot</th>\n",
       "      <th>albu</th>\n",
       "      <th>protime</th>\n",
       "      <th>gender_2</th>\n",
       "      <th>steroid_2</th>\n",
       "      <th>antivirals_2</th>\n",
       "      <th>fatigue_2</th>\n",
       "      <th>malaise_2</th>\n",
       "      <th>anorexia_2</th>\n",
       "      <th>liverBig_2</th>\n",
       "      <th>liverFirm_2</th>\n",
       "      <th>spleen_2</th>\n",
       "      <th>spiders_2</th>\n",
       "      <th>ascites_2</th>\n",
       "      <th>varices_2</th>\n",
       "      <th>histology_2</th>\n",
       "    </tr>\n",
       "  </thead>\n",
       "  <tbody>\n",
       "    <tr>\n",
       "      <th>0</th>\n",
       "      <td>0.887324</td>\n",
       "      <td>0.181818</td>\n",
       "      <td>0.326772</td>\n",
       "      <td>1.000000</td>\n",
       "      <td>0.142857</td>\n",
       "      <td>0.177215</td>\n",
       "      <td>0</td>\n",
       "      <td>0</td>\n",
       "      <td>1</td>\n",
       "      <td>0</td>\n",
       "      <td>0</td>\n",
       "      <td>0</td>\n",
       "      <td>1</td>\n",
       "      <td>1</td>\n",
       "      <td>1</td>\n",
       "      <td>1</td>\n",
       "      <td>1</td>\n",
       "      <td>1</td>\n",
       "      <td>1</td>\n",
       "    </tr>\n",
       "    <tr>\n",
       "      <th>1</th>\n",
       "      <td>0.380282</td>\n",
       "      <td>0.051948</td>\n",
       "      <td>0.173228</td>\n",
       "      <td>0.019455</td>\n",
       "      <td>0.452381</td>\n",
       "      <td>1.000000</td>\n",
       "      <td>1</td>\n",
       "      <td>1</td>\n",
       "      <td>1</td>\n",
       "      <td>0</td>\n",
       "      <td>0</td>\n",
       "      <td>0</td>\n",
       "      <td>0</td>\n",
       "      <td>0</td>\n",
       "      <td>1</td>\n",
       "      <td>0</td>\n",
       "      <td>1</td>\n",
       "      <td>1</td>\n",
       "      <td>1</td>\n",
       "    </tr>\n",
       "    <tr>\n",
       "      <th>2</th>\n",
       "      <td>0.380282</td>\n",
       "      <td>0.090909</td>\n",
       "      <td>0.312232</td>\n",
       "      <td>0.361868</td>\n",
       "      <td>0.428571</td>\n",
       "      <td>0.511499</td>\n",
       "      <td>0</td>\n",
       "      <td>1</td>\n",
       "      <td>1</td>\n",
       "      <td>1</td>\n",
       "      <td>1</td>\n",
       "      <td>1</td>\n",
       "      <td>1</td>\n",
       "      <td>1</td>\n",
       "      <td>1</td>\n",
       "      <td>1</td>\n",
       "      <td>1</td>\n",
       "      <td>1</td>\n",
       "      <td>0</td>\n",
       "    </tr>\n",
       "    <tr>\n",
       "      <th>3</th>\n",
       "      <td>0.563380</td>\n",
       "      <td>0.090909</td>\n",
       "      <td>0.551181</td>\n",
       "      <td>0.031128</td>\n",
       "      <td>0.095238</td>\n",
       "      <td>0.126582</td>\n",
       "      <td>0</td>\n",
       "      <td>1</td>\n",
       "      <td>1</td>\n",
       "      <td>0</td>\n",
       "      <td>0</td>\n",
       "      <td>1</td>\n",
       "      <td>1</td>\n",
       "      <td>0</td>\n",
       "      <td>1</td>\n",
       "      <td>0</td>\n",
       "      <td>0</td>\n",
       "      <td>0</td>\n",
       "      <td>1</td>\n",
       "    </tr>\n",
       "    <tr>\n",
       "      <th>4</th>\n",
       "      <td>0.295775</td>\n",
       "      <td>0.051948</td>\n",
       "      <td>0.188976</td>\n",
       "      <td>0.186770</td>\n",
       "      <td>0.523810</td>\n",
       "      <td>0.511499</td>\n",
       "      <td>0</td>\n",
       "      <td>1</td>\n",
       "      <td>1</td>\n",
       "      <td>0</td>\n",
       "      <td>0</td>\n",
       "      <td>1</td>\n",
       "      <td>1</td>\n",
       "      <td>1</td>\n",
       "      <td>1</td>\n",
       "      <td>1</td>\n",
       "      <td>1</td>\n",
       "      <td>1</td>\n",
       "      <td>0</td>\n",
       "    </tr>\n",
       "  </tbody>\n",
       "</table>\n",
       "</div>"
      ],
      "text/plain": [
       "        age      bili       alk      sgot      albu   protime  gender_2  \\\n",
       "0  0.887324  0.181818  0.326772  1.000000  0.142857  0.177215         0   \n",
       "1  0.380282  0.051948  0.173228  0.019455  0.452381  1.000000         1   \n",
       "2  0.380282  0.090909  0.312232  0.361868  0.428571  0.511499         0   \n",
       "3  0.563380  0.090909  0.551181  0.031128  0.095238  0.126582         0   \n",
       "4  0.295775  0.051948  0.188976  0.186770  0.523810  0.511499         0   \n",
       "\n",
       "   steroid_2  antivirals_2  fatigue_2  malaise_2  anorexia_2  liverBig_2  \\\n",
       "0          0             1          0          0           0           1   \n",
       "1          1             1          0          0           0           0   \n",
       "2          1             1          1          1           1           1   \n",
       "3          1             1          0          0           1           1   \n",
       "4          1             1          0          0           1           1   \n",
       "\n",
       "   liverFirm_2  spleen_2  spiders_2  ascites_2  varices_2  histology_2  \n",
       "0            1         1          1          1          1            1  \n",
       "1            0         1          0          1          1            1  \n",
       "2            1         1          1          1          1            0  \n",
       "3            0         1          0          0          0            1  \n",
       "4            1         1          1          1          1            0  "
      ]
     },
     "execution_count": 41,
     "metadata": {},
     "output_type": "execute_result"
    }
   ],
   "source": [
    "X_train.head()"
   ]
  },
  {
   "cell_type": "code",
   "execution_count": 42,
   "id": "e7b771ee",
   "metadata": {},
   "outputs": [
    {
     "data": {
      "text/plain": [
       "SVC(C=1, kernel='linear', random_state=0)"
      ]
     },
     "execution_count": 42,
     "metadata": {},
     "output_type": "execute_result"
    }
   ],
   "source": [
    "from sklearn.svm import SVC\n",
    "linear_svm = SVC(kernel='linear', C=1, random_state=0)\n",
    "linear_svm.fit(X=X_train, y= y_train)"
   ]
  },
  {
   "cell_type": "code",
   "execution_count": 43,
   "id": "c59be237",
   "metadata": {},
   "outputs": [],
   "source": [
    "train_predictions = linear_svm.predict(X_train)\n",
    "test_predictions = linear_svm.predict(X_test)"
   ]
  },
  {
   "cell_type": "code",
   "execution_count": 44,
   "id": "5b6e0f68",
   "metadata": {},
   "outputs": [
    {
     "name": "stdout",
     "output_type": "stream",
     "text": [
      "TRAIN Conf Matrix : \n",
      " [[18  8]\n",
      " [ 6 92]]\n",
      "\n",
      "TRAIN DATA ACCURACY 0.8870967741935484\n",
      "\n",
      "Train data f1-score for class '1' 0.7199999999999999\n",
      "\n",
      "Train data f1-score for class '2' 0.9292929292929293\n"
     ]
    }
   ],
   "source": [
    "from sklearn.metrics import accuracy_score,f1_score,confusion_matrix\n",
    "\n",
    "print(\"TRAIN Conf Matrix : \\n\", confusion_matrix(y_train, train_predictions))\n",
    "print(\"\\nTRAIN DATA ACCURACY\",accuracy_score(y_train,train_predictions))\n",
    "print(\"\\nTrain data f1-score for class '1'\",f1_score(y_train,train_predictions,pos_label=1))\n",
    "print(\"\\nTrain data f1-score for class '2'\",f1_score(y_train,train_predictions,pos_label=2))"
   ]
  },
  {
   "cell_type": "code",
   "execution_count": 45,
   "id": "4d76aa1a",
   "metadata": {},
   "outputs": [
    {
     "name": "stdout",
     "output_type": "stream",
     "text": [
      "\n",
      "\n",
      "--------------------------------------\n",
      "\n",
      "\n",
      "TEST Conf Matrix : \n",
      " [[ 4  2]\n",
      " [ 2 23]]\n",
      "\n",
      "TEST DATA ACCURACY 0.8709677419354839\n",
      "\n",
      "Test data f1-score for class '1' 0.6666666666666666\n",
      "\n",
      "Test data f1-score for class '2' 0.92\n"
     ]
    }
   ],
   "source": [
    "print(\"\\n\\n--------------------------------------\\n\\n\")\n",
    "\n",
    "print(\"TEST Conf Matrix : \\n\", confusion_matrix(y_test, test_predictions))\n",
    "print(\"\\nTEST DATA ACCURACY\",accuracy_score(y_test,test_predictions))\n",
    "print(\"\\nTest data f1-score for class '1'\",f1_score(y_test,test_predictions,pos_label=1))\n",
    "print(\"\\nTest data f1-score for class '2'\",f1_score(y_test,test_predictions,pos_label=2))"
   ]
  },
  {
   "cell_type": "code",
   "execution_count": 46,
   "id": "c7ef0a0d",
   "metadata": {},
   "outputs": [
    {
     "data": {
      "text/plain": [
       "SVC(C=1, gamma=0.01, random_state=42)"
      ]
     },
     "execution_count": 46,
     "metadata": {},
     "output_type": "execute_result"
    }
   ],
   "source": [
    "svc = SVC(kernel='rbf', random_state=42, gamma=0.01, C=1)\n",
    "svc.fit(X_train,y_train)"
   ]
  },
  {
   "cell_type": "code",
   "execution_count": 47,
   "id": "5f0eadde",
   "metadata": {},
   "outputs": [
    {
     "name": "stdout",
     "output_type": "stream",
     "text": [
      "TRAIN Conf Matrix : \n",
      " [[ 0 26]\n",
      " [ 0 98]]\n",
      "\n",
      "TRAIN DATA ACCURACY 0.7903225806451613\n",
      "\n",
      "Train data f1-score for class '1' 0.0\n",
      "\n",
      "Train data f1-score for class '2' 0.8828828828828829\n",
      "\n",
      "\n",
      "--------------------------------------\n",
      "\n",
      "\n",
      "TEST Conf Matrix : \n",
      " [[ 0  6]\n",
      " [ 0 25]]\n",
      "\n",
      "TEST DATA ACCURACY 0.8064516129032258\n",
      "\n",
      "Test data f1-score for class '1' 0.0\n",
      "\n",
      "Test data f1-score for class '2' 0.8928571428571428\n"
     ]
    }
   ],
   "source": [
    "train_predictions = svc.predict(X_train)\n",
    "test_predictions = svc.predict(X_test)\n",
    "\n",
    "### Train data accuracy\n",
    "\n",
    "print(\"TRAIN Conf Matrix : \\n\", confusion_matrix(y_train, train_predictions))\n",
    "print(\"\\nTRAIN DATA ACCURACY\",accuracy_score(y_train,train_predictions))\n",
    "print(\"\\nTrain data f1-score for class '1'\",f1_score(y_train,train_predictions,pos_label=1))\n",
    "print(\"\\nTrain data f1-score for class '2'\",f1_score(y_train,train_predictions,pos_label=2))\n",
    "\n",
    "### Test data accuracy\n",
    "print(\"\\n\\n--------------------------------------\\n\\n\")\n",
    "\n",
    "print(\"TEST Conf Matrix : \\n\", confusion_matrix(y_test, test_predictions))\n",
    "print(\"\\nTEST DATA ACCURACY\",accuracy_score(y_test,test_predictions))\n",
    "print(\"\\nTest data f1-score for class '1'\",f1_score(y_test,test_predictions,pos_label=1))\n",
    "print(\"\\nTest data f1-score for class '2'\",f1_score(y_test,test_predictions,pos_label=2))"
   ]
  },
  {
   "cell_type": "code",
   "execution_count": 53,
   "id": "088f6bf7",
   "metadata": {},
   "outputs": [
    {
     "data": {
      "text/plain": [
       "SVC(C=1, gamma=0.01, random_state=123)"
      ]
     },
     "execution_count": 53,
     "metadata": {},
     "output_type": "execute_result"
    }
   ],
   "source": [
    "\n",
    "svc = SVC(kernel='rbf', random_state=123, gamma=0.01, C=1)\n",
    "svc.fit(X_train,y_train)"
   ]
  },
  {
   "cell_type": "code",
   "execution_count": 55,
   "id": "2fde3dfa",
   "metadata": {},
   "outputs": [
    {
     "name": "stdout",
     "output_type": "stream",
     "text": [
      "TRAIN Conf Matrix : \n",
      " [[ 0 26]\n",
      " [ 0 98]]\n",
      "\n",
      "TRAIN DATA ACCURACY 0.7903225806451613\n",
      "\n",
      "Train data f1-score for class '1' 0.0\n",
      "\n",
      "Train data f1-score for class '2' 0.8828828828828829\n",
      "\n",
      "\n",
      "--------------------------------------\n",
      "\n",
      "\n",
      "TEST Conf Matrix : \n",
      " [[ 0  6]\n",
      " [ 0 25]]\n",
      "\n",
      "TEST DATA ACCURACY 0.8064516129032258\n",
      "\n",
      "Test data f1-score for class '1' 0.0\n",
      "\n",
      "Test data f1-score for class '2' 0.8928571428571428\n"
     ]
    }
   ],
   "source": [
    "## Predict\n",
    "train_predictions = svc.predict(X_train)\n",
    "test_predictions = svc.predict(X_test)\n",
    "\n",
    "### Train data accuracy\n",
    "\n",
    "print(\"TRAIN Conf Matrix : \\n\", confusion_matrix(y_train, train_predictions))\n",
    "print(\"\\nTRAIN DATA ACCURACY\",accuracy_score(y_train,train_predictions))\n",
    "print(\"\\nTrain data f1-score for class '1'\",f1_score(y_train,train_predictions,pos_label=1))\n",
    "print(\"\\nTrain data f1-score for class '2'\",f1_score(y_train,train_predictions,pos_label=2))\n",
    "\n",
    "### Test data accuracy\n",
    "print(\"\\n\\n--------------------------------------\\n\\n\")\n",
    "\n",
    "print(\"TEST Conf Matrix : \\n\", confusion_matrix(y_test, test_predictions))\n",
    "print(\"\\nTEST DATA ACCURACY\",accuracy_score(y_test,test_predictions))\n",
    "print(\"\\nTest data f1-score for class '1'\",f1_score(y_test,test_predictions,pos_label=1))\n",
    "print(\"\\nTest data f1-score for class '2'\",f1_score(y_test,test_predictions,pos_label=2))"
   ]
  },
  {
   "cell_type": "code",
   "execution_count": 50,
   "id": "87b610d2",
   "metadata": {},
   "outputs": [
    {
     "name": "stdout",
     "output_type": "stream",
     "text": [
      "Fitting 5 folds for each of 252 candidates, totalling 1260 fits\n"
     ]
    },
    {
     "name": "stderr",
     "output_type": "stream",
     "text": [
      "d:\\programming\\artifical intelligance\\Programs\\anacondaInstall\\lib\\site-packages\\sklearn\\model_selection\\_validation.py:372: FitFailedWarning: \n",
      "315 fits failed out of a total of 1260.\n",
      "The score on these train-test partitions for these parameters will be set to nan.\n",
      "If these failures are not expected, you can try to debug them by setting error_score='raise'.\n",
      "\n",
      "Below are more details about the failures:\n",
      "--------------------------------------------------------------------------------\n",
      "315 fits failed with the following error:\n",
      "Traceback (most recent call last):\n",
      "  File \"d:\\programming\\artifical intelligance\\Programs\\anacondaInstall\\lib\\site-packages\\sklearn\\model_selection\\_validation.py\", line 680, in _fit_and_score\n",
      "    estimator.fit(X_train, y_train, **fit_params)\n",
      "  File \"d:\\programming\\artifical intelligance\\Programs\\anacondaInstall\\lib\\site-packages\\sklearn\\svm\\_base.py\", line 255, in fit\n",
      "    fit(X, y, sample_weight, solver_type, kernel, random_seed=seed)\n",
      "  File \"d:\\programming\\artifical intelligance\\Programs\\anacondaInstall\\lib\\site-packages\\sklearn\\svm\\_base.py\", line 315, in _dense_fit\n",
      "    ) = libsvm.fit(\n",
      "  File \"sklearn\\svm\\_libsvm.pyx\", line 173, in sklearn.svm._libsvm.fit\n",
      "ValueError: 'guassian' is not in list\n",
      "\n",
      "  warnings.warn(some_fits_failed_message, FitFailedWarning)\n",
      "d:\\programming\\artifical intelligance\\Programs\\anacondaInstall\\lib\\site-packages\\sklearn\\model_selection\\_search.py:969: UserWarning: One or more of the test scores are non-finite: [0.79033333 0.79033333        nan 0.79033333 0.79033333 0.79033333\n",
      "        nan 0.79033333 0.79033333 0.79033333        nan 0.79033333\n",
      " 0.79033333 0.79033333        nan 0.79033333 0.79033333 0.79033333\n",
      "        nan 0.79833333 0.79033333 0.79033333        nan 0.798\n",
      " 0.79033333 0.79033333        nan 0.798      0.79033333 0.79033333\n",
      "        nan 0.79033333 0.79033333 0.79033333        nan 0.79033333\n",
      " 0.79033333 0.79033333        nan 0.79033333 0.79033333 0.79033333\n",
      "        nan 0.79033333 0.79033333 0.79033333        nan 0.806\n",
      " 0.79033333 0.79033333        nan 0.798      0.79033333 0.79033333\n",
      "        nan 0.798      0.79033333 0.79033333        nan 0.79033333\n",
      " 0.79033333 0.79033333        nan 0.79033333 0.79033333 0.79033333\n",
      "        nan 0.79033333 0.79033333 0.79033333        nan 0.79033333\n",
      " 0.79033333 0.79033333        nan 0.798      0.79033333 0.79033333\n",
      "        nan 0.798      0.79033333 0.79033333        nan 0.798\n",
      " 0.84733333 0.79033333        nan 0.79033333 0.84733333 0.79033333\n",
      "        nan 0.79033333 0.84733333 0.79033333        nan 0.79033333\n",
      " 0.84733333 0.81466667        nan 0.79833333 0.84733333 0.81433333\n",
      "        nan 0.798      0.84733333 0.79033333        nan 0.798\n",
      " 0.84733333 0.79033333        nan 0.798      0.847      0.79033333\n",
      "        nan 0.79033333 0.847      0.79033333        nan 0.79033333\n",
      " 0.847      0.823             nan 0.79033333 0.847      0.79033333\n",
      "        nan 0.806      0.847      0.83033333        nan 0.798\n",
      " 0.847      0.79033333        nan 0.798      0.847      0.79033333\n",
      "        nan 0.798      0.831      0.79033333        nan 0.79033333\n",
      " 0.831      0.823             nan 0.79033333 0.831      0.83933333\n",
      "        nan 0.79033333 0.831      0.80633333        nan 0.798\n",
      " 0.831      0.83033333        nan 0.798      0.831      0.79033333\n",
      "        nan 0.798      0.831      0.79033333        nan 0.798\n",
      " 0.83133333 0.79033333        nan 0.79033333 0.83133333 0.79033333\n",
      "        nan 0.79033333 0.83133333 0.79033333        nan 0.79033333\n",
      " 0.83133333 0.81466667        nan 0.83833333 0.83133333 0.83033333\n",
      "        nan 0.798      0.83133333 0.79033333        nan 0.798\n",
      " 0.83133333 0.79033333        nan 0.798      0.80666667 0.79033333\n",
      "        nan 0.79033333 0.80666667 0.79033333        nan 0.79033333\n",
      " 0.80666667 0.79033333        nan 0.79033333 0.80666667 0.855\n",
      "        nan 0.85433333 0.80666667 0.82233333        nan 0.798\n",
      " 0.80666667 0.79033333        nan 0.798      0.80666667 0.79033333\n",
      "        nan 0.798      0.79033333 0.79033333        nan 0.79033333\n",
      " 0.79033333 0.79033333        nan 0.79033333 0.79033333 0.79033333\n",
      "        nan 0.79033333 0.79033333 0.79033333        nan 0.79033333\n",
      " 0.79033333 0.79033333        nan 0.83033333 0.79033333 0.79033333\n",
      "        nan 0.798      0.79033333 0.79033333        nan 0.798     ]\n",
      "  warnings.warn(\n"
     ]
    },
    {
     "data": {
      "text/plain": [
       "GridSearchCV(cv=5, estimator=SVC(),\n",
       "             param_grid={'C': [0.001, 0.01, 0.1, 1, 10, 100, 5, 3, 0.02],\n",
       "                         'gamma': [0.0001, 0.001, 0.01, 0.1, 1, 10, 100],\n",
       "                         'kernel': ['linear', 'rbf', 'guassian', 'poly']},\n",
       "             verbose=1)"
      ]
     },
     "execution_count": 50,
     "metadata": {},
     "output_type": "execute_result"
    }
   ],
   "source": [
    "from sklearn.model_selection import GridSearchCV\n",
    "\n",
    "svc_grid = SVC()\n",
    "\n",
    "param_grid = {\n",
    "                'C': [0.001, 0.01, 0.1, 1, 10, 100, 5, 3, 0.02 ],\n",
    "                'gamma': [ 0.0001, 0.001, 0.01, 0.1, 1, 10, 100],\n",
    "                'kernel':['linear', 'rbf' , 'guassian','poly'],\n",
    "             }\n",
    "\n",
    "svc_cv_grid = GridSearchCV(estimator = svc_grid, param_grid = param_grid, cv = 5, verbose=1)\n",
    "svc_cv_grid.fit(X=X_train, y=y_train)"
   ]
  },
  {
   "cell_type": "code",
   "execution_count": 51,
   "id": "40c0fef2",
   "metadata": {},
   "outputs": [
    {
     "data": {
      "text/plain": [
       "SVC(C=3, gamma=0.1)"
      ]
     },
     "execution_count": 51,
     "metadata": {},
     "output_type": "execute_result"
    }
   ],
   "source": [
    "svc_best = svc_cv_grid.best_estimator_\n",
    "svc_best"
   ]
  },
  {
   "cell_type": "code",
   "execution_count": 52,
   "id": "02c41fd3",
   "metadata": {},
   "outputs": [
    {
     "name": "stdout",
     "output_type": "stream",
     "text": [
      "TRAIN DATA ACCURACY 0.9112903225806451\n",
      "\n",
      "Train data f1-score for class '1' 0.7755102040816326\n",
      "\n",
      "Train data f1-score for class '2' 0.9447236180904524\n",
      "\n",
      "\n",
      "--------------------------------------\n",
      "\n",
      "\n",
      "TEST DATA ACCURACY 0.8709677419354839\n",
      "\n",
      "Test data f1-score for class '1' 0.6666666666666666\n",
      "\n",
      "Test data f1-score for class '2' 0.92\n"
     ]
    }
   ],
   "source": [
    "## Predict\n",
    "train_predictions = svc_best.predict(X_train)\n",
    "test_predictions = svc_best.predict(X_test)\n",
    "\n",
    "print(\"TRAIN DATA ACCURACY\",accuracy_score(y_train,train_predictions))\n",
    "print(\"\\nTrain data f1-score for class '1'\",f1_score(y_train,train_predictions,pos_label=1))\n",
    "print(\"\\nTrain data f1-score for class '2'\",f1_score(y_train,train_predictions,pos_label=2))\n",
    "\n",
    "### Test data accuracy\n",
    "print(\"\\n\\n--------------------------------------\\n\\n\")\n",
    "print(\"TEST DATA ACCURACY\",accuracy_score(y_test,test_predictions))\n",
    "print(\"\\nTest data f1-score for class '1'\",f1_score(y_test,test_predictions,pos_label=1))\n",
    "print(\"\\nTest data f1-score for class '2'\",f1_score(y_test,test_predictions,pos_label=2))"
   ]
  },
  {
   "cell_type": "code",
   "execution_count": null,
   "id": "3f5a9d09",
   "metadata": {},
   "outputs": [],
   "source": []
  },
  {
   "cell_type": "code",
   "execution_count": null,
   "id": "9b1a79bc",
   "metadata": {},
   "outputs": [],
   "source": []
  },
  {
   "cell_type": "code",
   "execution_count": null,
   "id": "0ef08db2",
   "metadata": {},
   "outputs": [],
   "source": []
  }
 ],
 "metadata": {
  "kernelspec": {
   "display_name": "base",
   "language": "python",
   "name": "python3"
  },
  "language_info": {
   "codemirror_mode": {
    "name": "ipython",
    "version": 3
   },
   "file_extension": ".py",
   "mimetype": "text/x-python",
   "name": "python",
   "nbconvert_exporter": "python",
   "pygments_lexer": "ipython3",
   "version": "3.9.13"
  }
 },
 "nbformat": 4,
 "nbformat_minor": 5
}
